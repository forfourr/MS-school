{
  "nbformat": 4,
  "nbformat_minor": 0,
  "metadata": {
    "colab": {
      "private_outputs": true,
      "provenance": [],
      "authorship_tag": "ABX9TyMmQqYcehlJxnNiCyfNtVw1"
    },
    "kernelspec": {
      "name": "python3",
      "display_name": "Python 3"
    },
    "language_info": {
      "name": "python"
    }
  },
  "cells": [
    {
      "cell_type": "markdown",
      "source": [
        "# Computer Vision Image analysis"
      ],
      "metadata": {
        "id": "efkBiLgclktx"
      }
    },
    {
      "cell_type": "code",
      "source": [
        "import requests\n",
        "from io import BytesIO\n",
        "from PIL import Image"
      ],
      "metadata": {
        "id": "jHci2tmSl9y6"
      },
      "execution_count": null,
      "outputs": []
    },
    {
      "cell_type": "code",
      "source": [
        "#이미지 불러오기\n",
        "img_url = \"https://menu.mt.co.kr/moneyweek/thumb/2017/05/17/06/2017051709058028746_1.jpg\"\n",
        "\n",
        "\n",
        "response = requests.get(img_url)\n",
        "img = BytesIO(response.content)\n",
        "Image.open(img)\n",
        "\n",
        "#축약\n",
        "#Image.open(BytesIO(requests.get(img_url)))\n"
      ],
      "metadata": {
        "id": "w6Q0AbfZqlWJ"
      },
      "execution_count": null,
      "outputs": []
    },
    {
      "cell_type": "code",
      "source": [
        "#Azure이랑 연결\n",
        "key ='cb43853f55ae46578c477096660dd17b'\n",
        "endpoint ='https://lapuser62computervision.cognitiveservices.azure.com/' + 'vision/v2.0/'"
      ],
      "metadata": {
        "id": "I5njyQg6rPos"
      },
      "execution_count": null,
      "outputs": []
    },
    {
      "cell_type": "code",
      "source": [
        "#Image analyze API\n",
        "analyze_endpoint =  endpoint + 'analyze'\n",
        "\n",
        "#Oject detection API\n",
        "detect_endpoint = endpoint + 'detect'"
      ],
      "metadata": {
        "id": "TnerKF6SuHVP"
      },
      "execution_count": null,
      "outputs": []
    },
    {
      "cell_type": "code",
      "source": [
        "#웹통신할 때 header + params + data 가 필요 요소\n",
        "header = {'Ocp-Apim-Subscription-Key': key}  #key 값\n",
        "params = {'visualFeatures':'Categories,Description,Color'}\n",
        "data = {'url': img_url}"
      ],
      "metadata": {
        "id": "YJdZBWYLvnDp"
      },
      "execution_count": null,
      "outputs": []
    },
    {
      "cell_type": "code",
      "source": [
        "#호출\n",
        "response = requests.post(analyze_endpoint,\n",
        "                         headers =header,\n",
        "                         params = params,\n",
        "                         json = data)"
      ],
      "metadata": {
        "id": "rzXVss6zvxAR"
      },
      "execution_count": null,
      "outputs": []
    },
    {
      "cell_type": "code",
      "source": [
        "result = response.json()\n",
        "result"
      ],
      "metadata": {
        "id": "UfJ4__zYvxGW"
      },
      "execution_count": null,
      "outputs": []
    },
    {
      "cell_type": "code",
      "source": [],
      "metadata": {
        "id": "ePeLm9dGv7V-"
      },
      "execution_count": null,
      "outputs": []
    }
  ]
}