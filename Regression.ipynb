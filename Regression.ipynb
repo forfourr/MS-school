{
  "nbformat": 4,
  "nbformat_minor": 0,
  "metadata": {
    "colab": {
      "private_outputs": true,
      "provenance": [],
      "authorship_tag": "ABX9TyOVsEBhkSuPBcK/RVEpnTbC",
      "include_colab_link": true
    },
    "kernelspec": {
      "name": "python3",
      "display_name": "Python 3"
    },
    "language_info": {
      "name": "python"
    }
  },
  "cells": [
    {
      "cell_type": "markdown",
      "metadata": {
        "id": "view-in-github",
        "colab_type": "text"
      },
      "source": [
        "<a href=\"https://colab.research.google.com/github/forfourr/test-repo/blob/main/Regression.ipynb\" target=\"_parent\"><img src=\"https://colab.research.google.com/assets/colab-badge.svg\" alt=\"Open In Colab\"/></a>"
      ]
    },
    {
      "cell_type": "code",
      "execution_count": null,
      "metadata": {
        "id": "Q78R5QttdfUq"
      },
      "outputs": [],
      "source": [
        "import numpy as np\n",
        "import pandas as pd\n",
        "import sklearn\n",
        "import matplotlib.pyplot as plt"
      ]
    },
    {
      "cell_type": "code",
      "source": [
        "from sklearn.datasets import load_diabetes\n",
        "diabetes = load_diabetes()"
      ],
      "metadata": {
        "id": "clqI1I6YfXtc"
      },
      "execution_count": null,
      "outputs": []
    },
    {
      "cell_type": "code",
      "source": [
        "data = diabetes.data\n",
        "label = diabetes.target\n",
        "col = diabetes.feature_names"
      ],
      "metadata": {
        "id": "p1Nl1Yhbip62"
      },
      "execution_count": null,
      "outputs": []
    },
    {
      "cell_type": "code",
      "source": [
        "data = pd.DataFrame(data, columns=col)\n",
        "data.head(10)"
      ],
      "metadata": {
        "id": "51atpMbGi2HY"
      },
      "execution_count": null,
      "outputs": []
    },
    {
      "cell_type": "code",
      "source": [
        "data.shape"
      ],
      "metadata": {
        "id": "dmStBu6Hi-g0"
      },
      "execution_count": null,
      "outputs": []
    },
    {
      "cell_type": "markdown",
      "source": [
        "## Linear Regression"
      ],
      "metadata": {
        "id": "l69qfwCEjJ05"
      }
    },
    {
      "cell_type": "code",
      "source": [
        "from sklearn.linear_model import LinearRegression\n",
        "sim_lr = LinearRegression()"
      ],
      "metadata": {
        "id": "KyoB7bAMjZSa"
      },
      "execution_count": null,
      "outputs": []
    },
    {
      "cell_type": "code",
      "source": [
        "from sklearn.model_selection import train_test_split\n",
        "X_train, X_test, y_train, y_test = train_test_split(data, label,\n",
        "                                                    test_size=0.2, random_state=42)"
      ],
      "metadata": {
        "id": "GwYA-XuWkq7p"
      },
      "execution_count": null,
      "outputs": []
    },
    {
      "cell_type": "code",
      "source": [
        "# 혈당 수치 \n",
        "sim_lr.fit(X_train['s6'].values.reshape((-1,1)), y_train)"
      ],
      "metadata": {
        "id": "50KDStxklftD"
      },
      "execution_count": null,
      "outputs": []
    },
    {
      "cell_type": "code",
      "source": [
        "y_pred = sim_lr.predict(X_test['s6'].values.reshape((-1,1)))"
      ],
      "metadata": {
        "id": "Ws35uUQfsAdZ"
      },
      "execution_count": null,
      "outputs": []
    },
    {
      "cell_type": "code",
      "source": [
        "from sklearn.metrics import r2_score\n",
        "print('단순 선형 회귀, R2: {:.2f}'.format(r2_score(y_test, y_pred)))\n",
        "print('단순 선형 회귀 계수(w): {:.2f}, 절편(b): {:.2f}'.format(sim_lr.coef_[0], sim_lr.intercept_))"
      ],
      "metadata": {
        "id": "gAmur6vVsBqm"
      },
      "execution_count": null,
      "outputs": []
    },
    {
      "cell_type": "code",
      "source": [
        "#Test data 분포 확인인\n",
        "plt.scatter(X_test['s6'],y_test,s=10)"
      ],
      "metadata": {
        "id": "JX3IkyzdsC-V"
      },
      "execution_count": null,
      "outputs": []
    },
    {
      "cell_type": "code",
      "source": [
        "#linear line 생성\n",
        "#test data에서 최고값 최대값 사이에서 10개 선택택\n",
        "line_x = np.linspace(np.min(X_test['s6']),np.max(X_test['s6']),10)\n",
        "line_y = sim_lr.predict(line_x.reshape((-1,1)))\n",
        "\n",
        "plt.plot(line_x, line_y, c='red')\n",
        "plt.scatter(X_test['s6'],y_test,s=10, c ='darkblue')"
      ],
      "metadata": {
        "id": "8UOcWee3sj8M"
      },
      "execution_count": null,
      "outputs": []
    },
    {
      "cell_type": "markdown",
      "source": [
        "## Multiple Linear Regression"
      ],
      "metadata": {
        "id": "KXrl4S9SuEhe"
      }
    },
    {
      "cell_type": "code",
      "source": [
        "mul_lr = LinearRegression()\n",
        "mul_lr.fit(X_train, y_train)\n",
        "y_pred = mul_lr.predict(X_test)"
      ],
      "metadata": {
        "id": "ArW-IWbaxjVY"
      },
      "execution_count": null,
      "outputs": []
    },
    {
      "cell_type": "code",
      "source": [
        "print('다중 선형 회귀 \\nR2: {:.2f}'.format(r2_score(y_test, y_pred)))"
      ],
      "metadata": {
        "id": "5aO1d4e0xszS"
      },
      "execution_count": null,
      "outputs": []
    },
    {
      "cell_type": "markdown",
      "source": [
        "## Decision Tree Regression"
      ],
      "metadata": {
        "id": "mkhad1TRx4FK"
      }
    },
    {
      "cell_type": "code",
      "source": [
        "from sklearn.tree import DecisionTreeRegressor\n",
        "dt_rg = DecisionTreeRegressor()\n",
        "dt_rg.fit(X_train['s6'].values.reshape((-1,1)),y_train)\n",
        "y_pred = dt_rg.predict(X_test['s6'].values.reshape((-1,1)))"
      ],
      "metadata": {
        "id": "ocnUomVNzuCw"
      },
      "execution_count": null,
      "outputs": []
    },
    {
      "cell_type": "code",
      "source": [
        "print(\"R2: {:.2f}\".format(r2_score(y_test,y_pred)))"
      ],
      "metadata": {
        "id": "hlUpCSeR0pgw"
      },
      "execution_count": null,
      "outputs": []
    },
    {
      "cell_type": "code",
      "source": [
        "#linear line의 생성\n",
        "line_x = np.linspace(np.min(X_test['s6']), np.max(X_test['s6']), 10)\n",
        "line_y = dt_rg.predict(line_x.reshape((-1,1)))\n",
        "\n",
        "print(line_x)\n",
        "print(line_y)\n",
        "\n",
        "#Test data를 표현 \n",
        "plt.scatter(X_test['s6'], y_test, s=10, c='black')\n",
        "plt.plot(line_x, line_y, c='red')\n",
        "plt.legend(['Test data sample','Regression line'])"
      ],
      "metadata": {
        "id": "a86-71G902DF"
      },
      "execution_count": null,
      "outputs": []
    },
    {
      "cell_type": "markdown",
      "source": [
        "- 전체 col으로 만들기 -> multiple"
      ],
      "metadata": {
        "id": "pnsDrp9y5C5g"
      }
    },
    {
      "cell_type": "code",
      "source": [
        "from sklearn.tree import DecisionTreeRegressor\n",
        "from sklearn.metrics import r2_score\n",
        "\n",
        "mt_rg = DecisionTreeRegressor(max_depth=5)\n",
        "mt_rg.fit(X_train,y_train)\n",
        "y_pred = mt_rg.predict(X_test)\n",
        "print(\"r2: {:.2f}\".format(r2_score(y_test,y_pred)))\n",
        "# line_x = np.linspace(np.min(X_test), np.max(X_test), 10)\n",
        "# line_y = mt_rg.predict(line_x)\n",
        "# print(line_x)\n",
        "# print(line_y)\n"
      ],
      "metadata": {
        "id": "HMHHCJ0R5L3O"
      },
      "execution_count": null,
      "outputs": []
    },
    {
      "cell_type": "markdown",
      "source": [
        "## SVM"
      ],
      "metadata": {
        "id": "KRbg-bFe5e6O"
      }
    },
    {
      "cell_type": "code",
      "source": [
        "from sklearn.svm import SVR\n",
        "\n",
        "svm_regre = SVR()\n",
        "svm_regre.fit(X_train['s6'].values.reshape((-1,1)), y_train)\n",
        "y_pred = svm_regre.predict(X_test['s6'].values.reshape((-1,1)))\n",
        "print('단순 서포트 벡터 머신 회귀, R2: {:.2f}'.format(r2_score(y_test, y_pred)))"
      ],
      "metadata": {
        "id": "pnHmVHLZ7uou"
      },
      "execution_count": null,
      "outputs": []
    },
    {
      "cell_type": "code",
      "source": [
        "for i in [1,2,3,4,5,6,7,8,9,10,11,12,13,14,15,16,17,18,19,20]:\n",
        "  m_regr = SVR(C=i)\n",
        "  m_regr.fit(X_train, y_train)\n",
        "  y_pred = m_regr.predict(X_test)\n",
        "  print('다중 서포트 벡터 머신 회귀,i={} R2: {:.2f}'.format(i, r2_score(y_test, y_pred)))"
      ],
      "metadata": {
        "id": "NSm3SwOW_zQ9"
      },
      "execution_count": null,
      "outputs": []
    },
    {
      "cell_type": "markdown",
      "source": [
        "## Multi Layer Perceptron Regressor "
      ],
      "metadata": {
        "id": "wi6EIXFSAYc9"
      }
    },
    {
      "cell_type": "code",
      "source": [
        "# Multi Layer Perceptron Regressor \n",
        "from sklearn.neural_network import MLPRegressor\n",
        "mlp_regr = MLPRegressor()\n",
        "mlp_regr.fit(X_train, y_train)\n",
        "y_pred = mlp_regr.predict(X_test)\n",
        "print('다중 MLP 회귀 R2: {:.2f}'.format(r2_score(y_test, y_pred)))"
      ],
      "metadata": {
        "id": "ykEdAsp4_1cP"
      },
      "execution_count": null,
      "outputs": []
    },
    {
      "cell_type": "code",
      "source": [],
      "metadata": {
        "id": "XcoU5fApAbKu"
      },
      "execution_count": null,
      "outputs": []
    }
  ]
}