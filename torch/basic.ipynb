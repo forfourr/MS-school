{
 "cells": [
  {
   "attachments": {},
   "cell_type": "markdown",
   "metadata": {},
   "source": [
    "# tensor basic test"
   ]
  },
  {
   "attachments": {},
   "cell_type": "markdown",
   "metadata": {},
   "source": [
    "## Tensor reset\n",
    "- torch.tensor\n",
    "- torch.from_numpy: 원본 데이터와 메모리 공유"
   ]
  },
  {
   "cell_type": "code",
   "execution_count": 1,
   "metadata": {},
   "outputs": [
    {
     "name": "stdout",
     "output_type": "stream",
     "text": [
      "tensor([[1, 2],\n",
      "        [3, 4]]) \n",
      " <class 'list'> -> <class 'torch.Tensor'>\n",
      "tensor([[1, 2],\n",
      "        [3, 4]], dtype=torch.int32) \n",
      " <class 'numpy.ndarray'> -> <class 'torch.Tensor'>\n"
     ]
    }
   ],
   "source": [
    "import torch\n",
    "import numpy as np\n",
    "\n",
    "#텐서 초기화 하기 위해 데이터로 부터 텐서 생성\n",
    "#데이터의 자료형(data type)은 자동으로 유추\n",
    "data = [[1,2],[3,4]]    #list\n",
    "\n",
    "#list -> tensor\n",
    "x_data = torch.tensor(data)\n",
    "print(x_data,'\\n', type(data),'->',type(x_data))\n",
    "\n",
    "\n",
    "#array -> tensor\n",
    "np_array = np.array(data)   #list -> array\n",
    "x_np = torch.from_numpy(np_array)   \n",
    "print(x_np,'\\n', type(np_array),'->',type(x_np))\n",
    "\n"
   ]
  },
  {
   "cell_type": "code",
   "execution_count": 2,
   "metadata": {},
   "outputs": [
    {
     "name": "stdout",
     "output_type": "stream",
     "text": [
      "<class 'torch.Tensor'>\n",
      "<class 'torch.Tensor'>\n",
      "[5 2 3]\n",
      "tensor([ 1, 10,  3], dtype=torch.int32)\n",
      "tensor([5, 2, 3], dtype=torch.int32)\n"
     ]
    }
   ],
   "source": [
    "# NumPy 배열 생성\n",
    "np_array = np.array([1, 2, 3])\n",
    "\n",
    "\n",
    "# torch.tensor()를 사용하여 NumPy 배열을 Tensor로 변환\n",
    "tensor_1 = torch.tensor(np_array)\n",
    "print(type(tensor_1))\n",
    "\n",
    "# torch.from_numpy()를 사용하여 NumPy 배열을 Tensor로 변환\n",
    "tensor_2 = torch.from_numpy(np_array)\n",
    "print(type(tensor_2))\n",
    "\n",
    "# NumPy 배열과 Tensor의 데이터 변경\n",
    "np_array[0] = 5\n",
    "tensor_1[1] = 10\n",
    "\n",
    "print(np_array)     # 출력: [5 2 3]\n",
    "print(tensor_1)     # 출력: tensor([ 1, 10,  3])\n",
    "print(tensor_2)     # 출력: tensor([5, 2, 3])"
   ]
  },
  {
   "attachments": {},
   "cell_type": "markdown",
   "metadata": {},
   "source": [
    "****torch.from_numpy는 원본 데이터의 메모리를 공유한다"
   ]
  },
  {
   "cell_type": "code",
   "execution_count": 75,
   "metadata": {},
   "outputs": [
    {
     "name": "stdout",
     "output_type": "stream",
     "text": [
      "tensor([1., 1., 1., 1., 1.])\n",
      "[1. 1. 1. 1. 1.]\n",
      "tensor([2., 2., 2., 2., 2.])\n",
      "[2. 2. 2. 2. 2.]\n"
     ]
    }
   ],
   "source": [
    "###################\n",
    "#같은 메모리 공간 할당받음\n",
    "t = torch.ones(5,)\n",
    "\n",
    "print(t)\n",
    "n = t.numpy()\n",
    "print(n)\n",
    "\n",
    "t.add_(1)     #add_사용!!\n",
    "print(t)\n",
    "print(n)"
   ]
  },
  {
   "attachments": {},
   "cell_type": "markdown",
   "metadata": {},
   "source": [
    "****torch -> numpy (.numpy)는 같은 메모리 할당받는다!!!!"
   ]
  },
  {
   "cell_type": "code",
   "execution_count": 3,
   "metadata": {},
   "outputs": [
    {
     "data": {
      "text/plain": [
       "tensor([[1, 2],\n",
       "        [3, 4]])"
      ]
     },
     "execution_count": 3,
     "metadata": {},
     "output_type": "execute_result"
    }
   ],
   "source": [
    "x_data"
   ]
  },
  {
   "attachments": {},
   "cell_type": "markdown",
   "metadata": {},
   "source": [
    "- torch.ones_like: 1로 이루어진 텐서\n",
    "- torch.rand_like: 랜럼 텐서 "
   ]
  },
  {
   "cell_type": "code",
   "execution_count": 14,
   "metadata": {},
   "outputs": [
    {
     "name": "stdout",
     "output_type": "stream",
     "text": [
      "ones Tensor: \n",
      "tensor([[1, 1],\n",
      "        [1, 1]]) \n",
      " <class 'torch.Tensor'>\n",
      "Random Tensor: \n",
      " tensor([[0.5507, 0.5637],\n",
      "        [0.7980, 0.6003]])\n",
      " <class 'torch.Tensor'>\n"
     ]
    }
   ],
   "source": [
    "#다른 텐서로부터 생성\n",
    "#명시적 override를 하지 않으면, 인자로 주어진 텐서\n",
    "\n",
    "#ones_like : 원본 데이터 속성 유지\n",
    "x_ones = torch.ones_like(x_data)\n",
    "print(f\"ones Tensor: \\n{x_ones} \\n\", type(x_ones))\n",
    "\n",
    "#\n",
    "x_rand = torch.rand_like(x_data, dtype=torch.float)   #왜 int는 안되는지?\n",
    "print(f\"Random Tensor: \\n {x_rand}\\n\", type(x_rand))"
   ]
  },
  {
   "cell_type": "code",
   "execution_count": 45,
   "metadata": {},
   "outputs": [
    {
     "name": "stdout",
     "output_type": "stream",
     "text": [
      "random: tensor([[[3.0802, 3.4839, 4.5183, 2.2850],\n",
      "         [4.9942, 2.4169, 0.9382, 1.1430],\n",
      "         [4.6767, 2.2364, 3.9461, 3.9746]],\n",
      "\n",
      "        [[1.1779, 2.3117, 1.7415, 2.9319],\n",
      "         [1.0926, 1.6039, 1.0690, 3.9527],\n",
      "         [0.5787, 1.9033, 1.7045, 2.6688]]])\n",
      "ones :tensor([[[1., 1., 1., 1.],\n",
      "         [1., 1., 1., 1.],\n",
      "         [1., 1., 1., 1.]],\n",
      "\n",
      "        [[1., 1., 1., 1.],\n",
      "         [1., 1., 1., 1.],\n",
      "         [1., 1., 1., 1.]]])\n",
      "Zeros :tensor([[[0., 0., 0., 0.],\n",
      "         [0., 0., 0., 0.],\n",
      "         [0., 0., 0., 0.]],\n",
      "\n",
      "        [[0., 0., 0., 0.],\n",
      "         [0., 0., 0., 0.],\n",
      "         [0., 0., 0., 0.]]])\n"
     ]
    }
   ],
   "source": [
    "#shape에 맞는 tensor 만들기\n",
    "\n",
    "shape =(2,3,4)\n",
    "rand_tensor = torch.rand(shape)*5 #0-1사이 값이므로 *5로 해주므로 0-5사이 값\n",
    "ones_tensor = torch.ones(shape)\n",
    "zeros_tensor = torch.zeros(shape)\n",
    "\n",
    "print(f\"random: {rand_tensor}\")\n",
    "print(f\"ones :{ones_tensor}\")\n",
    "print(f\"Zeros :{zeros_tensor}\")"
   ]
  },
  {
   "cell_type": "code",
   "execution_count": 22,
   "metadata": {},
   "outputs": [
    {
     "name": "stdout",
     "output_type": "stream",
     "text": [
      "rnad tensor: tensor([[7.3285, 8.6496, 6.5455, 6.4652],\n",
      "        [7.7215, 8.7615, 9.3290, 7.0596],\n",
      "        [7.5997, 8.4116, 6.5132, 8.4224]])\n"
     ]
    }
   ],
   "source": [
    "#유효 범위 주어지기\n",
    "shape_temp = (3,4,)\n",
    "min_val = 6\n",
    "max_val =10\n",
    "rand_tensor_temp = torch.rand(shape_temp) *(max_val - min_val) + min_val\n",
    "print(f\"rnad tensor: {rand_tensor_temp}\")"
   ]
  },
  {
   "attachments": {},
   "cell_type": "markdown",
   "metadata": {},
   "source": [
    "## Tensor 속성"
   ]
  },
  {
   "cell_type": "code",
   "execution_count": 25,
   "metadata": {},
   "outputs": [
    {
     "name": "stdout",
     "output_type": "stream",
     "text": [
      "tensor([[0.9901, 0.0682, 0.1157, 0.7901],\n",
      "        [0.3635, 0.1632, 0.3571, 0.6390],\n",
      "        [0.2862, 0.5881, 0.3947, 0.2890]])\n",
      "<class 'torch.Tensor'>\n",
      "torch.Size([3, 4])\n",
      "cpu\n"
     ]
    }
   ],
   "source": [
    "tensor_val = torch.rand(3,4)\n",
    "print(tensor_val)\n",
    "print(type(tensor_val))\n",
    "print(tensor_val.shape)\n",
    "print(tensor_val.device) #device확인"
   ]
  },
  {
   "cell_type": "code",
   "execution_count": 28,
   "metadata": {},
   "outputs": [
    {
     "name": "stdout",
     "output_type": "stream",
     "text": [
      "cpu\n"
     ]
    }
   ],
   "source": [
    "#device 정보 가져오기\n",
    "device = 'cuda' if torch.cuda.is_available() else 'cpu'\n",
    "print(device)\n",
    "\n",
    "#cuda로 바꿀때\n",
    "#tensor_val.to('cuda')\n"
   ]
  },
  {
   "attachments": {},
   "cell_type": "markdown",
   "metadata": {},
   "source": [
    "## 슬라이싱"
   ]
  },
  {
   "attachments": {},
   "cell_type": "markdown",
   "metadata": {},
   "source": [
    "### tensor 값 바꾸기"
   ]
  },
  {
   "cell_type": "code",
   "execution_count": 29,
   "metadata": {},
   "outputs": [
    {
     "data": {
      "text/plain": [
       "tensor([[0.9901, 0.0682, 0.1157, 0.7901],\n",
       "        [0.3635, 0.1632, 0.3571, 0.6390],\n",
       "        [0.2862, 0.5881, 0.3947, 0.2890]])"
      ]
     },
     "execution_count": 29,
     "metadata": {},
     "output_type": "execute_result"
    }
   ],
   "source": [
    "tensor_val"
   ]
  },
  {
   "cell_type": "code",
   "execution_count": 31,
   "metadata": {},
   "outputs": [
    {
     "name": "stdout",
     "output_type": "stream",
     "text": [
      "tensor([[0.9901, 0.0000, 0.1157, 0.7901],\n",
      "        [0.3635, 0.0000, 0.3571, 0.6390],\n",
      "        [0.2862, 0.0000, 0.3947, 0.2890]])\n"
     ]
    }
   ],
   "source": [
    "tensor_val[:,1]=0\n",
    "print(tensor_val)"
   ]
  },
  {
   "cell_type": "code",
   "execution_count": 46,
   "metadata": {},
   "outputs": [
    {
     "data": {
      "text/plain": [
       "tensor([[[3.0802, 3.4839, 4.5183, 2.2850],\n",
       "         [4.9942, 2.4169, 0.9382, 1.1430],\n",
       "         [4.6767, 2.2364, 3.9461, 3.9746]],\n",
       "\n",
       "        [[1.1779, 2.3117, 1.7415, 2.9319],\n",
       "         [1.0926, 1.6039, 1.0690, 3.9527],\n",
       "         [0.5787, 1.9033, 1.7045, 2.6688]]])"
      ]
     },
     "execution_count": 46,
     "metadata": {},
     "output_type": "execute_result"
    }
   ],
   "source": [
    "rand_tensor"
   ]
  },
  {
   "cell_type": "code",
   "execution_count": 47,
   "metadata": {},
   "outputs": [
    {
     "name": "stdout",
     "output_type": "stream",
     "text": [
      "tensor([[[3.0802, 3.4839, 0.0000, 2.2850],\n",
      "         [4.9942, 2.4169, 0.0000, 1.1430],\n",
      "         [4.6767, 2.2364, 0.0000, 3.9746]],\n",
      "\n",
      "        [[1.1779, 2.3117, 0.0000, 2.9319],\n",
      "         [1.0926, 1.6039, 0.0000, 3.9527],\n",
      "         [0.5787, 1.9033, 0.0000, 2.6688]]])\n"
     ]
    }
   ],
   "source": [
    "rand_tensor[:,:,2]=0\n",
    "print(rand_tensor)"
   ]
  },
  {
   "attachments": {},
   "cell_type": "markdown",
   "metadata": {},
   "source": [
    "### 합치기"
   ]
  },
  {
   "cell_type": "code",
   "execution_count": 50,
   "metadata": {},
   "outputs": [
    {
     "name": "stdout",
     "output_type": "stream",
     "text": [
      "tensor([[0.9901, 0.0000, 0.1157, 0.7901],\n",
      "        [0.3635, 0.0000, 0.3571, 0.6390],\n",
      "        [0.2862, 0.0000, 0.3947, 0.2890]])\n",
      "tensor([[7.3285, 8.6496, 6.5455, 6.4652],\n",
      "        [7.7215, 8.7615, 9.3290, 7.0596],\n",
      "        [7.5997, 8.4116, 6.5132, 8.4224]])\n"
     ]
    }
   ],
   "source": [
    "print(tensor_val)\n",
    "print(rand_tensor_temp)"
   ]
  },
  {
   "cell_type": "code",
   "execution_count": 57,
   "metadata": {},
   "outputs": [
    {
     "name": "stdout",
     "output_type": "stream",
     "text": [
      "tensor([[0.9901, 0.0000, 0.1157, 0.7901],\n",
      "        [0.3635, 0.0000, 0.3571, 0.6390],\n",
      "        [0.2862, 0.0000, 0.3947, 0.2890],\n",
      "        [7.3285, 8.6496, 6.5455, 6.4652],\n",
      "        [7.7215, 8.7615, 9.3290, 7.0596],\n",
      "        [7.5997, 8.4116, 6.5132, 8.4224]]) torch.Size([6, 4])\n",
      "tensor([[0.9901, 0.0000, 0.1157, 0.7901, 7.3285, 8.6496, 6.5455, 6.4652],\n",
      "        [0.3635, 0.0000, 0.3571, 0.6390, 7.7215, 8.7615, 9.3290, 7.0596],\n",
      "        [0.2862, 0.0000, 0.3947, 0.2890, 7.5997, 8.4116, 6.5132, 8.4224]]) torch.Size([3, 8])\n"
     ]
    }
   ],
   "source": [
    "t1 = torch.cat([tensor_val, rand_tensor_temp], dim=0)\n",
    "t2 = torch.cat([tensor_val, rand_tensor_temp], dim=1)\n",
    "print(t1, t1.shape)\n",
    "print(t2, t2.shape)\n"
   ]
  },
  {
   "attachments": {},
   "cell_type": "markdown",
   "metadata": {},
   "source": [
    "### 곱하기"
   ]
  },
  {
   "cell_type": "code",
   "execution_count": 67,
   "metadata": {},
   "outputs": [
    {
     "name": "stdout",
     "output_type": "stream",
     "text": [
      "tensor([[[2., 2., 2., 2.],\n",
      "         [2., 2., 2., 2.],\n",
      "         [2., 2., 2., 2.]],\n",
      "\n",
      "        [[2., 2., 2., 2.],\n",
      "         [2., 2., 2., 2.],\n",
      "         [2., 2., 2., 2.]]])\n",
      "tensor([[0.9901, 0.0000, 0.1157, 0.7901],\n",
      "        [0.3635, 0.0000, 0.3571, 0.6390],\n",
      "        [0.2862, 0.0000, 0.3947, 0.2890]])\n",
      "tensor([[[1.9801, 0.0000, 0.2314, 1.5802],\n",
      "         [0.7270, 0.0000, 0.7141, 1.2780],\n",
      "         [0.5724, 0.0000, 0.7894, 0.5780]],\n",
      "\n",
      "        [[1.9801, 0.0000, 0.2314, 1.5802],\n",
      "         [0.7270, 0.0000, 0.7141, 1.2780],\n",
      "         [0.5724, 0.0000, 0.7894, 0.5780]]])\n"
     ]
    }
   ],
   "source": [
    "two_tensor = ones_tensor *2\n",
    "print(two_tensor)\n",
    "print(tensor_val)\n",
    "\n",
    "t_mul = tensor_val.mul(two_tensor)\n",
    "print(t_mul)\n",
    "#print(tensor_val * two_tensor)\n",
    "\n"
   ]
  },
  {
   "cell_type": "code",
   "execution_count": 71,
   "metadata": {},
   "outputs": [
    {
     "name": "stdout",
     "output_type": "stream",
     "text": [
      "tensor([[0.9901, 0.3635, 0.2862],\n",
      "        [0.0000, 0.0000, 0.0000],\n",
      "        [0.1157, 0.3571, 0.3947],\n",
      "        [0.7901, 0.6390, 0.2890]])\n",
      "tensor([[3., 3., 3., 3.],\n",
      "        [3., 3., 3., 3.],\n",
      "        [3., 3., 3., 3.]])\n",
      "tensor([[5.6876, 4.0787, 2.9098],\n",
      "        [5.6876, 4.0787, 2.9098],\n",
      "        [5.6876, 4.0787, 2.9098]])\n"
     ]
    }
   ],
   "source": [
    "tree_tensor = torch.ones(3,4) *3\n",
    "print(tensor_val.T)\n",
    "print(tree_tensor)\n",
    "print(tree_tensor@tensor_val.T)         #같은 크기만 가능"
   ]
  },
  {
   "attachments": {},
   "cell_type": "markdown",
   "metadata": {},
   "source": [
    "## Tensor 크기변경 "
   ]
  },
  {
   "attachments": {},
   "cell_type": "markdown",
   "metadata": {},
   "source": [
    "### View\n",
    "***중요: 원소의 수 유지하면서 텐서 크기 변경\n",
    "\n",
    "np.reshape과 같은 역할/"
   ]
  },
  {
   "cell_type": "code",
   "execution_count": 89,
   "metadata": {},
   "outputs": [
    {
     "name": "stdout",
     "output_type": "stream",
     "text": [
      "tensor([[[ 0.,  1.,  2.],\n",
      "         [ 3.,  4.,  5.]],\n",
      "\n",
      "        [[ 6.,  7.,  8.],\n",
      "         [ 9., 10., 11.]]]) torch.Size([2, 2, 3])\n"
     ]
    }
   ],
   "source": [
    "t = np.array([[[0,1,2],[3,4,5]],[[6,7,8],[9,10,11]]])\n",
    "ft = torch.FloatTensor(t)\n",
    "print(ft, ft.shape)"
   ]
  },
  {
   "cell_type": "code",
   "execution_count": 91,
   "metadata": {},
   "outputs": [
    {
     "name": "stdout",
     "output_type": "stream",
     "text": [
      "tensor([[[ 0.,  1.,  2.]],\n",
      "\n",
      "        [[ 3.,  4.,  5.]],\n",
      "\n",
      "        [[ 6.,  7.,  8.]],\n",
      "\n",
      "        [[ 9., 10., 11.]]])\n",
      "torch.Size([4, 1, 3])\n",
      "tensor([[ 0.,  1.,  2.],\n",
      "        [ 3.,  4.,  5.],\n",
      "        [ 6.,  7.,  8.],\n",
      "        [ 9., 10., 11.]])\n",
      "torch.Size([4, 3])\n"
     ]
    }
   ],
   "source": [
    "\"\"\"\n",
    "[2,2,3]으로 원소의 수는 12개\n",
    "-> [4,3]으로 원소의 수 동일하게 12개\n",
    "tensor의 크기만 변경\n",
    "\"\"\"\n",
    "\n",
    "view_ft = ft.view([-1,1,3])     #-1:알아서 맞춰줘 (?,1,3)의 크기로\n",
    "#view_ft = ft.view([4,3]) \n",
    "print(view_ft)\n",
    "print(view_ft.shape)\n",
    "\n",
    "print(ft.view([-1,3]))\n",
    "print(ft.view([-1,3]).shape)"
   ]
  },
  {
   "attachments": {},
   "cell_type": "markdown",
   "metadata": {},
   "source": [
    "### Squeeze 스퀴즈/ unsqueeze\n",
    "스퀴즈: 1인 차원 제거"
   ]
  },
  {
   "cell_type": "code",
   "execution_count": 96,
   "metadata": {},
   "outputs": [
    {
     "name": "stdout",
     "output_type": "stream",
     "text": [
      "tensor([[[1.],\n",
      "         [1.]],\n",
      "\n",
      "        [[1.],\n",
      "         [1.]]]) torch.Size([2, 2, 1])\n",
      "tensor([[1., 1.],\n",
      "        [1., 1.]]) torch.Size([2, 2])\n"
     ]
    }
   ],
   "source": [
    "one_t = torch.ones(2,2,1)\n",
    "print(one_t, one_t.shape)\n",
    "\"\"\"\n",
    "[2,2,1] ->[2,2]\n",
    "1인 차원을 제거 \n",
    "\"\"\"\n",
    "\n",
    "print(one_t.squeeze(), one_t.squeeze().shape)"
   ]
  },
  {
   "cell_type": "code",
   "execution_count": 108,
   "metadata": {},
   "outputs": [
    {
     "name": "stdout",
     "output_type": "stream",
     "text": [
      "tensor([[1., 1., 1.]]) torch.Size([1, 3])\n",
      "tensor([1., 1., 1.]) torch.Size([3])\n",
      "tensor([1., 1., 1.]) torch.Size([3])\n"
     ]
    },
    {
     "ename": "",
     "evalue": "",
     "output_type": "error",
     "traceback": [
      "\u001b[1;31mThe Kernel crashed while executing code in the the current cell or a previous cell. Please review the code in the cell(s) to identify a possible cause of the failure. Click <a href='https://aka.ms/vscodeJupyterKernelCrash'>here</a> for more info. View Jupyter <a href='command:jupyter.viewOutput'>log</a> for further details."
     ]
    }
   ],
   "source": [
    "# 그럼 (1,3)이면?\n",
    "one_t_ = torch.ones(1,3)\n",
    "print(one_t_, one_t_.shape)\n",
    "print(one_t_.squeeze(),one_t_.squeeze().shape)\n",
    "\n",
    "#view로 표현\n",
    "print(one_t_.view(3), one_t_.view(3).shape)"
   ]
  },
  {
   "attachments": {},
   "cell_type": "markdown",
   "metadata": {},
   "source": [
    "unsqueeze: 1차원 추가"
   ]
  },
  {
   "cell_type": "code",
   "execution_count": 107,
   "metadata": {},
   "outputs": [
    {
     "name": "stdout",
     "output_type": "stream",
     "text": [
      "tensor([[1., 1., 1.]]) torch.Size([1, 3])\n",
      "tensor([[[1., 1., 1.]]]) torch.Size([1, 1, 3])\n",
      "tensor([[[1., 1., 1.]]]) torch.Size([1, 1, 3])\n"
     ]
    }
   ],
   "source": [
    "print(one_t_, one_t_.shape)\n",
    "print(one_t_.unsqueeze(0), one_t_.unsqueeze(0).shape)\n",
    "\n",
    "\n",
    "#view로 표현하기\n",
    "print(one_t_.view(1,-1,3), one_t_.view(1,-1,3).shape)"
   ]
  },
  {
   "attachments": {},
   "cell_type": "markdown",
   "metadata": {},
   "source": [
    "## Type casting"
   ]
  },
  {
   "cell_type": "code",
   "execution_count": null,
   "metadata": {},
   "outputs": [],
   "source": []
  }
 ],
 "metadata": {
  "kernelspec": {
   "display_name": "mspytorch",
   "language": "python",
   "name": "python3"
  },
  "language_info": {
   "codemirror_mode": {
    "name": "ipython",
    "version": 3
   },
   "file_extension": ".py",
   "mimetype": "text/x-python",
   "name": "python",
   "nbconvert_exporter": "python",
   "pygments_lexer": "ipython3",
   "version": "3.8.16"
  },
  "orig_nbformat": 4
 },
 "nbformat": 4,
 "nbformat_minor": 2
}
