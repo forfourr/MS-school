{
  "nbformat": 4,
  "nbformat_minor": 0,
  "metadata": {
    "colab": {
      "private_outputs": true,
      "provenance": [],
      "authorship_tag": "ABX9TyNgSwJgganCYbtSxAmAtvyF",
      "include_colab_link": true
    },
    "kernelspec": {
      "name": "python3",
      "display_name": "Python 3"
    },
    "language_info": {
      "name": "python"
    }
  },
  "cells": [
    {
      "cell_type": "markdown",
      "metadata": {
        "id": "view-in-github",
        "colab_type": "text"
      },
      "source": [
        "<a href=\"https://colab.research.google.com/github/forfourr/test-repo/blob/main/Library(Numpy%2C_Pandas).ipynb\" target=\"_parent\"><img src=\"https://colab.research.google.com/assets/colab-badge.svg\" alt=\"Open In Colab\"/></a>"
      ]
    },
    {
      "cell_type": "markdown",
      "source": [
        "# Numpy"
      ],
      "metadata": {
        "id": "WOF6llURhhqH"
      }
    },
    {
      "cell_type": "code",
      "source": [
        "import numpy as np      #aliasing"
      ],
      "metadata": {
        "id": "xd3aR3BtivYM"
      },
      "execution_count": null,
      "outputs": []
    },
    {
      "cell_type": "code",
      "source": [
        "arr = np.array([1,2,3,4])        #numpy arry\n",
        "print(arr)\n",
        "print(type(arr))        #type이 다름 -> 일반배열보다 용량이큼"
      ],
      "metadata": {
        "id": "fs34_lPJiwNr"
      },
      "execution_count": null,
      "outputs": []
    },
    {
      "cell_type": "markdown",
      "source": [
        "- Aarry"
      ],
      "metadata": {
        "id": "2woUpmWPiwrf"
      }
    },
    {
      "cell_type": "code",
      "source": [
        "#zeors\n",
        "np.zeros((3,4))"
      ],
      "metadata": {
        "id": "9MlyV_3bmRSu"
      },
      "execution_count": null,
      "outputs": []
    },
    {
      "cell_type": "code",
      "source": [
        "# ones\n",
        "np.ones((2,2))"
      ],
      "metadata": {
        "id": "HMbtpB52mXbk"
      },
      "execution_count": null,
      "outputs": []
    },
    {
      "cell_type": "code",
      "source": [
        "#empty\n",
        "np.empty((4,4))"
      ],
      "metadata": {
        "id": "biuHL5wTmeSB"
      },
      "execution_count": null,
      "outputs": []
    },
    {
      "cell_type": "code",
      "source": [
        "#arrange\n",
        "print(np.arange(10))\n",
        "print(np.arange(1,10))\n",
        "print(np.arange(1,14,2))"
      ],
      "metadata": {
        "id": "kEbH3v1umhHo"
      },
      "execution_count": null,
      "outputs": []
    },
    {
      "cell_type": "code",
      "source": [
        "#ndarray    배열의 모양, 차수, 타입\n",
        "arr = np.array([[1,2,3],[4,5,6]])   #2X3\n",
        "print(arr)\n",
        "print(arr.ndim)     #차원확인\n",
        "print(arr.shape)    #2X3\n",
        "print(arr.dtype)    #data type"
      ],
      "metadata": {
        "id": "HKBW2BSMn6Zy"
      },
      "execution_count": null,
      "outputs": []
    },
    {
      "cell_type": "code",
      "source": [
        "arr_int = np.array([1,2,3,4])\n",
        "print(arr_int.dtype)\n",
        "\n",
        "arr_flt = arr_int.astype(np.float64)    #실수형으로 변환환\n",
        "print(arr_flt)  "
      ],
      "metadata": {
        "id": "qcIf7GHBn_q1"
      },
      "execution_count": null,
      "outputs": []
    },
    {
      "cell_type": "code",
      "source": [
        "#배열의 연산\n",
        "\n",
        "arr1 = np.array([[1,2],[3,4]])\n",
        "arr2 = np.array([[5,6],[7,8]])\n",
        "\n",
        "print(arr1+arr2)    #np.add(arr1,arr2)\n",
        "print(arr2-arr1)\n",
        "print(arr1*arr2)"
      ],
      "metadata": {
        "id": "1qA4u6VFw1UC"
      },
      "execution_count": null,
      "outputs": []
    },
    {
      "cell_type": "code",
      "source": [
        "#array slicing\n",
        "\n",
        "arr = np.array([[1,2,3],\n",
        "               [4,5,6],\n",
        "               [7,8,9]])\n",
        "print(arr[0,2])"
      ],
      "metadata": {
        "id": "7EIsZ_MUxdLs"
      },
      "execution_count": null,
      "outputs": []
    },
    {
      "cell_type": "code",
      "source": [
        "arr_1 = arr[:2,1:3]\n",
        "print(arr_1)"
      ],
      "metadata": {
        "id": "xXWx0Prny1Tz"
      },
      "execution_count": null,
      "outputs": []
    },
    {
      "cell_type": "code",
      "source": [
        "idx = arr>3\n",
        "print(idx)"
      ],
      "metadata": {
        "id": "nacoG14ozh0G"
      },
      "execution_count": null,
      "outputs": []
    },
    {
      "cell_type": "code",
      "source": [
        "arr[idx]    #조건에 맞는 것만"
      ],
      "metadata": {
        "id": "guIGPrf51UvZ"
      },
      "execution_count": null,
      "outputs": []
    },
    {
      "cell_type": "markdown",
      "source": [
        "- upload file"
      ],
      "metadata": {
        "id": "CAt_hxir1zt6"
      }
    },
    {
      "cell_type": "code",
      "source": [
        "redwine = np.loadtxt(fname = 'winequality-red.csv',\n",
        "                        delimiter=';',   #구별자가 ;임을 알려줌 (default = ,)\n",
        "                        skiprows=1)      #1번째줄(속성)은 건너 뜀\n"
      ],
      "metadata": {
        "id": "4u12cukU5JMc"
      },
      "execution_count": null,
      "outputs": []
    },
    {
      "cell_type": "markdown",
      "source": [
        "### 기초 통계 함수\n",
        "\n",
        "- sum 합계\n",
        "- mean 평균\n",
        "- std 표준편차\n",
        "- var 분산\n",
        "- min \n",
        "- max"
      ],
      "metadata": {
        "id": "Tc_XTsHa533x"
      }
    },
    {
      "cell_type": "code",
      "source": [
        "#axis =0 : 행마다, axis=1 : 열마다\n",
        "print(redwine.sum(axis=0))\n",
        "print(redwine.mean(axis=0))"
      ],
      "metadata": {
        "id": "vRYzYqpF-zLG"
      },
      "execution_count": null,
      "outputs": []
    },
    {
      "cell_type": "code",
      "source": [
        "#col min, max\n",
        "print(redwine.max(axis=0))\n",
        "print(redwine.min(axis=0))"
      ],
      "metadata": {
        "id": "0eLH6qeN_oHl"
      },
      "execution_count": null,
      "outputs": []
    },
    {
      "cell_type": "markdown",
      "source": [
        "# Pandas"
      ],
      "metadata": {
        "id": "3E0r-XLvBvdH"
      }
    },
    {
      "cell_type": "code",
      "source": [
        "import pandas as pd\n",
        "from pandas import Series, DataFrame"
      ],
      "metadata": {
        "id": "s0MorbY-ayqk"
      },
      "execution_count": null,
      "outputs": []
    },
    {
      "cell_type": "code",
      "source": [
        "fruits = Series([2500,3800,1200,6000], index=['apple','banana','peer','cherry'])\n",
        "print(fruits)"
      ],
      "metadata": {
        "id": "iBgm1H8XbF1e"
      },
      "execution_count": null,
      "outputs": []
    },
    {
      "cell_type": "code",
      "source": [
        "print(fruits.values)"
      ],
      "metadata": {
        "id": "QVTpFMIAcErS"
      },
      "execution_count": null,
      "outputs": []
    },
    {
      "cell_type": "code",
      "source": [
        "#Dict object -> Series\n",
        "fruitData = {'apple': 2500,\n",
        "            'banana': 3800,\n",
        "            'peach': 4000,\n",
        "            'peer': 1500}      #dict\n",
        "\n",
        "print(type(fruitData))\n",
        "fruit_series = Series(fruitData)\n",
        "print(type(fruit_series),fruit_series)\n"
      ],
      "metadata": {
        "id": "WWwObde0dUzg"
      },
      "execution_count": null,
      "outputs": []
    },
    {
      "cell_type": "code",
      "source": [
        "#naming\n",
        "fruit_series.name = 'fruitPrice'\n",
        "fruit_series.index.name = 'Name'\n",
        "print(fruit_series)"
      ],
      "metadata": {
        "id": "AlXW-rNseuwR"
      },
      "execution_count": null,
      "outputs": []
    },
    {
      "cell_type": "markdown",
      "source": [
        "- DataFrame"
      ],
      "metadata": {
        "id": "yR_s_jEhfu-W"
      }
    },
    {
      "cell_type": "code",
      "source": [
        "#DataFrame = Series객체가 여러개 묶여서 만들어짐\n",
        "\n",
        "#DataFrame - value가 list로 되어있음음\n",
        "fruitData = {'fruitName' : ['apple','banana','peach','peer'],\n",
        "            'fruitPrice' : [2500, 3800, 4000, 1500],\n",
        "            'num' : [10, 5, 3,8]}\n"
      ],
      "metadata": {
        "id": "PCcbOuhVfz6s"
      },
      "execution_count": null,
      "outputs": []
    },
    {
      "cell_type": "code",
      "source": [
        "DataFrame(fruitData)"
      ],
      "metadata": {
        "id": "1ZQDgmmtgaml"
      },
      "execution_count": null,
      "outputs": []
    },
    {
      "cell_type": "code",
      "source": [
        "# 칼럼 순서 정하기\n",
        "fruitFrame = DataFrame(fruitData, columns=['fruitPrice','num','fruitName'])\n",
        "fruitFrame"
      ],
      "metadata": {
        "id": "2xUTsGYZgixQ"
      },
      "execution_count": null,
      "outputs": []
    },
    {
      "cell_type": "code",
      "source": [
        "# 원하는 값만 뽑아내기\n",
        "fruitName = fruitFrame['fruitName']\n",
        "print(fruitName)\n",
        "#fruitFame.fruitName 으로 속성처럼 가져오는 것도 똑같다."
      ],
      "metadata": {
        "id": "CKctdPPahV37"
      },
      "execution_count": null,
      "outputs": []
    },
    {
      "cell_type": "code",
      "source": [
        "var = Series([4,2,1],index=[0,2,3])     #index =1자리엔 NaN(Null)\n",
        "fruitFrame['stock'] = var\n",
        "fruitFrame"
      ],
      "metadata": {
        "id": "soJqFcDkhf8D"
      },
      "execution_count": null,
      "outputs": []
    },
    {
      "cell_type": "code",
      "source": [
        "#데이터 구조에서 항목 삭제\n",
        "fruit = Series([2500,3800,1200,6000],index = ['apple','banana','peach','cherry'])\n",
        "fruit"
      ],
      "metadata": {
        "id": "i-7iZCu8nQBN"
      },
      "execution_count": null,
      "outputs": []
    },
    {
      "cell_type": "code",
      "source": [
        "#특정 index 삭제하기\n",
        "new_fruit = fruit.drop('banana')    #fruit에는 banana가 있음\n",
        "new_fruit"
      ],
      "metadata": {
        "id": "t3tggnrLn4Vu"
      },
      "execution_count": null,
      "outputs": []
    },
    {
      "cell_type": "code",
      "source": [
        "fruitDataFrame = DataFrame(fruitData,\n",
        "                           index=fruitData['fruitName'],\n",
        "                           columns = ['fruitPrice','num'])\n",
        "fruitDataFrame"
      ],
      "metadata": {
        "id": "Ur9tk30MoaJc"
      },
      "execution_count": null,
      "outputs": []
    },
    {
      "cell_type": "code",
      "source": [
        "#DataFrame Slicing\n",
        "\n",
        "fruitDataFrame['banana':]"
      ],
      "metadata": {
        "id": "8HiYnIt6qBDu"
      },
      "execution_count": null,
      "outputs": []
    },
    {
      "cell_type": "markdown",
      "source": [
        "- 데이터의 연산"
      ],
      "metadata": {
        "id": "MHT7DS3Mu3_I"
      }
    },
    {
      "cell_type": "code",
      "source": [
        "# Series\n",
        "series1 = Series([5,9,10,3], index=['a','b','c','d'])\n",
        "series2 = Series([3,2,9,5,10], index=['a','e','f','b','j'])\n",
        "\n",
        "print(series1)\n",
        "print(series2)"
      ],
      "metadata": {
        "id": "aNMj5MU5sE6l"
      },
      "execution_count": null,
      "outputs": []
    },
    {
      "cell_type": "code",
      "source": [
        "#index 일치하는 것만 연산됨\n",
        "series1 + series2"
      ],
      "metadata": {
        "id": "om-epIUvusCM"
      },
      "execution_count": null,
      "outputs": []
    },
    {
      "cell_type": "code",
      "source": [
        "#DataFrame\n",
        "data1 = {'Ohio':[4,8,3,5],\n",
        "       'Texas': [1,2,3,4]}\n",
        "data2 = {'Ohio': [5,7,1,7,5],\n",
        "       'Boston': [3,3,3,3,3]}\n",
        "df1 = DataFrame(data1, columns=['Ohio','Texas'], index=['a','b','c','d'])\n",
        "df2 = DataFrame(data2, columns=['Ohio','Boston'], index=['c','d','e','f','e'])\n",
        "\n",
        "print(df1)\n",
        "print(df2)"
      ],
      "metadata": {
        "id": "XZ5pV6Vmuvw6"
      },
      "execution_count": null,
      "outputs": []
    },
    {
      "cell_type": "code",
      "source": [
        "df1 + df2"
      ],
      "metadata": {
        "id": "fsNsZwDDvSGd"
      },
      "execution_count": null,
      "outputs": []
    },
    {
      "cell_type": "markdown",
      "source": [
        "- 정렬"
      ],
      "metadata": {
        "id": "npWXoDwQ1jqm"
      }
    },
    {
      "cell_type": "code",
      "source": [
        "#Series 정렬\n",
        "series1.sort_values(ascending=True)     #오름차순"
      ],
      "metadata": {
        "id": "8pMJqiSevS_8"
      },
      "execution_count": null,
      "outputs": []
    },
    {
      "cell_type": "code",
      "source": [
        "#Data Frame 정렬렬\n",
        "fruitDataFrame"
      ],
      "metadata": {
        "id": "5oP9V09U1eou"
      },
      "execution_count": null,
      "outputs": []
    },
    {
      "cell_type": "code",
      "source": [
        "#index 기준 정렬렬\n",
        "fruitDataFrame.sort_index(ascending =False)"
      ],
      "metadata": {
        "id": "AYbSM-2i2l-Y"
      },
      "execution_count": null,
      "outputs": []
    },
    {
      "cell_type": "code",
      "source": [
        "fruitDataFrame.sort_values('num',ascending=False)"
      ],
      "metadata": {
        "id": "OTQNYnvz2p4n"
      },
      "execution_count": null,
      "outputs": []
    },
    {
      "cell_type": "markdown",
      "source": [
        "### 기초 통계 분석\n",
        "\n",
        "\n",
        "*   count\n",
        "*   min, max\n",
        "*   comprod\n",
        "*   mean\n",
        "- median\n",
        "- quantile\n",
        "- var\n",
        "- std\n",
        "- describe\n",
        "\n",
        "\n",
        "\n"
      ],
      "metadata": {
        "id": "rtLUs-Zq25ph"
      }
    },
    {
      "cell_type": "code",
      "source": [
        "german_sample = pd.read_csv('http://freakonometrics.free.fr/german_credit.csv')"
      ],
      "metadata": {
        "id": "4dUoNi5z7gi9"
      },
      "execution_count": null,
      "outputs": []
    },
    {
      "cell_type": "code",
      "source": [
        "type(german_sample)"
      ],
      "metadata": {
        "id": "x-vNf_Vg8JsP"
      },
      "execution_count": null,
      "outputs": []
    },
    {
      "cell_type": "code",
      "source": [
        "list(german_sample.columns.values)"
      ],
      "metadata": {
        "id": "yrfKJMuf8mb-"
      },
      "execution_count": null,
      "outputs": []
    },
    {
      "cell_type": "code",
      "source": [
        "sample = german_sample[['Creditability','Duration of Credit (month)','Purpose','Credit Amount']]"
      ],
      "metadata": {
        "id": "mCJpyM5b9AWi"
      },
      "execution_count": null,
      "outputs": []
    },
    {
      "cell_type": "code",
      "source": [
        "#count : NA를 제외한 개수"
      ],
      "metadata": {
        "id": "bz3uL6_D35qB"
      },
      "execution_count": null,
      "outputs": []
    },
    {
      "cell_type": "code",
      "source": [
        "#min max\n",
        "print(sample.min())\n",
        "print(sample.max())"
      ],
      "metadata": {
        "id": "UrVLlMu839L5"
      },
      "execution_count": null,
      "outputs": []
    },
    {
      "cell_type": "code",
      "source": [
        "#comprod : 누적합"
      ],
      "metadata": {
        "id": "mnMxdCHU3-oR"
      },
      "execution_count": null,
      "outputs": []
    },
    {
      "cell_type": "code",
      "source": [
        "#mean : 평균\n",
        "sample.mean()"
      ],
      "metadata": {
        "id": "igE6f2Wr4BP8"
      },
      "execution_count": null,
      "outputs": []
    },
    {
      "cell_type": "code",
      "source": [
        "#median : 중앙값"
      ],
      "metadata": {
        "id": "r8z-W5RE4CeO"
      },
      "execution_count": null,
      "outputs": []
    },
    {
      "cell_type": "code",
      "source": [
        "#quantile : 분위수"
      ],
      "metadata": {
        "id": "C4tVeMgI4Hfm"
      },
      "execution_count": null,
      "outputs": []
    },
    {
      "cell_type": "code",
      "source": [
        "#var : 표본분산"
      ],
      "metadata": {
        "id": "uvB5JBEo4Kmg"
      },
      "execution_count": null,
      "outputs": []
    },
    {
      "cell_type": "code",
      "source": [
        "#std : 표본 정규 분산"
      ],
      "metadata": {
        "id": "aEse8odv4MZA"
      },
      "execution_count": null,
      "outputs": []
    },
    {
      "cell_type": "code",
      "source": [
        "#describe : 요약 통계량\n",
        "sample.describe"
      ],
      "metadata": {
        "id": "ZSRyY-5b4OJN"
      },
      "execution_count": null,
      "outputs": []
    },
    {
      "cell_type": "code",
      "source": [
        "#상관관계 correlation\n",
        "sample2 = german_sample[['Duration of Credit (month)',\n",
        "                        'Credit Amount',\n",
        "                        'Age (years)']]\n",
        "sample2.corr()"
      ],
      "metadata": {
        "id": "yamGYTFC4RPT"
      },
      "execution_count": null,
      "outputs": []
    },
    {
      "cell_type": "markdown",
      "source": [
        "- group by"
      ],
      "metadata": {
        "id": "wFY45GQVDnw3"
      }
    },
    {
      "cell_type": "code",
      "source": [
        "sample3 = german_sample[['Credit Amount',\n",
        "                         'Type of apartment']]\n",
        "\n",
        "sample3.head()"
      ],
      "metadata": {
        "id": "yV86AHSsE5Zd"
      },
      "execution_count": null,
      "outputs": []
    },
    {
      "cell_type": "code",
      "source": [
        "grouped = sample3['Credit Amount'].groupby(sample3['Type of apartment'])\n",
        "grouped.mean()"
      ],
      "metadata": {
        "id": "GS1xtJgCFA8a"
      },
      "execution_count": null,
      "outputs": []
    },
    {
      "cell_type": "code",
      "source": [
        "sample4 = german_sample[['Credit Amount',\n",
        "                         'Type of apartment',\n",
        "                         'Purpose']]\n",
        "grouped_4 = sample4['Credit Amount'].groupby([sample4['Purpose'],   #groupby안에는 list형태!!\n",
        "                                             sample4['Type of apartment']])\n",
        "\n",
        "grouped_4.mean()    #다중그룹"
      ],
      "metadata": {
        "id": "5w9c8Ak4FZ07"
      },
      "execution_count": null,
      "outputs": []
    },
    {
      "cell_type": "code",
      "source": [
        "#apartment 별로 그룹을 나누어서 출력한다.\n",
        "#그룹간의 차이를 보여줌\n",
        "sample5 = german_sample[['Type of apartment',\n",
        "                         'Sex & Marital Status',\n",
        "                         'Credit Amount']]\n",
        "\n",
        "for i in sample5.groupby('Type of apartment'):\n",
        "    print(i)\n",
        "    print('-----------------')"
      ],
      "metadata": {
        "id": "QkfPAEvSFpXJ"
      },
      "execution_count": null,
      "outputs": []
    },
    {
      "cell_type": "markdown",
      "source": [
        "# seaborn\n"
      ],
      "metadata": {
        "id": "tJc632rLRMiG"
      }
    },
    {
      "cell_type": "code",
      "source": [
        "import seaborn as sns\n",
        "planets = sns.load_dataset('planets')\n",
        "planets.shape"
      ],
      "metadata": {
        "id": "zM1xReMBIK07"
      },
      "execution_count": null,
      "outputs": []
    },
    {
      "cell_type": "code",
      "source": [
        "planets.dropna().describe()"
      ],
      "metadata": {
        "id": "rPqazIXQRKSZ"
      },
      "execution_count": null,
      "outputs": []
    },
    {
      "cell_type": "code",
      "source": [
        "births = pd.read_csv('https://raw.githubusercontent.com/jakevdp/data-CDCbirths/master/births.csv')\n"
      ],
      "metadata": {
        "id": "RuKSElmkRKQR"
      },
      "execution_count": null,
      "outputs": []
    },
    {
      "cell_type": "code",
      "source": [
        "#행 추가\n",
        "births['decade'] = births['year']//10*10"
      ],
      "metadata": {
        "id": "G0iawrheRZjx"
      },
      "execution_count": null,
      "outputs": []
    },
    {
      "cell_type": "code",
      "source": [
        "#그래프 만들기\n",
        "births.pivot_table('births',\n",
        "                   index = 'decade',\n",
        "                   columns ='gender',\n",
        "                   aggfunc='sum')"
      ],
      "metadata": {
        "id": "KXI1J6emSnZX"
      },
      "execution_count": null,
      "outputs": []
    },
    {
      "cell_type": "code",
      "source": [
        "births.pivot_table('births',\n",
        "                   index = 'year',\n",
        "                   columns ='gender',\n",
        "                   aggfunc='sum').plot()"
      ],
      "metadata": {
        "id": "ESUHsOcvTueL"
      },
      "execution_count": null,
      "outputs": []
    },
    {
      "cell_type": "code",
      "source": [],
      "metadata": {
        "id": "Q2DGCqJIT99J"
      },
      "execution_count": null,
      "outputs": []
    }
  ]
}