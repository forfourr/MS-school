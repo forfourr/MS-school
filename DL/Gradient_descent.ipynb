{
 "cells": [
  {
   "attachments": {},
   "cell_type": "markdown",
   "metadata": {},
   "source": [
    "# Gradient Descnet 경사하강법\n",
    ": 데이터를 한 번에 처리하지 않고 일부씩 처리하면서 최적의 모델 파라미터를 찾을 수 있다."
   ]
  },
  {
   "cell_type": "code",
   "execution_count": 1,
   "metadata": {},
   "outputs": [],
   "source": [
    "import numpy as np\n",
    "import matplotlib.pyplot as plt"
   ]
  },
  {
   "attachments": {},
   "cell_type": "markdown",
   "metadata": {},
   "source": [
    "##  data, target 생성"
   ]
  },
  {
   "cell_type": "code",
   "execution_count": 2,
   "metadata": {},
   "outputs": [],
   "source": [
    "# y = 2x+1\n",
    "x = np.array([1,2,3,4,5])\n",
    "y = np.array([3,5,7,9,11])"
   ]
  },
  {
   "attachments": {},
   "cell_type": "markdown",
   "metadata": {},
   "source": [
    "## 모델 예측값과 실제값 사이의 오차 계산 함수"
   ]
  },
  {
   "cell_type": "code",
   "execution_count": 14,
   "metadata": {},
   "outputs": [],
   "source": [
    "def compute_error(w0, w1, x, y):\n",
    "    y_pred = w0 + w1*x\n",
    "    error = y - y_pred\n",
    "\n",
    "    return error"
   ]
  },
  {
   "attachments": {},
   "cell_type": "markdown",
   "metadata": {},
   "source": [
    "## 경사하강법 수행"
   ]
  },
  {
   "cell_type": "code",
   "execution_count": 15,
   "metadata": {},
   "outputs": [],
   "source": [
    "def gradient_descent(x, y, lr=0.05, iterations=1000):\n",
    "    n = len(x)\n",
    "\n",
    "    # w0: 절편값, w1:기울기 값\n",
    "    w0,w1 = 0,0\n",
    "\n",
    "    for i in range(iterations):\n",
    "        error = compute_error(w0,w1,x,y)\n",
    "        w0 -= lr*(-2.0/n) * np.sum(error)\n",
    "        w1 -= lr*(-2.0/n) * np.sum(error *x)\n",
    "\n",
    "        return w0, w1"
   ]
  },
  {
   "attachments": {},
   "cell_type": "markdown",
   "metadata": {},
   "source": [
    "## 모델 학습"
   ]
  },
  {
   "cell_type": "code",
   "execution_count": 16,
   "metadata": {},
   "outputs": [],
   "source": [
    "w0, w1 = gradient_descent(x,y)"
   ]
  },
  {
   "cell_type": "code",
   "execution_count": 17,
   "metadata": {},
   "outputs": [
    {
     "data": {
      "image/png": "[encoded data removed]",
      "text/plain": [
       "<Figure size 640x480 with 1 Axes>"
      ]
     },
     "metadata": {},
     "output_type": "display_data"
    }
   ],
   "source": [
    "#시각화\n",
    "plt.scatter(x, y)\n",
    "plt.plot(x, w0 + w1*x, color='r')\n",
    "plt.show()"
   ]
  },
  {
   "attachments": {},
   "cell_type": "markdown",
   "metadata": {},
   "source": [
    "## 다중선형 실습 :gradient descent이용"
   ]
  },
  {
   "cell_type": "code",
   "execution_count": 18,
   "metadata": {},
   "outputs": [],
   "source": [
    "#create data\n",
    "x1 = np.array([1,2,3,4,5])\n",
    "x2 = np.array([0,1,0,1,0])\n",
    "\n",
    "y = np.array([3,5,7,9,11])"
   ]
  },
  {
   "cell_type": "code",
   "execution_count": 25,
   "metadata": {},
   "outputs": [],
   "source": [
    "def GD(x1, x2, y, lr, iterations):\n",
    "\n",
    "    n = len(y)\n",
    "    beta0 = 0\n",
    "    beta1 = 0\n",
    "    beta2 = 0\n",
    "\n",
    "    #경사하강법 실행\n",
    "    for i in range(iterations):\n",
    "        y_pred = beta0 + beta1*x1 + beta2*x2\n",
    "        #error = y - y_pred\n",
    "        error = y_pred - y\n",
    "\n",
    "        #업데이트\n",
    "        beta0 -= lr * (1/n) * np.sum(error)\n",
    "        beta1 -= lr * (1/n) * np.sum(error * x1)\n",
    "        beta2 -= lr * (1/n) * np.sum(error * x2)\n",
    "    return beta0, beta1, beta2"
   ]
  },
  {
   "cell_type": "code",
   "execution_count": 26,
   "metadata": {},
   "outputs": [
    {
     "name": "stdout",
     "output_type": "stream",
     "text": [
      "0.8907546215358821\n",
      "2.0237699271134932\n",
      "0.057888309859129156\n"
     ]
    }
   ],
   "source": [
    "beta0, beta1, beta2 =GD(x1, x2, y, 0.01, 1000)\n",
    "print(beta0)\n",
    "print(beta1)\n",
    "print(beta2)\n"
   ]
  },
  {
   "cell_type": "code",
   "execution_count": 28,
   "metadata": {},
   "outputs": [
    {
     "name": "stdout",
     "output_type": "stream",
     "text": [
      "predict y value 4.996182785621997\n"
     ]
    }
   ],
   "source": [
    "x1_new = 2\n",
    "x2_new = 1\n",
    "\n",
    "y_pred = beta0 + beta1*x1_new + beta2*x2_new\n",
    "print('predict y value', y_pred)"
   ]
  },
  {
   "cell_type": "code",
   "execution_count": null,
   "metadata": {},
   "outputs": [],
   "source": []
  }
 ],
 "metadata": {
  "kernelspec": {
   "display_name": "mspytorch",
   "language": "python",
   "name": "python3"
  },
  "language_info": {
   "codemirror_mode": {
    "name": "ipython",
    "version": 3
   },
   "file_extension": ".py",
   "mimetype": "text/x-python",
   "name": "python",
   "nbconvert_exporter": "python",
   "pygments_lexer": "ipython3",
   "version": "3.8.16"
  },
  "orig_nbformat": 4
 },
 "nbformat": 4,
 "nbformat_minor": 2
}
