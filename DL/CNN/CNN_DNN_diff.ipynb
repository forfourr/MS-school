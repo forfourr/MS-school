{
 "cells": [
  {
   "cell_type": "code",
   "execution_count": null,
   "metadata": {},
   "outputs": [],
   "source": []
  },
  {
   "cell_type": "code",
   "execution_count": null,
   "metadata": {},
   "outputs": [],
   "source": [
    "import torch\n",
    "import torch.nn as nn\n",
    "\n",
    "# CNN with Convolutional Layer\n",
    "class CNN(nn.Module):\n",
    "    def __init__(self):\n",
    "        super(CNN, self).__init__()\n",
    "        self.conv1 = nn.Conv2d(in_channels=3, out_channels=16, kernel_size=3)\n",
    "        self.relu = nn.ReLU()\n",
    "        self.fc = nn.Linear(16 * 26 * 26, 10)\n",
    "\n",
    "    def forward(self, x):\n",
    "        x = self.conv1(x)\n",
    "        x = self.relu(x)\n",
    "        x = x.view(x.size(0), -1)\n",
    "        x = self.fc(x)\n",
    "        return x\n",
    "\n",
    "# DNN without Convolutional Layer\n",
    "class DNN(nn.Module):\n",
    "    def __init__(self):\n",
    "        super(DNN, self).__init__()\n",
    "        self.fc1 = nn.Linear(32 * 32 * 3, 256)\n",
    "        self.relu = nn.ReLU()\n",
    "        self.fc2 = nn.Linear(256, 10)\n",
    "\n",
    "    def forward(self, x):\n",
    "        x = x.view(x.size(0), -1)\n",
    "        x = self.fc1(x)\n",
    "        x = self.relu(x)\n",
    "        x = self.fc2(x)\n",
    "        return x\n",
    "\n",
    "# Create random input tensor\n",
    "input_tensor = torch.randn(1, 3, 32, 32)  # (batch_size, channels, height, width)\n",
    "\n",
    "# Instantiate CNN and DNN models\n",
    "cnn_model = CNN()\n",
    "dnn_model = DNN()\n",
    "\n",
    "# Pass input through CNN and DNN models\n",
    "cnn_output = cnn_model(input_tensor)\n",
    "dnn_output = dnn_model(input_tensor)\n",
    "\n",
    "print(\"CNN output shape:\", cnn_output.shape)\n",
    "print(\"DNN output shape:\", dnn_output.shape)"
   ]
  },
  {
   "cell_type": "code",
   "execution_count": null,
   "metadata": {},
   "outputs": [],
   "source": [
    "\"\"\"\n",
    " CNN 모델은 Convolutional Layer를 통해 공간적인 특징을 추출하므로 4D 형태의 출력\n",
    " DNN 모델은 Convolutional Layer가 없으므로 입력을 2D 형태로 평탄화한 후에 \n",
    "    Fully Connected Layer를 통해 처리하게 되어 2D 형태의 출력\n",
    "\"\"\""
   ]
  }
 ],
 "metadata": {
  "language_info": {
   "name": "python"
  },
  "orig_nbformat": 4
 },
 "nbformat": 4,
 "nbformat_minor": 2
}
