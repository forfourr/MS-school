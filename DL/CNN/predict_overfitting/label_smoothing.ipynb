{
 "cells": [
  {
   "attachments": {},
   "cell_type": "markdown",
   "metadata": {},
   "source": [
    "# Label smoothing\n",
    ": overfitting 방지를 위한 방법 중 하나\n",
    "\n",
    ": 학습할 때 입력 데이터의 정확한 라벨 대신에 부분적으로 다른 라벨 정보 준다"
   ]
  },
  {
   "cell_type": "code",
<<<<<<< HEAD
   "execution_count": 2,
   "metadata": {},
   "outputs": [
    {
     "ename": "KeyboardInterrupt",
     "evalue": "",
     "output_type": "error",
     "traceback": [
      "\u001b[1;31m---------------------------------------------------------------------------\u001b[0m",
      "\u001b[1;31mKeyboardInterrupt\u001b[0m                         Traceback (most recent call last)",
      "Cell \u001b[1;32mIn[2], line 1\u001b[0m\n\u001b[1;32m----> 1\u001b[0m \u001b[39mimport\u001b[39;00m \u001b[39mtorch\u001b[39;00m\n\u001b[0;32m      2\u001b[0m \u001b[39mimport\u001b[39;00m \u001b[39mtorch\u001b[39;00m\u001b[39m.\u001b[39;00m\u001b[39mnn\u001b[39;00m \u001b[39mas\u001b[39;00m \u001b[39mnn\u001b[39;00m\n\u001b[0;32m      3\u001b[0m \u001b[39mfrom\u001b[39;00m \u001b[39mtorch\u001b[39;00m\u001b[39m.\u001b[39;00m\u001b[39mutils\u001b[39;00m\u001b[39m.\u001b[39;00m\u001b[39mdata\u001b[39;00m \u001b[39mimport\u001b[39;00m DataLoader\n",
      "File \u001b[1;32mc:\\ProgramData\\Anaconda3\\envs\\mspytorch\\lib\\site-packages\\torch\\__init__.py:711\u001b[0m\n\u001b[0;32m    709\u001b[0m \u001b[39mfrom\u001b[39;00m \u001b[39mtorch\u001b[39;00m \u001b[39mimport\u001b[39;00m jit \u001b[39mas\u001b[39;00m jit\n\u001b[0;32m    710\u001b[0m \u001b[39mfrom\u001b[39;00m \u001b[39mtorch\u001b[39;00m \u001b[39mimport\u001b[39;00m linalg \u001b[39mas\u001b[39;00m linalg\n\u001b[1;32m--> 711\u001b[0m \u001b[39mfrom\u001b[39;00m \u001b[39mtorch\u001b[39;00m \u001b[39mimport\u001b[39;00m hub \u001b[39mas\u001b[39;00m hub\n\u001b[0;32m    712\u001b[0m \u001b[39mfrom\u001b[39;00m \u001b[39mtorch\u001b[39;00m \u001b[39mimport\u001b[39;00m random \u001b[39mas\u001b[39;00m random\n\u001b[0;32m    713\u001b[0m \u001b[39mfrom\u001b[39;00m \u001b[39mtorch\u001b[39;00m \u001b[39mimport\u001b[39;00m distributions \u001b[39mas\u001b[39;00m distributions\n",
      "File \u001b[1;32mc:\\ProgramData\\Anaconda3\\envs\\mspytorch\\lib\\site-packages\\torch\\hub.py:18\u001b[0m\n\u001b[0;32m     15\u001b[0m \u001b[39mfrom\u001b[39;00m \u001b[39murllib\u001b[39;00m\u001b[39m.\u001b[39;00m\u001b[39mparse\u001b[39;00m \u001b[39mimport\u001b[39;00m urlparse  \u001b[39m# noqa: F401\u001b[39;00m\n\u001b[0;32m     17\u001b[0m \u001b[39mtry\u001b[39;00m:\n\u001b[1;32m---> 18\u001b[0m     \u001b[39mfrom\u001b[39;00m \u001b[39mtqdm\u001b[39;00m\u001b[39m.\u001b[39;00m\u001b[39mauto\u001b[39;00m \u001b[39mimport\u001b[39;00m tqdm  \u001b[39m# automatically select proper tqdm submodule if available\u001b[39;00m\n\u001b[0;32m     19\u001b[0m \u001b[39mexcept\u001b[39;00m \u001b[39mImportError\u001b[39;00m:\n\u001b[0;32m     20\u001b[0m     \u001b[39mtry\u001b[39;00m:\n",
      "File \u001b[1;32m<frozen importlib._bootstrap>:991\u001b[0m, in \u001b[0;36m_find_and_load\u001b[1;34m(name, import_)\u001b[0m\n",
      "File \u001b[1;32m<frozen importlib._bootstrap>:971\u001b[0m, in \u001b[0;36m_find_and_load_unlocked\u001b[1;34m(name, import_)\u001b[0m\n",
      "File \u001b[1;32m<frozen importlib._bootstrap>:914\u001b[0m, in \u001b[0;36m_find_spec\u001b[1;34m(name, path, target)\u001b[0m\n",
      "File \u001b[1;32m<frozen importlib._bootstrap_external>:1407\u001b[0m, in \u001b[0;36mfind_spec\u001b[1;34m(cls, fullname, path, target)\u001b[0m\n",
      "File \u001b[1;32m<frozen importlib._bootstrap_external>:1379\u001b[0m, in \u001b[0;36m_get_spec\u001b[1;34m(cls, fullname, path, target)\u001b[0m\n",
      "File \u001b[1;32m<frozen importlib._bootstrap_external>:1506\u001b[0m, in \u001b[0;36mfind_spec\u001b[1;34m(self, fullname, target)\u001b[0m\n",
      "File \u001b[1;32m<frozen importlib._bootstrap_external>:142\u001b[0m, in \u001b[0;36m_path_stat\u001b[1;34m(path)\u001b[0m\n",
      "\u001b[1;31mKeyboardInterrupt\u001b[0m: "
     ]
    }
   ],
=======
   "execution_count": 4,
   "metadata": {},
   "outputs": [],
>>>>>>> summer
   "source": [
    "import torch\n",
    "import torch.nn as nn\n",
    "from torch.utils.data import DataLoader\n",
    "import torch.optim as optim\n",
    "import torchvision\n",
    "from torchvision import datasets,transforms"
   ]
  },
  {
   "attachments": {},
   "cell_type": "markdown",
   "metadata": {},
   "source": [
    "## Loss Model"
   ]
  },
  {
   "cell_type": "code",
<<<<<<< HEAD
   "execution_count": null,
=======
   "execution_count": 21,
>>>>>>> summer
   "metadata": {},
   "outputs": [],
   "source": [
    "class LabelSmoothingLoss(nn.Module):\n",
    "    def __init__(self, num_classes, smoothing=0.0):\n",
    "        super(LabelSmoothingLoss, self).__init__()\n",
    "\n",
    "        self.num_classes = num_classes\n",
    "        self.smoothing = smoothing\n",
    "        self.confidence = 1.0 - smoothing\n",
    "\n",
    "    def forward(self, pred, target):\n",
    "        #zero_like : pred크기로 모든 요소 0초기화\n",
    "        #scatter : 텐서 target 위치에 1값 할당\n",
    "        # ---> one-hot 인코딩\n",
    "        one_hot = torch.zeros_like(pred).scatter(1, target.unsqueeze(1), 1)\n",
    "        # 정답과 나머지 클래스에 확률 할당- > 레이블 생성\n",
    "        smooth_label = one_hot * self.confidence + (1 - one_hot) * self.smoothing / (self.num_classes -1)\n",
    "        # 예측값을 이용해 손실 계산\n",
    "        loss = torch.sum(-smooth_label * torch.log_softmax(pred, dim=1), dim=1)\n",
    "        return torch.mean(loss)     #모든 샘플의 손실 평균\n",
    "\n"
   ]
  },
  {
   "attachments": {},
   "cell_type": "markdown",
   "metadata": {},
   "source": [
    "## Model"
   ]
  },
  {
   "cell_type": "code",
<<<<<<< HEAD
   "execution_count": null,
=======
   "execution_count": 22,
>>>>>>> summer
   "metadata": {},
   "outputs": [],
   "source": [
    "class MyModel(nn.Module):\n",
    "    def __init__(self):\n",
    "        super(MyModel, self).__init__()\n",
    "        self.conv1 = nn.Conv2d(1, 32, kernel_size=3)\n",
    "        self.relu1 = nn.ReLU(inplace=True)\n",
    "        self.pool1 = nn.MaxPool2d(kernel_size=2)\n",
    "\n",
    "        self.conv2 = nn.Conv2d(32, 64, kernel_size=3)\n",
    "        self.relu2 = nn.ReLU(inplace=True)\n",
    "        self.pool2 = nn.MaxPool2d(kernel_size=2)\n",
    "\n",
    "        self.flatten = nn.Flatten()\n",
    "        self.fc1 = nn.Linear(64*5*5, 128)\n",
    "        self.relu3 = nn.ReLU(inplace=True)\n",
    "        self.fc2 = nn.Linear(128,10)\n",
    "\n",
    "    def forward(self, x):\n",
    "\n",
    "        x = self.pool1(self.relu1(self.conv1(x)))\n",
    "        x = self.pool2(self.relu2(self.conv2(x)))\n",
    "        x = self.fc1(self.flatten(x))\n",
    "        x = self.fc2(self.relu3(x))\n",
    "\n",
    "        return x"
   ]
  },
  {
   "attachments": {},
   "cell_type": "markdown",
   "metadata": {},
   "source": [
    "## Dataload"
   ]
  },
  {
   "cell_type": "code",
<<<<<<< HEAD
   "execution_count": null,
=======
   "execution_count": 23,
>>>>>>> summer
   "metadata": {},
   "outputs": [],
   "source": [
    "train_dataset = torchvision.datasets.FashionMNIST(root='./FashionMNIST',\n",
    "                                                 train=True,\n",
    "                                                 download =True,\n",
    "                                                  transform=transforms.ToTensor())\n",
    "train_dataloader = torch.utils.data.DataLoader(train_dataset,\n",
    "                                               batch_size= 64,\n",
    "                                               shuffle=True)"
   ]
  },
  {
   "attachments": {},
   "cell_type": "markdown",
   "metadata": {},
   "source": [
    "## Model, loss, optim"
   ]
  },
  {
   "cell_type": "code",
<<<<<<< HEAD
   "execution_count": null,
=======
   "execution_count": 24,
>>>>>>> summer
   "metadata": {},
   "outputs": [
    {
     "name": "stdout",
     "output_type": "stream",
     "text": [
      "MyModel(\n",
      "  (conv1): Conv2d(1, 32, kernel_size=(3, 3), stride=(1, 1))\n",
      "  (relu1): ReLU(inplace=True)\n",
      "  (pool1): MaxPool2d(kernel_size=2, stride=2, padding=0, dilation=1, ceil_mode=False)\n",
      "  (conv2): Conv2d(32, 64, kernel_size=(3, 3), stride=(1, 1))\n",
      "  (relu2): ReLU(inplace=True)\n",
      "  (pool2): MaxPool2d(kernel_size=2, stride=2, padding=0, dilation=1, ceil_mode=False)\n",
      "  (flatten): Flatten(start_dim=1, end_dim=-1)\n",
      "  (fc1): Linear(in_features=1600, out_features=128, bias=True)\n",
      "  (relu3): ReLU(inplace=True)\n",
      "  (fc2): Linear(in_features=128, out_features=10, bias=True)\n",
      ")\n"
     ]
    }
   ],
   "source": [
    "model = MyModel()\n",
    "print(model)"
   ]
  },
  {
   "cell_type": "code",
<<<<<<< HEAD
   "execution_count": null,
=======
   "execution_count": 25,
>>>>>>> summer
   "metadata": {},
   "outputs": [],
   "source": [
    "optimizer = optim.SGD(model.parameters(), lr=0.001, momentum=0.9)\n",
    "\n",
    "NUM_CLASSES = 10\n",
    "SMOOTHING = 0.2\n",
    "criterion = LabelSmoothingLoss(NUM_CLASSES, SMOOTHING)\n",
    "no_criterion = LabelSmoothingLoss(NUM_CLASSES, smoothing=0.0)"
   ]
  },
  {
   "attachments": {},
   "cell_type": "markdown",
   "metadata": {},
   "source": [
    "## Train"
   ]
  },
  {
   "cell_type": "code",
<<<<<<< HEAD
   "execution_count": null,
   "metadata": {},
   "outputs": [
    {
     "ename": "NameError",
     "evalue": "name 'train_dataloader' is not defined",
     "output_type": "error",
     "traceback": [
      "\u001b[1;31m---------------------------------------------------------------------------\u001b[0m",
      "\u001b[1;31mNameError\u001b[0m                                 Traceback (most recent call last)",
      "Cell \u001b[1;32mIn[1], line 9\u001b[0m\n\u001b[0;32m      6\u001b[0m train_loss_no_smoothing \u001b[39m=\u001b[39m \u001b[39m0.0\u001b[39m\n\u001b[0;32m      7\u001b[0m train_loss_smoothing \u001b[39m=\u001b[39m \u001b[39m0.0\u001b[39m\n\u001b[1;32m----> 9\u001b[0m \u001b[39mfor\u001b[39;00m images, labels \u001b[39min\u001b[39;00m train_dataloader:\n\u001b[0;32m     11\u001b[0m     optimizer\u001b[39m.\u001b[39mzero_grad()\n\u001b[0;32m     13\u001b[0m     \u001b[39m##### Smoothing\u001b[39;00m\n",
      "\u001b[1;31mNameError\u001b[0m: name 'train_dataloader' is not defined"
     ]
    }
   ],
=======
   "execution_count": 26,
   "metadata": {},
   "outputs": [],
>>>>>>> summer
   "source": [
    "NUM_EPOCHS= 10\n",
    "train_losses_no_smoothing = []\n",
    "train_losses_smoothing = []\n",
    "\n",
    "for epoch in range(NUM_EPOCHS):\n",
    "    train_loss_no_smoothing = 0.0\n",
    "    train_loss_smoothing = 0.0\n",
    "\n",
    "    for images, labels in train_dataloader:\n",
    "\n",
    "        optimizer.zero_grad()\n",
    "\n",
    "        ##### Smoothing\n",
    "        outputs_no_smoothing = model(images)\n",
    "        loss_no_smoothing = no_criterion(outputs_no_smoothing, labels)\n",
    "        loss_no_smoothing.backward()\n",
    "        optimizer.step()\n",
    "\n",
    "        train_loss_no_smoothing += loss_no_smoothing.item()\n",
    "\n",
    "        ##### NO smoothing\n",
    "        outputs_smoothing = model(images)\n",
    "        loss_smoothing  = criterion(outputs_smoothing, labels)\n",
    "        loss_smoothing.backward()\n",
    "        optimizer.step()\n",
    "\n",
    "        train_loss_smoothing += loss_smoothing.item()\n",
    "\n",
    "    #epoch마다 loss 기록\n",
    "    train_losses_no_smoothing.append(train_loss_no_smoothing/len(train_dataloader))\n",
<<<<<<< HEAD
    "    train_losses_smoothing.append(train_loss_smoothing/len(train_dataloader))\n",
    "\n"
=======
    "    train_losses_smoothing.append(train_loss_smoothing/len(train_dataloader))\n"
>>>>>>> summer
   ]
  },
  {
   "cell_type": "code",
<<<<<<< HEAD
   "execution_count": null,
=======
   "execution_count": 27,
>>>>>>> summer
   "metadata": {},
   "outputs": [
    {
     "data": {
      "text/plain": [
       "'\\noptimzer는 공통으로 쓰고 loss function은 나눠쓰는 이유는 \\n옵티마이저가 모델의 가중치를 조정하는 데 사용되는 것이므로 smoothing 여부와는 직접적인 연관이 없고\\n\\n'"
      ]
     },
     "execution_count": 27,
     "metadata": {},
     "output_type": "execute_result"
    }
   ],
   "source": [
    "\"\"\"\n",
    "optimzer는 공통으로 쓰고 loss function은 나눠쓰는 이유는 \n",
    "옵티마이저가 모델의 가중치를 조정하는 데 사용되는 것이므로 smoothing 여부와는 직접적인 연관이 없고\n",
    "\n",
    "\"\"\""
   ]
  },
  {
   "attachments": {},
   "cell_type": "markdown",
   "metadata": {},
   "source": [
    "## Visualize"
   ]
  },
  {
   "cell_type": "code",
<<<<<<< HEAD
   "execution_count": null,
=======
   "execution_count": 28,
>>>>>>> summer
   "metadata": {},
   "outputs": [
    {
     "data": {
      "image/png": "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",
      "text/plain": [
       "<Figure size 640x480 with 1 Axes>"
      ]
     },
     "metadata": {},
     "output_type": "display_data"
    }
   ],
   "source": [
    "import matplotlib.pyplot as plt\n",
    "\n",
    "epochs = range(1, NUM_EPOCHS+1)\n",
    "\n",
    "plt.plot(epochs, train_losses_no_smoothing, label='Without Label smoothing')\n",
    "plt.plot(epochs, train_losses_smoothing, label='With Label smoothing')\n",
    "plt.xlabel('Epochs')\n",
    "plt.ylabel('Loss')\n",
    "plt.legend()\n",
    "plt.show()"
   ]
  },
  {
   "cell_type": "code",
   "execution_count": null,
   "metadata": {},
   "outputs": [],
   "source": []
  }
 ],
 "metadata": {
  "kernelspec": {
   "display_name": "mspytorch",
   "language": "python",
   "name": "python3"
  },
  "language_info": {
   "codemirror_mode": {
    "name": "ipython",
    "version": 3
   },
   "file_extension": ".py",
   "mimetype": "text/x-python",
   "name": "python",
   "nbconvert_exporter": "python",
   "pygments_lexer": "ipython3",
   "version": "3.8.16"
  },
  "orig_nbformat": 4
 },
 "nbformat": 4,
 "nbformat_minor": 2
}
