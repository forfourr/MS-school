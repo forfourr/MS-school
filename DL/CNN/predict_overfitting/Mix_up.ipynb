{
 "cells": [
  {
   "attachments": {},
   "cell_type": "markdown",
   "metadata": {},
   "source": [
    "# Mix_up\n",
    ": data augmentation의 기법의 일종, 두 데이터와 라벨을 일정비율로 섞어 새로운 데이터 생성\n",
    "\n",
    ": 데이터가 부족할 때 좋다"
   ]
  },
  {
   "cell_type": "code",
   "execution_count": 25,
   "metadata": {},
   "outputs": [],
   "source": [
    "import torch\n",
    "import torch.nn as nn\n",
    "from torch.utils.data import DataLoader\n",
    "import torch.optim as optim\n",
    "import torchvision\n",
    "from torchvision import datasets,transforms\n",
    "\n",
    "import numpy as np"
   ]
  },
  {
   "attachments": {},
   "cell_type": "markdown",
   "metadata": {},
   "source": [
    "## Data"
   ]
  },
  {
   "cell_type": "code",
   "execution_count": 4,
   "metadata": {},
   "outputs": [
    {
     "name": "stdout",
     "output_type": "stream",
     "text": [
      "Downloading https://www.cs.toronto.edu/~kriz/cifar-10-python.tar.gz to ./CIFAR10_data\\cifar-10-python.tar.gz\n"
     ]
    },
    {
     "data": {
      "application/vnd.jupyter.widget-view+json": {
       "model_id": "0f89edbe218142d7b6e48bbc13e1b6f8",
       "version_major": 2,
       "version_minor": 0
      },
      "text/plain": [
       "  0%|          | 0/170498071 [00:00<?, ?it/s]"
      ]
     },
     "metadata": {},
     "output_type": "display_data"
    },
    {
     "name": "stdout",
     "output_type": "stream",
     "text": [
      "Extracting ./CIFAR10_data\\cifar-10-python.tar.gz to ./CIFAR10_data\n"
     ]
    }
   ],
   "source": [
    "# Train\n",
    "train_transform = transforms.Compose([\n",
    "    transforms.RandomCrop(32, padding=4),\n",
    "    transforms.RandomHorizontalFlip(),\n",
    "    transforms.RandomVerticalFlip(),\n",
    "    transforms.AutoAugment(),\n",
    "    transforms.ToTensor(),\n",
    "    transforms.Normalize((0.5,0.5,0.5),(0.3,0.3,0.3))\n",
    "])\n",
    "\n",
    "\n",
    "train_dataset = datasets.CIFAR10(root='./CIFAR10_data',\n",
    "                                 train=True,\n",
    "                                 download=True,\n",
    "                                 transform=train_transform)\n",
    "train_loader = DataLoader(train_dataset,\n",
    "                          batch_size=64,\n",
    "                          shuffle=True)"
   ]
  },
  {
   "cell_type": "code",
   "execution_count": 5,
   "metadata": {},
   "outputs": [],
   "source": [
    "# Test\n",
    "test_transform = transforms.Compose([\n",
    "    transforms.ToTensor(),\n",
    "    transforms.Normalize((0.5,0.5,0.5),(0.3,0.3,0.3))\n",
    "])\n",
    "\n",
    "\n",
    "test_dataset = datasets.CIFAR10(root='./CIFAR10_data',\n",
    "                                 train=False,\n",
    "                                 transform=test_transform)\n",
    "test_loader = DataLoader(test_dataset,\n",
    "                          batch_size=64,\n",
    "                          shuffle=True)"
   ]
  },
  {
   "attachments": {},
   "cell_type": "markdown",
   "metadata": {},
   "source": [
    "## Model\n"
   ]
  },
  {
   "cell_type": "code",
   "execution_count": 2,
   "metadata": {},
   "outputs": [],
   "source": [
    "class MyModel(nn.Module):\n",
    "    def __init__(self):\n",
    "        super(MyModel, self).__init__()\n",
    "\n",
    "        self.conv1 = nn.Conv2d(3, 16, kernel_size=3, stride=1, padding=1)\n",
    "        self.flatten = nn.Flatten()\n",
    "\n",
    "        self.fc1 = nn.Linear(16*32*32, 128)\n",
    "        self.fc2 = nn.Linear(128,10)\n",
    "\n",
    "\n",
    "    def forward(self, x):\n",
    "        x = self.flatten(torch.relu(self.conv1(x)))\n",
    "        x = self.fc2(self.fc1(x))\n",
    "        return(x)"
   ]
  },
  {
   "cell_type": "code",
   "execution_count": 3,
   "metadata": {},
   "outputs": [
    {
     "name": "stdout",
     "output_type": "stream",
     "text": [
      "MyModel(\n",
      "  (conv1): Conv2d(3, 16, kernel_size=(3, 3), stride=(1, 1), padding=(1, 1))\n",
      "  (flatten): Flatten(start_dim=1, end_dim=-1)\n",
      "  (fc1): Linear(in_features=16384, out_features=128, bias=True)\n",
      "  (fc2): Linear(in_features=128, out_features=10, bias=True)\n",
      ")\n"
     ]
    }
   ],
   "source": [
    "model = MyModel()\n",
    "print(model)"
   ]
  },
  {
   "attachments": {},
   "cell_type": "markdown",
   "metadata": {},
   "source": [
    "## Set Loss, optimzer "
   ]
  },
  {
   "cell_type": "code",
   "execution_count": 27,
   "metadata": {},
   "outputs": [],
   "source": [
    "criterion = nn.CrossEntropyLoss()\n",
    "optimizer = optim.SGD(model.parameters(), lr = 0.01)"
   ]
  },
  {
   "cell_type": "code",
   "execution_count": null,
   "metadata": {},
   "outputs": [],
   "source": []
  },
  {
   "cell_type": "code",
   "execution_count": 35,
   "metadata": {},
   "outputs": [],
   "source": [
    "def Mixup_data(x, y, alpha=1.0):    #x:input, y:target\n",
    "    batch_size = x.size(0)\n",
    "    # 무작위 랜덤값 설정 후 0,1 값 사이로 만든다.\n",
    "    lam = torch.rand(batch_size, 1, 1, 1)\n",
    "    lam = torch.max(lam, 1-lam)     \n",
    "    \n",
    "    \"\"\"\n",
    "    lam의 가중치로 x를 곱하고,\n",
    "    (1-lam) * x.flip(dims=[0,2,3])는 (1-lam)의 가중치로 x를 뒤집은 것을 곱합\n",
    "    \"\"\"\n",
    "    mixed_x = lam*x + (1-lam) * x.flip(dims=[0,2,3])\n",
    "    indices = torch.randperm(batch_size)    #값은 0부터 batch_size-1까지의 순열\n",
    "\n",
    "    mixed_y = lam.squeeze()*y + (1-lam.squeeze())*y[indices]\n",
    "    mixed_y = mixed_y.to(torch.long)\n",
    "\n",
    "    return mixed_x, mixed_y"
   ]
  },
  {
   "attachments": {},
   "cell_type": "markdown",
   "metadata": {},
   "source": [
    "### 결과 테스트"
   ]
  },
  {
   "cell_type": "code",
   "execution_count": 36,
   "metadata": {},
   "outputs": [
    {
     "data": {
      "text/plain": [
       "'\\nx = torch.randn(32, 3, 28, 28)\\ny = torch.randint(0, 10, (32,))\\n\\nmixed_x, mixed_y = Mixup_data(x, y)\\n'"
      ]
     },
     "execution_count": 36,
     "metadata": {},
     "output_type": "execute_result"
    }
   ],
   "source": [
    "\"\"\"\n",
    "x = torch.randn(32, 3, 28, 28)\n",
    "y = torch.randint(0, 10, (32,))\n",
    "\n",
    "mixed_x, mixed_y = Mixup_data(x, y)\n",
    "\"\"\""
   ]
  },
  {
   "cell_type": "code",
   "execution_count": 37,
   "metadata": {},
   "outputs": [],
   "source": [
    "# y"
   ]
  },
  {
   "attachments": {},
   "cell_type": "markdown",
   "metadata": {},
   "source": [
    "## Visualize fun"
   ]
  },
  {
   "cell_type": "code",
   "execution_count": 38,
   "metadata": {},
   "outputs": [],
   "source": [
    "import matplotlib.pyplot as plt\n",
    "import numpy as np\n",
    "\n",
    "def plot_images(images, labels, title):\n",
    "    fig, axes = plt.subplots(2,5, figsize=(12, 6))\n",
    "    fig.suptitle(title, fontsize=16)\n",
    "    labels = labels.numpy()\n",
    "\n",
    "    for i, ax in enumerate(axes.flat):\n",
    "        image = images[i].squeeze()\n",
    "        ax.imshow(image, cmap='gray')\n",
    "        ax.set_title(f\"Label: {labels[i]}\")\n",
    "        ax.axis('off')\n",
    "\n",
    "    plt.show()\n"
   ]
  },
  {
   "attachments": {},
   "cell_type": "markdown",
   "metadata": {},
   "source": [
    "## Train loop"
   ]
  },
  {
   "cell_type": "code",
   "execution_count": 43,
   "metadata": {},
   "outputs": [
    {
     "name": "stderr",
     "output_type": "stream",
     "text": [
      "Clipping input data to the valid range for imshow with RGB data ([0..1] for floats or [0..255] for integers).\n",
      "Clipping input data to the valid range for imshow with RGB data ([0..1] for floats or [0..255] for integers).\n",
      "Clipping input data to the valid range for imshow with RGB data ([0..1] for floats or [0..255] for integers).\n",
      "Clipping input data to the valid range for imshow with RGB data ([0..1] for floats or [0..255] for integers).\n",
      "Clipping input data to the valid range for imshow with RGB data ([0..1] for floats or [0..255] for integers).\n",
      "Clipping input data to the valid range for imshow with RGB data ([0..1] for floats or [0..255] for integers).\n",
      "Clipping input data to the valid range for imshow with RGB data ([0..1] for floats or [0..255] for integers).\n",
      "Clipping input data to the valid range for imshow with RGB data ([0..1] for floats or [0..255] for integers).\n",
      "Clipping input data to the valid range for imshow with RGB data ([0..1] for floats or [0..255] for integers).\n",
      "Clipping input data to the valid range for imshow with RGB data ([0..1] for floats or [0..255] for integers).\n"
     ]
    },
    {
     "data": {
      "image/png": "[encoded data removed]",
      "text/plain": [
       "<Figure size 1200x600 with 10 Axes>"
      ]
     },
     "metadata": {},
     "output_type": "display_data"
    },
    {
     "name": "stdout",
     "output_type": "stream",
     "text": [
      "Epoch 1:\n",
      "No Smoothing Loss: 1.7302020137267344\n",
      "Smoothing Loss: 1.8485174227858443\n",
      "-------------------\n",
      "Epoch 2:\n",
      "No Smoothing Loss: 1.7253598918390396\n",
      "Smoothing Loss: 1.8409961404093087\n",
      "-------------------\n",
      "Epoch 3:\n",
      "No Smoothing Loss: 1.725420162348491\n",
      "Smoothing Loss: 1.8425190665227982\n",
      "-------------------\n",
      "Epoch 4:\n",
      "No Smoothing Loss: 1.7161307293740684\n",
      "Smoothing Loss: 1.8392048840937407\n",
      "-------------------\n",
      "Epoch 5:\n",
      "No Smoothing Loss: 1.7141984830731931\n",
      "Smoothing Loss: 1.8330290184911255\n",
      "-------------------\n",
      "Epoch 6:\n",
      "No Smoothing Loss: 1.7156537966350156\n",
      "Smoothing Loss: 1.832909257515617\n",
      "-------------------\n",
      "Epoch 7:\n",
      "No Smoothing Loss: 1.709727668853672\n",
      "Smoothing Loss: 1.8303439051598844\n",
      "-------------------\n",
      "Epoch 8:\n",
      "No Smoothing Loss: 1.7055773712180156\n",
      "Smoothing Loss: 1.825517382768109\n",
      "-------------------\n",
      "Epoch 9:\n",
      "No Smoothing Loss: 1.6994627229392987\n",
      "Smoothing Loss: 1.8224986793135134\n",
      "-------------------\n",
      "Epoch 10:\n",
      "No Smoothing Loss: 1.7023618169452832\n",
      "Smoothing Loss: 1.8230227747231798\n",
      "-------------------\n",
      "Epoch 11:\n",
      "No Smoothing Loss: 1.70001523665455\n",
      "Smoothing Loss: 1.8244280176394432\n",
      "-------------------\n",
      "Epoch 12:\n",
      "No Smoothing Loss: 1.6946773080874586\n",
      "Smoothing Loss: 1.8158144966110854\n",
      "-------------------\n",
      "Epoch 13:\n",
      "No Smoothing Loss: 1.6958192457323489\n",
      "Smoothing Loss: 1.8216084629068594\n",
      "-------------------\n",
      "Epoch 14:\n",
      "No Smoothing Loss: 1.693946261997418\n",
      "Smoothing Loss: 1.8197800015549526\n",
      "-------------------\n",
      "Epoch 15:\n",
      "No Smoothing Loss: 1.693159225041909\n",
      "Smoothing Loss: 1.8187586709361552\n",
      "-------------------\n",
      "Epoch 16:\n",
      "No Smoothing Loss: 1.686264175435771\n",
      "Smoothing Loss: 1.8110226494881807\n",
      "-------------------\n",
      "Epoch 17:\n",
      "No Smoothing Loss: 1.692394997457714\n",
      "Smoothing Loss: 1.8161526857434636\n",
      "-------------------\n",
      "Epoch 18:\n",
      "No Smoothing Loss: 1.6818861802825538\n",
      "Smoothing Loss: 1.8084058153354907\n",
      "-------------------\n",
      "Epoch 19:\n",
      "No Smoothing Loss: 1.6816270936785451\n",
      "Smoothing Loss: 1.8081776999756503\n",
      "-------------------\n",
      "Epoch 20:\n",
      "No Smoothing Loss: 1.6856043152796947\n",
      "Smoothing Loss: 1.813025346040116\n",
      "-------------------\n"
     ]
    }
   ],
   "source": [
    "NUM_EPOCHS = 20\n",
    "\n",
    "train_losses_no_mixup = []\n",
    "train_losses_mixup = []\n",
    "\n",
    "idx=  0\n",
    "\n",
    "for epoch in range(NUM_EPOCHS):\n",
    "    train_loss_no = 0.0\n",
    "    train_loss = 0.0\n",
    "\n",
    "    for inputs, labels in train_loader:\n",
    "        optimizer.zero_grad()\n",
    "\n",
    "        # No Mixup\n",
    "        x, y = inputs, labels\n",
    "\n",
    "        # MIXUP 실행\n",
    "        mixed_x, mixed_y = Mixup_data(inputs, labels)\n",
    "\n",
    "        mixed_images = mixed_x.cpu().numpy()\n",
    "        mixed_images = np.transpose(mixed_images, (0,2,3,1))\n",
    "        mixed_images = np.squeeze(mixed_images)\n",
    "\n",
    "        if idx ==0:\n",
    "            plot_images(mixed_images, mixed_y.squeeze(), 'Mixed image with label smoothing')\n",
    "            idx = 1\n",
    "\n",
    "        #모델 생성\n",
    "        outputs_no_mixup = model(x)\n",
    "        outputs_mixup = model(mixed_x)\n",
    "\n",
    "        labels = torch.squeeze(labels)\n",
    "\n",
    "        #loss\n",
    "        loss_no_mixup = criterion(outputs_no_mixup, labels)\n",
    "        loss_mixup = criterion(outputs_mixup, labels)\n",
    "\n",
    "        loss_no_mixup.backward()\n",
    "        loss_mixup.backward()\n",
    "\n",
    "        #optim\n",
    "        optimizer.step()\n",
    "\n",
    "        #loss 계산\n",
    "        train_loss_no += loss_no_mixup.item()\n",
    "        train_loss += loss_mixup.item()\n",
    "\n",
    "    #epoch마다 loss 기록\n",
    "    train_losses_no_mixup.append(train_loss_no/len(train_loader))\n",
    "    train_losses_mixup.append(train_loss/len(train_loader))\n",
    "\n",
    "         # epoch마다 loss 출력\n",
    "    print(f\"Epoch {epoch + 1}:\")\n",
    "    print(f\"No Smoothing Loss: {train_loss_no / len(train_loader)}\")\n",
    "    print(f\"Smoothing Loss: {train_loss / len(train_loader)}\")\n",
    "    print(\"-------------------\")\n",
    "\n",
    "\n",
    "        "
   ]
  },
  {
   "attachments": {},
   "cell_type": "markdown",
   "metadata": {},
   "source": []
  },
  {
   "cell_type": "code",
   "execution_count": 44,
   "metadata": {},
   "outputs": [
    {
     "data": {
      "image/png": "[encoded data removed]",
      "text/plain": [
       "<Figure size 640x480 with 1 Axes>"
      ]
     },
     "metadata": {},
     "output_type": "display_data"
    }
   ],
   "source": [
    "import matplotlib.pyplot as plt\n",
    "\n",
    "epochs = range(1, NUM_EPOCHS+1)\n",
    "\n",
    "plt.plot(epochs, train_losses_no_mixup, label='No Mixup')\n",
    "plt.plot(epochs, train_losses_mixup, label='Mixup')\n",
    "plt.xlabel('Epochs')\n",
    "plt.ylabel('Loss')\n",
    "plt.legend()\n",
    "plt.show()"
   ]
  },
  {
   "cell_type": "code",
   "execution_count": null,
   "metadata": {},
   "outputs": [],
   "source": []
  }
 ],
 "metadata": {
  "kernelspec": {
   "display_name": "mspytorch",
   "language": "python",
   "name": "python3"
  },
  "language_info": {
   "codemirror_mode": {
    "name": "ipython",
    "version": 3
   },
   "file_extension": ".py",
   "mimetype": "text/x-python",
   "name": "python",
   "nbconvert_exporter": "python",
   "pygments_lexer": "ipython3",
   "version": "3.8.16"
  },
  "orig_nbformat": 4
 },
 "nbformat": 4,
 "nbformat_minor": 2
}
