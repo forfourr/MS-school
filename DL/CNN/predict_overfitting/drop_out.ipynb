{
 "cells": [
  {
   "attachments": {},
   "cell_type": "markdown",
   "metadata": {},
   "source": [
    "# Dropout\n",
    ": overfitting을 막기위한 방법으로 인공신경망의 뉴런을 몇개 제거\n",
    "\n",
    ": 일반적으로 0.2~0.5 사용\n",
    "\n",
    ": training단계에서만 사용"
   ]
  },
  {
   "cell_type": "code",
   "execution_count": 13,
   "metadata": {},
   "outputs": [],
   "source": [
    "import torch\n",
    "import torch.nn as nn\n",
    "import torch.optim as optim\n",
    "import torchvision.datasets as datasets\n",
    "import torchvision.transforms as transforms\n",
    "from torch.utils.data import DataLoader"
   ]
  },
  {
   "attachments": {},
   "cell_type": "markdown",
   "metadata": {},
   "source": [
    "## Model with dropout"
   ]
  },
  {
   "cell_type": "code",
   "execution_count": 25,
   "metadata": {},
   "outputs": [],
   "source": [
    "class DropoutNet(nn.Module):\n",
    "    def __init__(self):\n",
    "        super(DropoutNet,self).__init__()\n",
    "        \n",
    "        self.fc1 = nn.Linear(784, 500)\n",
    "        self.dropout = nn.Dropout(p=0.5)\n",
    "        self.fc2 = nn.Linear(500,10)\n",
    "\n",
    "    def forward(self, x):\n",
    "        x = x.view(x.size(0), -1)\n",
    "        x = torch.relu(self.fc1(x))\n",
    "        x = self.dropout(x)\n",
    "        x = self.fc2(x)\n",
    "\n",
    "        return x\n",
    "    \n",
    "    \"\"\"\n",
    "    init: torch.Size([64, 1, 28, 28])\n",
    "    view: torch.Size([64, 784])\n",
    "    after fc1: torch.Size([64, 500])\n",
    "    after dropout: torch.Size([64, 500])\n",
    "    after fc1: torch.Size([64, 10])\n",
    "        \n",
    "    \"\"\""
   ]
  },
  {
   "attachments": {},
   "cell_type": "markdown",
   "metadata": {},
   "source": [
    "## Model without dropout"
   ]
  },
  {
   "cell_type": "code",
   "execution_count": 26,
   "metadata": {},
   "outputs": [],
   "source": [
    "class NonDropout(nn.Module):\n",
    "    def __init__(self):\n",
    "        super(NonDropout, self).__init__()\n",
    "\n",
    "        self.fc1 = nn.Linear(784, 500)\n",
    "        self.fc2 = nn.Linear(500,10)\n",
    "\n",
    "    def forward(self, x):\n",
    "        x = x.view(x.size(0), -1)\n",
    "        x = torch.relu(self.fc1(x))\n",
    "        x = self.fc2(x)\n",
    "\n",
    "        return x"
   ]
  },
  {
   "attachments": {},
   "cell_type": "markdown",
   "metadata": {},
   "source": [
    "## result"
   ]
  },
  {
   "cell_type": "code",
   "execution_count": 27,
   "metadata": {},
   "outputs": [
    {
     "name": "stdout",
     "output_type": "stream",
     "text": [
      "DropoutNet(\n",
      "  (fc1): Linear(in_features=784, out_features=500, bias=True)\n",
      "  (dropout): Dropout(p=0.5, inplace=False)\n",
      "  (fc2): Linear(in_features=500, out_features=10, bias=True)\n",
      ")\n",
      "NonDropout(\n",
      "  (fc1): Linear(in_features=784, out_features=500, bias=True)\n",
      "  (fc2): Linear(in_features=500, out_features=10, bias=True)\n",
      ")\n"
     ]
    }
   ],
   "source": [
    "# 모델 인스턴스 생성\n",
    "model_dropout = DropoutNet()\n",
    "model_nondropout = NonDropout()\n",
    "# 출력 값 확인\n",
    "print(model_dropout)\n",
    "print(model_nondropout)"
   ]
  },
  {
   "attachments": {},
   "cell_type": "markdown",
   "metadata": {},
   "source": [
    "## MNIST datasets downlaod"
   ]
  },
  {
   "cell_type": "code",
   "execution_count": 28,
   "metadata": {},
   "outputs": [],
   "source": [
    "train_transform = transforms.Compose([\n",
    "    transforms.AutoAugment(),\n",
    "    transforms.ToTensor(),\n",
    "    transforms.Normalize((0.5,),(0.2,))\n",
    "])\n",
    "test_transform = transforms.Compose([\n",
    "    transforms.ToTensor(),\n",
    "    transforms.Normalize((0.5,),(0.2,))\n",
    "])\n"
   ]
  },
  {
   "cell_type": "code",
   "execution_count": 29,
   "metadata": {},
   "outputs": [],
   "source": [
    "train_dataset = datasets.MNIST(root='./MNIST_data',\n",
    "                              train=True,\n",
    "                              transform=train_transform,\n",
    "                              download=True)\n",
    "test_dataset = datasets.MNIST(root='./MNIST_data',\n",
    "                               train=False,\n",
    "                               transform=test_transform)"
   ]
  },
  {
   "cell_type": "code",
   "execution_count": 30,
   "metadata": {},
   "outputs": [],
   "source": [
    "BATCH_SIZE = 64\n",
    "train_loader = DataLoader(dataset=train_dataset,\n",
    "                              batch_size=BATCH_SIZE,\n",
    "                              shuffle=True)\n",
    "\n",
    "test_loader = DataLoader(dataset=test_dataset,\n",
    "                              batch_size=BATCH_SIZE,\n",
    "                              shuffle=False)"
   ]
  },
  {
   "attachments": {},
   "cell_type": "markdown",
   "metadata": {},
   "source": [
    "## Set loss, optimizer "
   ]
  },
  {
   "cell_type": "code",
   "execution_count": 31,
   "metadata": {},
   "outputs": [],
   "source": [
    "dropout_criterion = nn.CrossEntropyLoss()\n",
    "dropout_optim = optim.SGD(model_dropout.parameters(), lr=0.001)\n",
    "\n",
    "nondrop_criterion = nn.CrossEntropyLoss()\n",
    "nondrop_optim = optim.SGD(model_nondropout.parameters(), lr = 0.001)"
   ]
  },
  {
   "attachments": {},
   "cell_type": "markdown",
   "metadata": {},
   "source": [
    "## DROPOUT train/test"
   ]
  },
  {
   "cell_type": "code",
   "execution_count": 36,
   "metadata": {},
   "outputs": [
    {
     "name": "stdout",
     "output_type": "stream",
     "text": [
      "DROPOUT epoch: [10/10], Error: 0.528876543045044\n",
      "DROPOUT accuaracy: 93.83\n"
     ]
    }
   ],
   "source": [
    "#Train\n",
    "for epoch in range(10):\n",
    "    model_dropout.train()   #train mode 선언\n",
    "    for images, labels in train_loader:\n",
    "        dropout_optim.zero_grad()\n",
    "\n",
    "        outputs = model_dropout(images)\n",
    "        dropout_loss = dropout_criterion(outputs, labels)\n",
    "        dropout_loss.backward()\n",
    "        dropout_optim.step()\n",
    "    \n",
    "    if (epoch+1)%10 ==0:\n",
    "        print(f\"DROPOUT epoch: [{epoch+1}/10], Error: {dropout_loss.item()}\")\n",
    "\n",
    "#TEST\n",
    "model_dropout.eval()\n",
    "with torch.no_grad():\n",
    "    dropout_corr = 0\n",
    "    dropout_total = 0\n",
    "    for images, labels in test_loader:\n",
    "        test_out = model_dropout(images)\n",
    "        _, dropout_pre = torch.max(test_out.data, 1)\n",
    "        dropout_total += images.size(0)\n",
    "        dropout_corr += (dropout_pre == labels).sum().item()\n",
    "\n",
    "    print(f\"DROPOUT accuaracy: {100* dropout_corr/dropout_total :.2f}\")\n"
   ]
  },
  {
   "attachments": {},
   "cell_type": "markdown",
   "metadata": {},
   "source": [
    "## NONDROPOUT trian/test"
   ]
  },
  {
   "cell_type": "code",
   "execution_count": 35,
   "metadata": {},
   "outputs": [
    {
     "name": "stdout",
     "output_type": "stream",
     "text": [
      "NONDROPOUT epoch: [10/10], Error: 0.5317409634590149\n",
      "DROPOUT accuaracy: 91.53\n"
     ]
    }
   ],
   "source": [
    "#Train\n",
    "for epoch in range(10):\n",
    "    model_nondropout.train()   #train mode 선언\n",
    "    for images, labels in train_loader:\n",
    "        nondrop_optim.zero_grad()\n",
    "\n",
    "        non_outputs = model_nondropout(images)\n",
    "        nondropout_loss = nondrop_criterion(non_outputs, labels)\n",
    "        nondropout_loss.backward()\n",
    "        nondrop_optim.step()\n",
    "\n",
    "    if (epoch+1)%10 ==0:\n",
    "        print(f\"NONDROPOUT epoch: [{epoch+1}/10], Error: {nondropout_loss.item()}\")\n",
    "\n",
    "#TEST\n",
    "model_nondropout.eval()\n",
    "with torch.no_grad():\n",
    "    nondropout_corr = 0\n",
    "    nondropout_total = 0\n",
    "    for images, labels in test_loader:\n",
    "        non_test_out = model_nondropout(images)\n",
    "        _, nondropout_pre = torch.max(non_test_out.data, 1)\n",
    "        nondropout_total += images.size(0)\n",
    "        nondropout_corr += (nondropout_pre == labels).sum().item()\n",
    "\n",
    "    print(f\"DROPOUT accuaracy: {100* nondropout_corr/nondropout_total :.2f}\")\n"
   ]
  },
  {
   "cell_type": "code",
   "execution_count": null,
   "metadata": {},
   "outputs": [],
   "source": []
  },
  {
   "cell_type": "code",
   "execution_count": null,
   "metadata": {},
   "outputs": [],
   "source": []
  }
 ],
 "metadata": {
  "kernelspec": {
   "display_name": "mspytorch",
   "language": "python",
   "name": "python3"
  },
  "language_info": {
   "codemirror_mode": {
    "name": "ipython",
    "version": 3
   },
   "file_extension": ".py",
   "mimetype": "text/x-python",
   "name": "python",
   "nbconvert_exporter": "python",
   "pygments_lexer": "ipython3",
   "version": "3.8.16"
  },
  "orig_nbformat": 4
 },
 "nbformat": 4,
 "nbformat_minor": 2
}
