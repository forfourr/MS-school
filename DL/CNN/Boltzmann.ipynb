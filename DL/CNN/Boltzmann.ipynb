{
 "cells": [
  {
   "attachments": {},
   "cell_type": "markdown",
   "metadata": {},
   "source": [
    "# Boltzmann machine\n",
    ": hidden node, visible node로 구성되어 있다"
   ]
  },
  {
   "attachments": {},
   "cell_type": "markdown",
   "metadata": {},
   "source": [
    "# Restricted Boltzmann machine\n",
    ": visible layer, hidden layer, weight matrix, visible, layer bias, hidden layer bias로 구성"
   ]
  },
  {
   "cell_type": "code",
   "execution_count": null,
   "metadata": {},
   "outputs": [],
   "source": [
    "import torch\n",
    "import torch.nn as nn\n",
    "import "
   ]
  },
  {
   "cell_type": "code",
   "execution_count": null,
   "metadata": {},
   "outputs": [],
   "source": [
    "class RBM(nn.module):\n",
    "    def __init__(self, visible_size, hidden_size):\n",
    "        super(RBM, self).__self__()\n",
    "        # nn.parameter: 학습가능한 매개변수 나타냄\n",
    "        # parameter로 나타내진 매개변수(weight, bias(v/h)는 경사하강법을 통해 업데이트 됨)\n",
    "        self.weight = nn.Parameter(torch.randn(visible_size, hidden_size))\n",
    "        self.v_bias = nn.parameter(torch.randn(visible_size))\n",
    "        self.h_bias = nn.parameter(torch.randn(hidden_size))\n",
    "\n",
    "    def forward(self, x):\n",
    "        hidden_prob= torch.sigmod(torch.matmul(x, self.weight)+ self.h_bias)\n",
    "        hidden_state = torch.bernonlli(hidden_prob)\n",
    "        visible_prob = torch.sigmoid(torch.matmul(hidden_state, torch.transpose(self.w,0,1))+self.v_bias)\n",
    "        return visible_prob, hidden_state"
   ]
  },
  {
   "cell_type": "code",
   "execution_count": null,
   "metadata": {},
   "outputs": [],
   "source": []
  },
  {
   "cell_type": "code",
   "execution_count": null,
   "metadata": {},
   "outputs": [],
   "source": [
    "num_epochs=10\n",
    "\n",
    "for epoch in range(num_epochs):\n",
    "    for images,_ in train_loader:\n",
    "        inputs = images.view(-1,visible_sizes)  #가로로?세로로? 쭉 펴달라"
   ]
  }
 ],
 "metadata": {
  "language_info": {
   "name": "python"
  },
  "orig_nbformat": 4
 },
 "nbformat": 4,
 "nbformat_minor": 2
}
