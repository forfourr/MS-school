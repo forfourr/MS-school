{
 "cells": [
  {
   "attachments": {},
   "cell_type": "markdown",
   "metadata": {},
   "source": [
    "# MNIST TEST\n",
    "MNIST data로 학습시킨 모델로 직접 쓴 손글씨 test 후 정확도 판단"
   ]
  },
  {
   "cell_type": "code",
   "execution_count": 1,
   "metadata": {},
   "outputs": [],
   "source": [
    "import torch\n",
    "import torch.nn as nn\n",
    "import torch.optim as optim\n",
    "from torch.utils.data import DataLoader\n",
    "from torchvision.datasets import MNIST\n",
    "from torchvision import transforms\n",
    "import matplotlib.pyplot as plt\n",
    "from mpl_toolkits.axes_grid1 import make_axes_locatable"
   ]
  },
  {
   "attachments": {},
   "cell_type": "markdown",
   "metadata": {},
   "source": [
    "## Model"
   ]
  },
  {
   "cell_type": "code",
   "execution_count": 2,
   "metadata": {},
   "outputs": [],
   "source": [
    "# CNN 아키텍처 구성을 위한 클래스 정의\n",
    "class CNN(nn.Module):\n",
    "    def __init__(self):\n",
    "        super(CNN, self).__init__()\n",
    "\n",
    "        # Convolutional Layer\n",
    "        self.conv1 = nn.Conv2d(in_channels=1, out_channels=16, kernel_size=3, stride=1, padding=1)\n",
    "        self.relu = nn.ReLU()\n",
    "        self.maxpool = nn.MaxPool2d(kernel_size=2, stride=2)\n",
    "        self.conv2 = nn.Conv2d(16,32, kernel_size=3, stride=1, padding=1)\n",
    "\n",
    "        # Fully Connected Layer\n",
    "        self.fc = nn.Linear(32*7*7, 10)\n",
    "        \n",
    "\n",
    "    def forward(self, x):\n",
    "        # Convolutional Layer\n",
    "        x = self.conv1(x)\n",
    "        x = self.relu(x)\n",
    "        x = self.maxpool(x)\n",
    "        x = self.conv2(x)\n",
    "        x = self.relu(x)\n",
    "        x = self.maxpool(x)\n",
    "        \n",
    "        #flatten\n",
    "        x = x.view(x.size(0),-1)\n",
    "        print(x.shape)\n",
    "        x = self.fc(x)\n",
    "        \n",
    "\n",
    "        \n",
    "        return x"
   ]
  },
  {
   "cell_type": "code",
   "execution_count": null,
   "metadata": {},
   "outputs": [],
   "source": []
  },
  {
   "attachments": {},
   "cell_type": "markdown",
   "metadata": {},
   "source": [
    "## Training"
   ]
  },
  {
   "cell_type": "code",
   "execution_count": null,
   "metadata": {},
   "outputs": [],
   "source": []
  },
  {
   "cell_type": "code",
   "execution_count": null,
   "metadata": {},
   "outputs": [],
   "source": []
  },
  {
   "attachments": {},
   "cell_type": "markdown",
   "metadata": {},
   "source": [
    "## Test Custom Dataset"
   ]
  },
  {
   "cell_type": "code",
   "execution_count": 3,
   "metadata": {},
   "outputs": [],
   "source": [
    "from torch.utils.data import Dataset\n",
    "from torch.utils.data import Dataset, DataLoader\n",
    "from torchvision import transforms\n",
    "import glob\n",
    "import os\n",
    "from PIL import Image\n",
    "import numpy as np\n",
    "\n",
    "import torch.optim as optim"
   ]
  },
  {
   "cell_type": "code",
   "execution_count": 12,
   "metadata": {},
   "outputs": [],
   "source": [
    "class CustomDataset(Dataset):\n",
    "    def __init__(self,img_path, transform=None):\n",
    "        self.transfrom = transform\n",
    "        file_list =['*.jpg','*.png']\n",
    "        for files in file_list:\n",
    "            self.image_paths = glob.glob(os.path.join(img_path,files))\n",
    "        \n",
    "    def __getitem__(self, index):\n",
    "        #이미지 파일 라벨링\n",
    "        image_path = self.image_paths[index]\n",
    "        file_name = image_path.split('\\\\')[-1]\n",
    "        label = file_name[-5]\n",
    "        target = np.array(self.labels.get(image_id)).astype(np.float32)\n",
    "\n",
    "        convert_tensor = transforms.ToTensor()  \n",
    "\n",
    "        # try:\n",
    "        #gray scale\n",
    "        image = Image.open(image_path).convert('L')\n",
    "        #resize\n",
    "        image = image.resize((28,28))\n",
    "        #To tensor\n",
    "        img = convert_tensor(image)\n",
    "        img = img.unsqueeze(dim=0)\n",
    "        \n",
    "        return {\n",
    "        \"img\": torch.tensor(img, dtype=torch.float),\n",
    "        \"label\": torch.tensor(label, dtype=torch.float)\n",
    "    }\n",
    "        \n",
    "        # except Exception:\n",
    "        #     print(\"읽을 수 없는 이미지 파일 입니다\")\n",
    "        #     return\n",
    "\n",
    "\n",
    "\n",
    "    def __len__(self):\n",
    "        return len(self.image_paths)\n",
    "\n"
   ]
  },
  {
   "cell_type": "code",
   "execution_count": 13,
   "metadata": {},
   "outputs": [
    {
     "name": "stderr",
     "output_type": "stream",
     "text": [
      "C:\\Users\\iiile\\AppData\\Local\\Temp\\ipykernel_34060\\787438817.py:23: UserWarning: To copy construct from a tensor, it is recommended to use sourceTensor.clone().detach() or sourceTensor.clone().detach().requires_grad_(True), rather than torch.tensor(sourceTensor).\n",
      "  \"img\": torch.tensor(img, dtype=torch.float),\n"
     ]
    },
    {
     "ename": "TypeError",
     "evalue": "new(): invalid data type 'str'",
     "output_type": "error",
     "traceback": [
      "\u001b[1;31m---------------------------------------------------------------------------\u001b[0m",
      "\u001b[1;31mTypeError\u001b[0m                                 Traceback (most recent call last)",
      "Cell \u001b[1;32mIn[13], line 7\u001b[0m\n\u001b[0;32m      5\u001b[0m dataset \u001b[39m=\u001b[39m CustomDataset(img_path)\n\u001b[0;32m      6\u001b[0m \u001b[39m#Custondata 생성\u001b[39;00m\n\u001b[1;32m----> 7\u001b[0m \u001b[39mfor\u001b[39;00m i \u001b[39min\u001b[39;00m dataset:\n\u001b[0;32m      8\u001b[0m     \u001b[39mpass\u001b[39;00m\n",
      "Cell \u001b[1;32mIn[12], line 24\u001b[0m, in \u001b[0;36mCustomDataset.__getitem__\u001b[1;34m(self, index)\u001b[0m\n\u001b[0;32m     20\u001b[0m     img \u001b[39m=\u001b[39m convert_tensor(image)\n\u001b[0;32m     21\u001b[0m     img \u001b[39m=\u001b[39m img\u001b[39m.\u001b[39munsqueeze(dim\u001b[39m=\u001b[39m\u001b[39m0\u001b[39m)\n\u001b[0;32m     22\u001b[0m     \u001b[39mreturn\u001b[39;00m {\n\u001b[0;32m     23\u001b[0m     \u001b[39m\"\u001b[39m\u001b[39mimg\u001b[39m\u001b[39m\"\u001b[39m: torch\u001b[39m.\u001b[39mtensor(img, dtype\u001b[39m=\u001b[39mtorch\u001b[39m.\u001b[39mfloat),\n\u001b[1;32m---> 24\u001b[0m     \u001b[39m\"\u001b[39m\u001b[39mlabel\u001b[39m\u001b[39m\"\u001b[39m: torch\u001b[39m.\u001b[39;49mtensor(label, dtype\u001b[39m=\u001b[39;49mtorch\u001b[39m.\u001b[39;49mfloat)\n\u001b[0;32m     25\u001b[0m }\n",
      "\u001b[1;31mTypeError\u001b[0m: new(): invalid data type 'str'"
     ]
    }
   ],
   "source": [
    "if __name__ == '__main__':\n",
    "\n",
    "    #이미지 경로\n",
    "    img_path = './MNIST_data/'\n",
    "    dataset = CustomDataset(img_path)\n",
    "    #Custondata 생성\n",
    "    for i in dataset:\n",
    "        pass\n"
   ]
  },
  {
   "cell_type": "code",
   "execution_count": 5,
   "metadata": {},
   "outputs": [
    {
     "ename": "TypeError",
     "evalue": "new(): invalid data type 'str'",
     "output_type": "error",
     "traceback": [
      "\u001b[1;31m---------------------------------------------------------------------------\u001b[0m",
      "\u001b[1;31mTypeError\u001b[0m                                 Traceback (most recent call last)",
      "Cell \u001b[1;32mIn[5], line 16\u001b[0m\n\u001b[0;32m     13\u001b[0m num_epochs \u001b[39m=\u001b[39m \u001b[39m10\u001b[39m\n\u001b[0;32m     14\u001b[0m \u001b[39mfor\u001b[39;00m epoch \u001b[39min\u001b[39;00m \u001b[39mrange\u001b[39m(num_epochs):\n\u001b[1;32m---> 16\u001b[0m     \u001b[39mfor\u001b[39;00m label, image \u001b[39min\u001b[39;00m dataset:\n\u001b[0;32m     17\u001b[0m         optimizer\u001b[39m.\u001b[39mzero_grad()\n\u001b[0;32m     19\u001b[0m         \u001b[39m# input_image = image.upsqueeze(dim=0)\u001b[39;00m\n",
      "Cell \u001b[1;32mIn[4], line 13\u001b[0m, in \u001b[0;36mCustomDataset.__getitem__\u001b[1;34m(self, index)\u001b[0m\n\u001b[0;32m     11\u001b[0m file_name \u001b[39m=\u001b[39m image_path\u001b[39m.\u001b[39msplit(\u001b[39m'\u001b[39m\u001b[39m\\\\\u001b[39;00m\u001b[39m'\u001b[39m)[\u001b[39m-\u001b[39m\u001b[39m1\u001b[39m]\n\u001b[0;32m     12\u001b[0m label \u001b[39m=\u001b[39m file_name[\u001b[39m-\u001b[39m\u001b[39m5\u001b[39m]\n\u001b[1;32m---> 13\u001b[0m label \u001b[39m=\u001b[39m torch\u001b[39m.\u001b[39;49mtensor(label, dtype\u001b[39m=\u001b[39;49mtorch\u001b[39m.\u001b[39;49mfloat)\n\u001b[0;32m     14\u001b[0m \u001b[39m#print(image_path, label)\u001b[39;00m\n\u001b[0;32m     15\u001b[0m convert_tensor \u001b[39m=\u001b[39m transforms\u001b[39m.\u001b[39mToTensor()  \n",
      "\u001b[1;31mTypeError\u001b[0m: new(): invalid data type 'str'"
     ]
    }
   ],
   "source": [
    "if __name__ == '__main__':\n",
    "\n",
    "    #이미지 경로\n",
    "    img_path = './MNIST_data/'\n",
    "    #Custondata 생성\n",
    "    dataset = CustomDataset(img_path)\n",
    "\n",
    "    #Define model, loss, optim\n",
    "    model = CNN()\n",
    "    criterion = nn.CrossEntropyLoss()   # 다중 클래스 분류 문제\n",
    "    optimizer = optim.Adam(model.parameters(), lr=0.001)\n",
    "\n",
    "    num_epochs = 10\n",
    "    for epoch in range(num_epochs):\n",
    "\n",
    "        for label, image in dataset:\n",
    "            optimizer.zero_grad()\n",
    "\n",
    "            # input_image = image.upsqueeze(dim=0)\n",
    "            outputs = model(image)\n",
    "\n",
    "            loss = criterion(outputs, label)\n",
    "\n",
    "            loss.backward()\n",
    "            optimizer.step()\n",
    "\n",
    "        print(f\"Epoch [{epoch+1}/{num_epochs}], Loss: {loss.item()}\")\n",
    "\n",
    "\n"
   ]
  },
  {
   "attachments": {},
   "cell_type": "markdown",
   "metadata": {},
   "source": [
    "### resize"
   ]
  },
  {
   "cell_type": "code",
   "execution_count": null,
   "metadata": {},
   "outputs": [],
   "source": []
  },
  {
   "attachments": {},
   "cell_type": "markdown",
   "metadata": {},
   "source": [
    "### labeling"
   ]
  },
  {
   "cell_type": "code",
   "execution_count": null,
   "metadata": {},
   "outputs": [],
   "source": []
  },
  {
   "cell_type": "code",
   "execution_count": null,
   "metadata": {},
   "outputs": [],
   "source": []
  },
  {
   "cell_type": "code",
   "execution_count": null,
   "metadata": {},
   "outputs": [],
   "source": []
  },
  {
   "attachments": {},
   "cell_type": "markdown",
   "metadata": {},
   "source": [
    "## Test"
   ]
  },
  {
   "cell_type": "code",
   "execution_count": null,
   "metadata": {},
   "outputs": [],
   "source": []
  }
 ],
 "metadata": {
  "kernelspec": {
   "display_name": "mspytorch",
   "language": "python",
   "name": "python3"
  },
  "language_info": {
   "codemirror_mode": {
    "name": "ipython",
    "version": 3
   },
   "file_extension": ".py",
   "mimetype": "text/x-python",
   "name": "python",
   "nbconvert_exporter": "python",
   "pygments_lexer": "ipython3",
   "version": "3.8.16"
  },
  "orig_nbformat": 4
 },
 "nbformat": 4,
 "nbformat_minor": 2
}
