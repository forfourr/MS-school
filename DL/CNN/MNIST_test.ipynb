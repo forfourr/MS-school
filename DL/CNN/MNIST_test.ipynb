{
 "cells": [
  {
   "attachments": {},
   "cell_type": "markdown",
   "metadata": {},
   "source": [
    "# MNIST TEST\n",
    "MNIST data로 학습시킨 모델로 직접 쓴 손글씨 test 후 정확도 판단"
   ]
  },
  {
   "cell_type": "code",
   "execution_count": 1,
   "metadata": {},
   "outputs": [],
   "source": [
    "import torch\n",
    "import torch.nn as nn\n",
    "import torch.optim as optim\n",
    "from torch.utils.data import DataLoader\n",
    "from torchvision.datasets import MNIST\n",
    "from torchvision import transforms\n",
    "import matplotlib.pyplot as plt\n",
    "from mpl_toolkits.axes_grid1 import make_axes_locatable\n",
    "from torchsummary import summary\n"
   ]
  },
  {
   "attachments": {},
   "cell_type": "markdown",
   "metadata": {},
   "source": [
    "## Model"
   ]
  },
  {
   "cell_type": "code",
   "execution_count": 2,
   "metadata": {},
   "outputs": [],
   "source": [
    "# CNN 아키텍처 구성을 위한 클래스 정의\n",
    "class CNN(nn.Module):\n",
    "    def __init__(self):\n",
    "        super(CNN, self).__init__()\n",
    "\n",
    "        # Convolutional Layer\n",
    "        self.conv1 = nn.Conv2d(in_channels=1, out_channels=16, kernel_size=3, stride=1, padding=1)\n",
    "        self.relu = nn.ReLU()\n",
    "        self.maxpool = nn.MaxPool2d(kernel_size=2, stride=2)\n",
    "        self.conv2 = nn.Conv2d(16,32, kernel_size=3, stride=1, padding=1)\n",
    "\n",
    "        # Fully Connected Layer\n",
    "        self.fc = nn.Linear(32*7*7, 10)\n",
    "        \n",
    "\n",
    "    def forward(self, x):\n",
    "        # Convolutional Layer\n",
    "        x = self.conv1(x)\n",
    "        x = self.relu(x)\n",
    "        x = self.maxpool(x)\n",
    "        x = self.conv2(x)\n",
    "        x = self.relu(x)\n",
    "        x = self.maxpool(x)\n",
    "        \n",
    "        #flatten\n",
    "        x = x.view(x.size(0),-1)\n",
    "        x = self.fc(x)\n",
    "        \n",
    "\n",
    "        \n",
    "        return x"
   ]
  },
  {
   "cell_type": "code",
   "execution_count": 3,
   "metadata": {},
   "outputs": [],
   "source": [
    "device = torch.device('cuda' if torch.cuda.is_available() else 'cpu')\n",
    "model = CNN().to(device)"
   ]
  },
  {
   "attachments": {},
   "cell_type": "markdown",
   "metadata": {},
   "source": [
    "## Custom Dataset"
   ]
  },
  {
   "cell_type": "code",
   "execution_count": 4,
   "metadata": {},
   "outputs": [],
   "source": [
    "from torch.utils.data import Dataset\n",
    "from torch.utils.data import Dataset, DataLoader, random_split\n",
    "from torchvision import transforms\n",
    "import glob\n",
    "import os\n",
    "from PIL import Image\n",
    "import numpy as np\n",
    "\n",
    "import torch.optim as optim"
   ]
  },
  {
   "cell_type": "code",
   "execution_count": 5,
   "metadata": {},
   "outputs": [],
   "source": [
    "class CustomDataset(Dataset):\n",
    "    def __init__(self,img_path, transform=None):\n",
    "        self.transform = transform\n",
    "        file_list =['*.jpg','*.png']\n",
    "        for files in file_list:\n",
    "            self.image_paths = glob.glob(os.path.join(img_path,files))\n",
    "        \n",
    "    def __getitem__(self, index):\n",
    "        #이미지 파일 라벨링\n",
    "        image_path = self.image_paths[index]\n",
    "        file_name = image_path.split('\\\\')[-1]\n",
    "        label = file_name[-5]\n",
    "        label = np.array(label).astype(np.float32)\n",
    "\n",
    "        #gray scale\n",
    "        image = Image.open(image_path).convert('L')\n",
    "\n",
    "        if self.transform is not None:\n",
    "            image = self.transform(image)\n",
    "            \n",
    "        return image,label\n",
    "    \n",
    "        \n",
    "\n",
    "\n",
    "\n",
    "\n",
    "    def __len__(self):\n",
    "        return len(self.image_paths)\n",
    "\n"
   ]
  },
  {
   "attachments": {},
   "cell_type": "markdown",
   "metadata": {},
   "source": [
    "## Train/Test\n"
   ]
  },
  {
   "cell_type": "code",
   "execution_count": 6,
   "metadata": {},
   "outputs": [
    {
     "name": "stdout",
     "output_type": "stream",
     "text": [
      "Epoch [1/10], Loss: 2.3560471534729004\n",
      "Epoch [2/10], Loss: 2.302626848220825\n",
      "Epoch [3/10], Loss: 2.307903289794922\n",
      "Epoch [4/10], Loss: 2.311166286468506\n",
      "Epoch [5/10], Loss: 2.2939682006835938\n",
      "Epoch [6/10], Loss: 2.2793705463409424\n",
      "Epoch [7/10], Loss: 2.2881276607513428\n",
      "Epoch [8/10], Loss: 2.292863607406616\n",
      "Epoch [9/10], Loss: 2.2947309017181396\n",
      "Epoch [10/10], Loss: 2.2854039669036865\n",
      "Test Accuracy: 11.29%\n"
     ]
    }
   ],
   "source": [
    "if __name__ == '__main__':\n",
    "\n",
    "    #transformer\n",
    "    transforms_dataset = transforms.Compose([\n",
    "        transforms.Resize((28,28)),\n",
    "        transforms.ToTensor()\n",
    "    ])\n",
    "    #이미지 경로\n",
    "    img_path = './MNIST_data/'\n",
    "    #Custondata 생성\n",
    "    total_dataset = CustomDataset(img_path,transforms_dataset)\n",
    "\n",
    "    #split data\n",
    "    test_len = int(len(total_dataset)*0.2)\n",
    "    train_len = len(total_dataset)-test_len\n",
    "    train, test = random_split(\n",
    "        total_dataset,\n",
    "        [train_len,test_len]\n",
    "    )\n",
    "    train_dataset = train.dataset\n",
    "    test_dataset = test.dataset\n",
    "    \n",
    "\n",
    "    #DataLoader\n",
    "    train_loader = DataLoader(train_dataset,\n",
    "                              batch_size=64,\n",
    "                              shuffle=True)\n",
    "    test_loader = DataLoader(test_dataset,\n",
    "                             batch_size=64)\n",
    "\n",
    "\n",
    "    #Define model, loss, optim\n",
    "    criterion = nn.CrossEntropyLoss()   # 다중 클래스 분류 문제\n",
    "    optimizer = optim.Adam(model.parameters(), lr=0.001)\n",
    "\n",
    "    num_epochs = 10\n",
    "    for epoch in range(num_epochs):\n",
    "\n",
    "        for images, labels in train_loader:\n",
    "            optimizer.zero_grad()\n",
    "\n",
    "            # input_image = image.upsqueeze(dim=0)\n",
    "            outputs = model(images)\n",
    "            labels = labels.type(torch.LongTensor)\n",
    "            loss = criterion(outputs, labels)\n",
    "\n",
    "            loss.backward()\n",
    "            optimizer.step()\n",
    "\n",
    "        print(f\"Epoch [{epoch+1}/{num_epochs}], Loss: {loss.item()}\")\n",
    "\n",
    "    correct=0\n",
    "    total=0\n",
    "    #Evaluation\n",
    "    with torch.no_grad():\n",
    "        for images, labels in test_loader:\n",
    "            outputs = model(images)\n",
    "            _, predict = torch.max(outputs.data, 1)\n",
    "\n",
    "            total +=labels.size(0)\n",
    "            correct +=(predict==labels).sum().item()\n",
    "\n",
    "    accuracy = (correct/total) * 100\n",
    "    print(f\"Test Accuracy: {accuracy:.2f}%\")\n",
    "    \n",
    "\n",
    "\n",
    "\n"
   ]
  }
 ],
 "metadata": {
  "kernelspec": {
   "display_name": "mspytorch",
   "language": "python",
   "name": "python3"
  },
  "language_info": {
   "codemirror_mode": {
    "name": "ipython",
    "version": 3
   },
   "file_extension": ".py",
   "mimetype": "text/x-python",
   "name": "python",
   "nbconvert_exporter": "python",
   "pygments_lexer": "ipython3",
   "version": "3.8.16"
  },
  "orig_nbformat": 4
 },
 "nbformat": 4,
 "nbformat_minor": 2
}
