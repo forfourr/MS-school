{
 "cells": [
  {
   "attachments": {},
   "cell_type": "markdown",
   "metadata": {},
   "source": [
    "# Softmax regression\n",
    ": 로지스틱 회귀의 일반화, 다중 클래스 분류, 각 클래스에 대한 확률 출력\n",
    "\n",
    "<로지스틱 회귀/ 소프트맥스 회귀>\n",
    "\n",
    ": 비선형 데이터는 선형 회귀로 예측 X, outlier에 취약 ->다항 회귀, 결정트리 사용\n",
    "\n",
    ": 로지스틱 회귀 -> 예측값 연속적인 값으로 출력\n",
    "\n",
    ": 소프트맥스 회귀 -> 각 클래스에 대한 확률 출력\n",
    "\n",
    ": 즉, 로지스틱 회귀는 비선형인 경우 성능 저하"
   ]
  },
  {
   "cell_type": "code",
   "execution_count": 1,
   "metadata": {},
   "outputs": [],
   "source": [
    "import torch\n",
    "import torch.nn as nn\n",
    "import torch.optim as optim\n",
    "from torch.utils.data import DataLoader, TensorDataset\n",
    "from sklearn.datasets import load_iris\n",
    "from sklearn.model_selection import train_test_split"
   ]
  },
  {
   "attachments": {},
   "cell_type": "markdown",
   "metadata": {},
   "source": [
    "## load data"
   ]
  },
  {
   "cell_type": "code",
   "execution_count": 2,
   "metadata": {},
   "outputs": [],
   "source": [
    "iris = load_iris()\n",
    "X = iris.data\n",
    "y = iris.target\n",
    "\n",
    "#print(X,y)"
   ]
  },
  {
   "cell_type": "code",
   "execution_count": 3,
   "metadata": {},
   "outputs": [
    {
     "data": {
      "text/plain": [
       "(150, 4)"
      ]
     },
     "execution_count": 3,
     "metadata": {},
     "output_type": "execute_result"
    }
   ],
   "source": [
    "# feature 4개\n",
    "X.shape"
   ]
  },
  {
   "cell_type": "code",
   "execution_count": 36,
   "metadata": {},
   "outputs": [
    {
     "data": {
      "text/plain": [
       "tensor([2, 1, 0, 1, 2, 1, 0, 1, 1, 0, 0, 2, 2, 0, 0, 2, 2, 0, 2, 2, 0, 2, 2, 0,\n",
       "        0, 0, 1, 2, 2, 2, 2, 1, 1, 2, 0, 0, 0, 0, 1, 1, 2, 0, 1, 0, 0, 1, 2, 2,\n",
       "        2, 1, 1, 1, 0, 2, 2, 2, 0, 0, 1, 0, 2, 1, 2, 1, 2, 2, 1, 2, 1, 1, 1, 2,\n",
       "        2, 0, 1, 2, 1, 2, 1, 1, 0, 1, 0, 2, 0, 0, 0, 1, 0, 1, 1, 1, 0, 1, 0, 0,\n",
       "        0, 1, 2, 0])"
      ]
     },
     "execution_count": 36,
     "metadata": {},
     "output_type": "execute_result"
    }
   ],
   "source": [
    "# output 3개\n",
    "y"
   ]
  },
  {
   "attachments": {},
   "cell_type": "markdown",
   "metadata": {},
   "source": [
    "## split data"
   ]
  },
  {
   "cell_type": "code",
   "execution_count": 5,
   "metadata": {},
   "outputs": [
    {
     "name": "stdout",
     "output_type": "stream",
     "text": [
      "120\n",
      "30\n"
     ]
    }
   ],
   "source": [
    "X_train, X_test, y_train, y_test = train_test_split(X,y, test_size=0.2, random_state=42)\n",
    "print(len(X_train))\n",
    "print(len(X_test))"
   ]
  },
  {
   "attachments": {},
   "cell_type": "markdown",
   "metadata": {},
   "source": [
    "## to Tensor"
   ]
  },
  {
   "cell_type": "code",
   "execution_count": 6,
   "metadata": {},
   "outputs": [],
   "source": [
    "X_train = torch.from_numpy(X_train).float()\n",
    "X_test = torch.from_numpy(X_test).float()\n",
    "y_train = torch.from_numpy(y_train).float()\n",
    "y_test = torch.from_numpy(y_test).float()"
   ]
  },
  {
   "cell_type": "code",
   "execution_count": 37,
   "metadata": {},
   "outputs": [
    {
     "name": "stdout",
     "output_type": "stream",
     "text": [
      "torch.Size([120, 4])\n"
     ]
    }
   ],
   "source": [
    "print(X_train.shape)"
   ]
  },
  {
   "cell_type": "code",
   "execution_count": 7,
   "metadata": {},
   "outputs": [
    {
     "data": {
      "text/plain": [
       "tensor([0., 0., 1., 0., 0., 2., 1., 0., 0., 0., 2., 1., 1., 0., 0., 1., 2., 2.,\n",
       "        1., 2., 1., 2., 1., 0., 2., 1., 0., 0., 0., 1., 2., 0., 0., 0., 1., 0.,\n",
       "        1., 2., 0., 1., 2., 0., 2., 2., 1., 1., 2., 1., 0., 1., 2., 0., 0., 1.,\n",
       "        1., 0., 2., 0., 0., 1., 1., 2., 1., 2., 2., 1., 0., 0., 2., 2., 0., 0.,\n",
       "        0., 1., 2., 0., 2., 2., 0., 1., 1., 2., 1., 2., 0., 2., 1., 2., 1., 1.,\n",
       "        1., 0., 1., 1., 0., 1., 2., 2., 0., 1., 2., 2., 0., 2., 0., 1., 2., 2.,\n",
       "        1., 2., 1., 1., 2., 2., 0., 1., 2., 0., 1., 2.])"
      ]
     },
     "execution_count": 7,
     "metadata": {},
     "output_type": "execute_result"
    }
   ],
   "source": [
    "y_train"
   ]
  },
  {
   "cell_type": "code",
   "execution_count": 38,
   "metadata": {},
   "outputs": [],
   "source": [
    "######### Type Casting Error ##########\n",
    "y_train = y_train.type(torch.LongTensor)"
   ]
  },
  {
   "cell_type": "code",
   "execution_count": 9,
   "metadata": {},
   "outputs": [
    {
     "data": {
      "text/plain": [
       "tensor([0, 0, 1, 0, 0, 2, 1, 0, 0, 0, 2, 1, 1, 0, 0, 1, 2, 2, 1, 2, 1, 2, 1, 0,\n",
       "        2, 1, 0, 0, 0, 1, 2, 0, 0, 0, 1, 0, 1, 2, 0, 1, 2, 0, 2, 2, 1, 1, 2, 1,\n",
       "        0, 1, 2, 0, 0, 1, 1, 0, 2, 0, 0, 1, 1, 2, 1, 2, 2, 1, 0, 0, 2, 2, 0, 0,\n",
       "        0, 1, 2, 0, 2, 2, 0, 1, 1, 2, 1, 2, 0, 2, 1, 2, 1, 1, 1, 0, 1, 1, 0, 1,\n",
       "        2, 2, 0, 1, 2, 2, 0, 2, 0, 1, 2, 2, 1, 2, 1, 1, 2, 2, 0, 1, 2, 0, 1, 2])"
      ]
     },
     "execution_count": 9,
     "metadata": {},
     "output_type": "execute_result"
    }
   ],
   "source": [
    "y_train"
   ]
  },
  {
   "attachments": {},
   "cell_type": "markdown",
   "metadata": {},
   "source": [
    "## Dataloader"
   ]
  },
  {
   "cell_type": "code",
   "execution_count": 10,
   "metadata": {},
   "outputs": [],
   "source": [
    "train_dataset = TensorDataset(X_train, y_train)\n",
    "train_loader = DataLoader(train_dataset, batch_size=10, shuffle=True)"
   ]
  },
  {
   "cell_type": "code",
   "execution_count": 11,
   "metadata": {},
   "outputs": [
    {
     "data": {
      "text/plain": [
       "<torch.utils.data.dataset.TensorDataset at 0x259061c0ca0>"
      ]
     },
     "execution_count": 11,
     "metadata": {},
     "output_type": "execute_result"
    }
   ],
   "source": [
    "train_dataset"
   ]
  },
  {
   "cell_type": "code",
   "execution_count": 12,
   "metadata": {},
   "outputs": [
    {
     "data": {
      "text/plain": [
       "<torch.utils.data.dataloader.DataLoader at 0x259061c0c10>"
      ]
     },
     "execution_count": 12,
     "metadata": {},
     "output_type": "execute_result"
    }
   ],
   "source": [
    "train_loader"
   ]
  },
  {
   "attachments": {},
   "cell_type": "markdown",
   "metadata": {},
   "source": [
    "## Create Softmax Model"
   ]
  },
  {
   "cell_type": "code",
   "execution_count": 13,
   "metadata": {},
   "outputs": [],
   "source": [
    "class SoftmaxRegression(nn.Module):\n",
    "    def __init__(self, input_size, num_classes):\n",
    "        super(SoftmaxRegression, self).__init__()\n",
    "        self.linear = nn.Linear(input_size, num_classes)\n",
    "\n",
    "    def forward(self, x):\n",
    "        out = self.linear(x)\n",
    "        return out"
   ]
  },
  {
   "cell_type": "code",
   "execution_count": 14,
   "metadata": {},
   "outputs": [],
   "source": [
    "#set hyperparameter\n",
    "input_size = 4  # X (150,4) feature 4개\n",
    "num_classes = 3 # y label(0,1,2) 3개\n",
    "lr = 0.01\n",
    "num_epochs = 100"
   ]
  },
  {
   "attachments": {},
   "cell_type": "markdown",
   "metadata": {},
   "source": [
    "## Define model, loss, optim"
   ]
  },
  {
   "cell_type": "code",
   "execution_count": 15,
   "metadata": {},
   "outputs": [],
   "source": [
    "model = SoftmaxRegression(input_size, num_classes)\n",
    "criterion = nn.CrossEntropyLoss()       #softmax함수와 crossentropy는 짝꿍\n",
    "optimizer = torch.optim.SGD(model.parameters(),lr =lr)"
   ]
  },
  {
   "attachments": {},
   "cell_type": "markdown",
   "metadata": {},
   "source": [
    "## Training"
   ]
  },
  {
   "cell_type": "code",
   "execution_count": 32,
   "metadata": {},
   "outputs": [
    {
     "data": {
      "text/plain": [
       "'\\n<< Type Casting >>\\n\\n!!ERROR!! expected scalar type Long but found Float\\n해결 -> y_train.type(torch.LongTensor)\\n\\n'"
      ]
     },
     "execution_count": 32,
     "metadata": {},
     "output_type": "execute_result"
    }
   ],
   "source": [
    "\"\"\"\n",
    "<< Type Casting >>\n",
    "\n",
    "!!ERROR!! expected scalar type Long but found Float\n",
    "해결 -> y_train.type(torch.LongTensor)\n",
    "\n",
    "\"\"\""
   ]
  },
  {
   "cell_type": "code",
   "execution_count": 16,
   "metadata": {},
   "outputs": [
    {
     "name": "stdout",
     "output_type": "stream",
     "text": [
      "Epoch [1/100], Step [10/12], Loss 2.0459\n",
      "Epoch [2/100], Step [10/12], Loss 1.1693\n",
      "Epoch [3/100], Step [10/12], Loss 1.0405\n",
      "Epoch [4/100], Step [10/12], Loss 1.0304\n",
      "Epoch [5/100], Step [10/12], Loss 0.9242\n",
      "Epoch [6/100], Step [10/12], Loss 0.9598\n",
      "Epoch [7/100], Step [10/12], Loss 0.8406\n",
      "Epoch [8/100], Step [10/12], Loss 0.8231\n",
      "Epoch [9/100], Step [10/12], Loss 0.7479\n",
      "Epoch [10/100], Step [10/12], Loss 0.6880\n",
      "Epoch [11/100], Step [10/12], Loss 0.7283\n",
      "Epoch [12/100], Step [10/12], Loss 0.6534\n",
      "Epoch [13/100], Step [10/12], Loss 0.7049\n",
      "Epoch [14/100], Step [10/12], Loss 0.5655\n",
      "Epoch [15/100], Step [10/12], Loss 0.7289\n",
      "Epoch [16/100], Step [10/12], Loss 0.7224\n",
      "Epoch [17/100], Step [10/12], Loss 0.6214\n",
      "Epoch [18/100], Step [10/12], Loss 0.6378\n",
      "Epoch [19/100], Step [10/12], Loss 0.7679\n",
      "Epoch [20/100], Step [10/12], Loss 0.4761\n",
      "Epoch [21/100], Step [10/12], Loss 0.6406\n",
      "Epoch [22/100], Step [10/12], Loss 0.5778\n",
      "Epoch [23/100], Step [10/12], Loss 0.5624\n",
      "Epoch [24/100], Step [10/12], Loss 0.4840\n",
      "Epoch [25/100], Step [10/12], Loss 0.6178\n",
      "Epoch [26/100], Step [10/12], Loss 0.5201\n",
      "Epoch [27/100], Step [10/12], Loss 0.6114\n",
      "Epoch [28/100], Step [10/12], Loss 0.4893\n",
      "Epoch [29/100], Step [10/12], Loss 0.5786\n",
      "Epoch [30/100], Step [10/12], Loss 0.4200\n",
      "Epoch [31/100], Step [10/12], Loss 0.6697\n",
      "Epoch [32/100], Step [10/12], Loss 0.4680\n",
      "Epoch [33/100], Step [10/12], Loss 0.5205\n",
      "Epoch [34/100], Step [10/12], Loss 0.4811\n",
      "Epoch [35/100], Step [10/12], Loss 0.5388\n",
      "Epoch [36/100], Step [10/12], Loss 0.5056\n",
      "Epoch [37/100], Step [10/12], Loss 0.5848\n",
      "Epoch [38/100], Step [10/12], Loss 0.5111\n",
      "Epoch [39/100], Step [10/12], Loss 0.4548\n",
      "Epoch [40/100], Step [10/12], Loss 0.4550\n",
      "Epoch [41/100], Step [10/12], Loss 0.4673\n",
      "Epoch [42/100], Step [10/12], Loss 0.4739\n",
      "Epoch [43/100], Step [10/12], Loss 0.4191\n",
      "Epoch [44/100], Step [10/12], Loss 0.4400\n",
      "Epoch [45/100], Step [10/12], Loss 0.4748\n",
      "Epoch [46/100], Step [10/12], Loss 0.4555\n",
      "Epoch [47/100], Step [10/12], Loss 0.4255\n",
      "Epoch [48/100], Step [10/12], Loss 0.4726\n",
      "Epoch [49/100], Step [10/12], Loss 0.3704\n",
      "Epoch [50/100], Step [10/12], Loss 0.3894\n",
      "Epoch [51/100], Step [10/12], Loss 0.2834\n",
      "Epoch [52/100], Step [10/12], Loss 0.3999\n",
      "Epoch [53/100], Step [10/12], Loss 0.3988\n",
      "Epoch [54/100], Step [10/12], Loss 0.3548\n",
      "Epoch [55/100], Step [10/12], Loss 0.4434\n",
      "Epoch [56/100], Step [10/12], Loss 0.6031\n",
      "Epoch [57/100], Step [10/12], Loss 0.3639\n",
      "Epoch [58/100], Step [10/12], Loss 0.3994\n",
      "Epoch [59/100], Step [10/12], Loss 0.3834\n",
      "Epoch [60/100], Step [10/12], Loss 0.2199\n",
      "Epoch [61/100], Step [10/12], Loss 0.3651\n",
      "Epoch [62/100], Step [10/12], Loss 0.4261\n",
      "Epoch [63/100], Step [10/12], Loss 0.3097\n",
      "Epoch [64/100], Step [10/12], Loss 0.4123\n",
      "Epoch [65/100], Step [10/12], Loss 0.3537\n",
      "Epoch [66/100], Step [10/12], Loss 0.4735\n",
      "Epoch [67/100], Step [10/12], Loss 0.3525\n",
      "Epoch [68/100], Step [10/12], Loss 0.4168\n",
      "Epoch [69/100], Step [10/12], Loss 0.3672\n",
      "Epoch [70/100], Step [10/12], Loss 0.4287\n",
      "Epoch [71/100], Step [10/12], Loss 0.4512\n",
      "Epoch [72/100], Step [10/12], Loss 0.4598\n",
      "Epoch [73/100], Step [10/12], Loss 0.2143\n",
      "Epoch [74/100], Step [10/12], Loss 0.4326\n",
      "Epoch [75/100], Step [10/12], Loss 0.4241\n",
      "Epoch [76/100], Step [10/12], Loss 0.3859\n",
      "Epoch [77/100], Step [10/12], Loss 0.3712\n",
      "Epoch [78/100], Step [10/12], Loss 0.3892\n",
      "Epoch [79/100], Step [10/12], Loss 0.2429\n",
      "Epoch [80/100], Step [10/12], Loss 0.4866\n",
      "Epoch [81/100], Step [10/12], Loss 0.2317\n",
      "Epoch [82/100], Step [10/12], Loss 0.2318\n",
      "Epoch [83/100], Step [10/12], Loss 0.3203\n",
      "Epoch [84/100], Step [10/12], Loss 0.3230\n",
      "Epoch [85/100], Step [10/12], Loss 0.3248\n",
      "Epoch [86/100], Step [10/12], Loss 0.3287\n",
      "Epoch [87/100], Step [10/12], Loss 0.2198\n",
      "Epoch [88/100], Step [10/12], Loss 0.2806\n",
      "Epoch [89/100], Step [10/12], Loss 0.3565\n",
      "Epoch [90/100], Step [10/12], Loss 0.3623\n",
      "Epoch [91/100], Step [10/12], Loss 0.3291\n",
      "Epoch [92/100], Step [10/12], Loss 0.3014\n",
      "Epoch [93/100], Step [10/12], Loss 0.3025\n",
      "Epoch [94/100], Step [10/12], Loss 0.4422\n",
      "Epoch [95/100], Step [10/12], Loss 0.2898\n",
      "Epoch [96/100], Step [10/12], Loss 0.3186\n",
      "Epoch [97/100], Step [10/12], Loss 0.3032\n",
      "Epoch [98/100], Step [10/12], Loss 0.4924\n",
      "Epoch [99/100], Step [10/12], Loss 0.3495\n",
      "Epoch [100/100], Step [10/12], Loss 0.2856\n"
     ]
    }
   ],
   "source": [
    "total_step = len(train_loader)\n",
    "\n",
    "for epoch in range(num_epochs):\n",
    "    for i , (inputs, labels) in enumerate(train_loader):\n",
    "        #Forward\n",
    "        outputs = model(inputs)\n",
    "        loss = criterion(outputs, labels)\n",
    "\n",
    "        #backward\n",
    "        optimizer.zero_grad()\n",
    "        loss.backward()\n",
    "        optimizer.step()\n",
    "\n",
    "        #print\n",
    "        if (i+1)%10 ==0:\n",
    "            print(f\"Epoch [{epoch+1}/{num_epochs}], Step [{i+1}/{total_step}], Loss {loss.item():.4f}\")"
   ]
  },
  {
   "cell_type": "code",
   "execution_count": 18,
   "metadata": {},
   "outputs": [
    {
     "name": "stdout",
     "output_type": "stream",
     "text": [
      "Test Accuracy: 96.67\n"
     ]
    }
   ],
   "source": [
    "with torch.no_grad():\n",
    "    outputs= model(X_test)\n",
    "    _, predicted = torch.max(outputs.data, 1)\n",
    "    accuarcy = (predicted==y_test).sum().item()/ len(y_test)\n",
    "    print(f\"Test Accuracy: {accuarcy*100:.2f}\")"
   ]
  },
  {
   "attachments": {},
   "cell_type": "markdown",
   "metadata": {},
   "source": [
    "# SoftMas test and Visualsize"
   ]
  },
  {
   "cell_type": "code",
   "execution_count": 19,
   "metadata": {},
   "outputs": [],
   "source": [
    "from sklearn.datasets import make_blobs"
   ]
  },
  {
   "attachments": {},
   "cell_type": "markdown",
   "metadata": {},
   "source": [
    "## Create dataset"
   ]
  },
  {
   "cell_type": "code",
   "execution_count": 20,
   "metadata": {},
   "outputs": [],
   "source": [
    "X,y = make_blobs(n_samples=100, centers=3, n_features=2, random_state=42)"
   ]
  },
  {
   "cell_type": "code",
   "execution_count": 22,
   "metadata": {},
   "outputs": [],
   "source": [
    "#convert to Tensor\n",
    "X = torch.from_numpy(X).float()\n",
    "y = torch.from_numpy(y)"
   ]
  },
  {
   "cell_type": "code",
   "execution_count": 26,
   "metadata": {},
   "outputs": [],
   "source": [
    "y =y.type(torch.LongTensor)"
   ]
  },
  {
   "cell_type": "code",
   "execution_count": 31,
   "metadata": {},
   "outputs": [],
   "source": [
    "#print(X,y)"
   ]
  },
  {
   "attachments": {},
   "cell_type": "markdown",
   "metadata": {},
   "source": [
    "## Define Model"
   ]
  },
  {
   "cell_type": "code",
   "execution_count": 27,
   "metadata": {},
   "outputs": [
    {
     "name": "stdout",
     "output_type": "stream",
     "text": [
      "SoftmaxRegression(\n",
      "  (linear): Linear(in_features=2, out_features=3, bias=True)\n",
      ")\n"
     ]
    }
   ],
   "source": [
    "model = SoftmaxRegression(input_size=2, num_classes=3)\n",
    "print(model)"
   ]
  },
  {
   "cell_type": "code",
   "execution_count": 28,
   "metadata": {},
   "outputs": [],
   "source": [
    "criterion = nn.CrossEntropyLoss()\n",
    "optimizer = torch.optim.SGD(model.parameters(), lr=0.01)"
   ]
  },
  {
   "attachments": {},
   "cell_type": "markdown",
   "metadata": {},
   "source": [
    "## Train"
   ]
  },
  {
   "cell_type": "code",
   "execution_count": 29,
   "metadata": {},
   "outputs": [
    {
     "name": "stdout",
     "output_type": "stream",
     "text": [
      "Epoch [10/1000], Loss: 0.35738062858581543\n",
      "Epoch [20/1000], Loss: 0.22300611436367035\n",
      "Epoch [30/1000], Loss: 0.161536306142807\n",
      "Epoch [40/1000], Loss: 0.12689213454723358\n",
      "Epoch [50/1000], Loss: 0.10480311512947083\n",
      "Epoch [60/1000], Loss: 0.08950721472501755\n",
      "Epoch [70/1000], Loss: 0.07827989012002945\n",
      "Epoch [80/1000], Loss: 0.06967795640230179\n",
      "Epoch [90/1000], Loss: 0.06286869943141937\n",
      "Epoch [100/1000], Loss: 0.057338591665029526\n",
      "Epoch [110/1000], Loss: 0.052753958851099014\n",
      "Epoch [120/1000], Loss: 0.04888829588890076\n",
      "Epoch [130/1000], Loss: 0.04558255523443222\n",
      "Epoch [140/1000], Loss: 0.04272162541747093\n",
      "Epoch [150/1000], Loss: 0.04022010788321495\n",
      "Epoch [160/1000], Loss: 0.03801330178976059\n",
      "Epoch [170/1000], Loss: 0.036051247268915176\n",
      "Epoch [180/1000], Loss: 0.034294772893190384\n",
      "Epoch [190/1000], Loss: 0.03271264210343361\n",
      "Epoch [200/1000], Loss: 0.03127973899245262\n",
      "Epoch [210/1000], Loss: 0.02997555211186409\n",
      "Epoch [220/1000], Loss: 0.028783220797777176\n",
      "Epoch [230/1000], Loss: 0.02768869698047638\n",
      "Epoch [240/1000], Loss: 0.026680229231715202\n",
      "Epoch [250/1000], Loss: 0.02574784681200981\n",
      "Epoch [260/1000], Loss: 0.02488313429057598\n",
      "Epoch [270/1000], Loss: 0.02407885529100895\n",
      "Epoch [280/1000], Loss: 0.02332877367734909\n",
      "Epoch [290/1000], Loss: 0.022627461701631546\n",
      "Epoch [300/1000], Loss: 0.02197028137743473\n",
      "Epoch [310/1000], Loss: 0.02135307714343071\n",
      "Epoch [320/1000], Loss: 0.02077224664390087\n",
      "Epoch [330/1000], Loss: 0.02022460848093033\n",
      "Epoch [340/1000], Loss: 0.01970735751092434\n",
      "Epoch [350/1000], Loss: 0.019217966124415398\n",
      "Epoch [360/1000], Loss: 0.018754197284579277\n",
      "Epoch [370/1000], Loss: 0.01831405609846115\n",
      "Epoch [380/1000], Loss: 0.017895739525556564\n",
      "Epoch [390/1000], Loss: 0.01749764010310173\n",
      "Epoch [400/1000], Loss: 0.017118306830525398\n",
      "Epoch [410/1000], Loss: 0.01675640046596527\n",
      "Epoch [420/1000], Loss: 0.01641072705388069\n",
      "Epoch [430/1000], Loss: 0.016080206260085106\n",
      "Epoch [440/1000], Loss: 0.015763821080327034\n",
      "Epoch [450/1000], Loss: 0.0154606644064188\n",
      "Epoch [460/1000], Loss: 0.015169937163591385\n",
      "Epoch [470/1000], Loss: 0.014890845865011215\n",
      "Epoch [480/1000], Loss: 0.014622701331973076\n",
      "Epoch [490/1000], Loss: 0.014364851638674736\n",
      "Epoch [500/1000], Loss: 0.014116710051894188\n",
      "Epoch [510/1000], Loss: 0.013877715915441513\n",
      "Epoch [520/1000], Loss: 0.013647373765707016\n",
      "Epoch [530/1000], Loss: 0.01342520210891962\n",
      "Epoch [540/1000], Loss: 0.013210776261985302\n",
      "Epoch [550/1000], Loss: 0.013003680855035782\n",
      "Epoch [560/1000], Loss: 0.012803515419363976\n",
      "Epoch [570/1000], Loss: 0.012609987519681454\n",
      "Epoch [580/1000], Loss: 0.012422706931829453\n",
      "Epoch [590/1000], Loss: 0.012241397053003311\n",
      "Epoch [600/1000], Loss: 0.0120657654479146\n",
      "Epoch [610/1000], Loss: 0.011895542033016682\n",
      "Epoch [620/1000], Loss: 0.011730476282536983\n",
      "Epoch [630/1000], Loss: 0.011570329777896404\n",
      "Epoch [640/1000], Loss: 0.011414888314902782\n",
      "Epoch [650/1000], Loss: 0.011263932101428509\n",
      "Epoch [660/1000], Loss: 0.011117272078990936\n",
      "Epoch [670/1000], Loss: 0.010974717326462269\n",
      "Epoch [680/1000], Loss: 0.010836099274456501\n",
      "Epoch [690/1000], Loss: 0.010701230727136135\n",
      "Epoch [700/1000], Loss: 0.010570010170340538\n",
      "Epoch [710/1000], Loss: 0.010442240163683891\n",
      "Epoch [720/1000], Loss: 0.010317808017134666\n",
      "Epoch [730/1000], Loss: 0.01019655354321003\n",
      "Epoch [740/1000], Loss: 0.010078399442136288\n",
      "Epoch [750/1000], Loss: 0.009963177144527435\n",
      "Epoch [760/1000], Loss: 0.00985080935060978\n",
      "Epoch [770/1000], Loss: 0.009741171263158321\n",
      "Epoch [780/1000], Loss: 0.009634174406528473\n",
      "Epoch [790/1000], Loss: 0.00952970702201128\n",
      "Epoch [800/1000], Loss: 0.009427680633962154\n",
      "Epoch [810/1000], Loss: 0.009328028187155724\n",
      "Epoch [820/1000], Loss: 0.009230650961399078\n",
      "Epoch [830/1000], Loss: 0.0091354725882411\n",
      "Epoch [840/1000], Loss: 0.009042389690876007\n",
      "Epoch [850/1000], Loss: 0.00895138829946518\n",
      "Epoch [860/1000], Loss: 0.008862356655299664\n",
      "Epoch [870/1000], Loss: 0.008775249123573303\n",
      "Epoch [880/1000], Loss: 0.00868998747318983\n",
      "Epoch [890/1000], Loss: 0.008606520481407642\n",
      "Epoch [900/1000], Loss: 0.008524793200194836\n",
      "Epoch [910/1000], Loss: 0.008444737643003464\n",
      "Epoch [920/1000], Loss: 0.008366305381059647\n",
      "Epoch [930/1000], Loss: 0.008289462886750698\n",
      "Epoch [940/1000], Loss: 0.008214146830141544\n",
      "Epoch [950/1000], Loss: 0.008140324614942074\n",
      "Epoch [960/1000], Loss: 0.008067925460636616\n",
      "Epoch [970/1000], Loss: 0.007996926084160805\n",
      "Epoch [980/1000], Loss: 0.007927282713353634\n",
      "Epoch [990/1000], Loss: 0.007858950644731522\n",
      "Epoch [1000/1000], Loss: 0.007791893556714058\n"
     ]
    }
   ],
   "source": [
    "num_epochs=1000\n",
    "for epoch in range(num_epochs):\n",
    "    #forward\n",
    "    outputs = model(X)\n",
    "    loss = criterion(outputs, y)\n",
    "\n",
    "    #backward\n",
    "    optimizer.zero_grad()\n",
    "    loss.backward()\n",
    "    optimizer.step()\n",
    "\n",
    "    #print\n",
    "    if (epoch+1)%10 ==0:\n",
    "        print(f\"Epoch [{epoch+1}/{num_epochs}], Loss: {loss.item()}\")"
   ]
  },
  {
   "cell_type": "code",
   "execution_count": 35,
   "metadata": {},
   "outputs": [
    {
     "data": {
      "image/png": "[encoded data removed]",
      "text/plain": [
       "<Figure size 640x480 with 1 Axes>"
      ]
     },
     "metadata": {},
     "output_type": "display_data"
    }
   ],
   "source": [
    "import matplotlib.pyplot as plt\n",
    "\n",
    "# Plot decision boundary\n",
    "x_min, x_max = X[:, 0].min() - 0.5, X[:, 0].max() + 0.5\n",
    "y_min, y_max = X[:, 1].min() - 0.5, X[:, 1].max() + 0.5\n",
    "xx, yy = torch.meshgrid(torch.arange(x_min, x_max, 0.1), torch.arange(y_min, y_max, 0.1))\n",
    "Z = model(torch.cat((xx.reshape(-1,1), yy.reshape(-1,1)), dim=1)).argmax(dim=1)\n",
    "Z = Z.reshape(xx.shape)\n",
    "plt.contourf(xx, yy, Z, alpha=0.4)\n",
    "plt.scatter(X[:, 0], X[:, 1], c=y, s=20, edgecolors='k')\n",
    "plt.title('Softmax Regression')\n",
    "plt.xlabel('Feature 1')\n",
    "plt.ylabel('Feature 2')\n",
    "plt.show()"
   ]
  },
  {
   "cell_type": "code",
   "execution_count": null,
   "metadata": {},
   "outputs": [],
   "source": []
  },
  {
   "cell_type": "code",
   "execution_count": null,
   "metadata": {},
   "outputs": [],
   "source": []
  },
  {
   "cell_type": "code",
   "execution_count": null,
   "metadata": {},
   "outputs": [],
   "source": []
  }
 ],
 "metadata": {
  "kernelspec": {
   "display_name": "mspytorch",
   "language": "python",
   "name": "python3"
  },
  "language_info": {
   "codemirror_mode": {
    "name": "ipython",
    "version": 3
   },
   "file_extension": ".py",
   "mimetype": "text/x-python",
   "name": "python",
   "nbconvert_exporter": "python",
   "pygments_lexer": "ipython3",
   "version": "3.8.16"
  },
  "orig_nbformat": 4
 },
 "nbformat": 4,
 "nbformat_minor": 2
}
