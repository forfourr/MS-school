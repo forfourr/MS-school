{
 "cells": [
  {
   "attachments": {},
   "cell_type": "markdown",
   "metadata": {},
   "source": [
    "# Logistic Ensemble\n",
    ": 여러개의 로지스틱 회귀 모델을 조합하여 더 나은 예측 성능"
   ]
  },
  {
   "cell_type": "code",
   "execution_count": 1,
   "metadata": {},
   "outputs": [],
   "source": [
    "import torch\n",
    "import torch.nn as nn\n",
    "import torch.optim as optim\n",
    "from torch.utils.data import DataLoader\n",
    "from torchvision.datasets import FashionMNIST\n",
    "from torchvision.transforms import ToTensor\n",
    "from sklearn.model_selection import train_test_split\n",
    "from sklearn.metrics import accuracy_score"
   ]
  },
  {
   "attachments": {},
   "cell_type": "markdown",
   "metadata": {},
   "source": [
    "## Create dataset, dataloader"
   ]
  },
  {
   "cell_type": "code",
   "execution_count": 2,
   "metadata": {},
   "outputs": [],
   "source": [
    "dataset = FashionMNIST(root='./data',\n",
    "                       train=True,\n",
    "                       transform=ToTensor(),\n",
    "                       download=False)\n",
    "train_set, val_set = train_test_split(dataset, test_size=0.2, random_state=42)\n",
    "\n",
    "train_loader = DataLoader(train_set, batch_size=100, shuffle=True)\n",
    "test_loader = DataLoader(val_set, batch_size=100, shuffle=False)"
   ]
  },
  {
   "attachments": {},
   "cell_type": "markdown",
   "metadata": {},
   "source": [
    "## Define Model"
   ]
  },
  {
   "cell_type": "code",
   "execution_count": 3,
   "metadata": {},
   "outputs": [],
   "source": [
    "class LogisticRegression(nn.Module):\n",
    "    def __init__(self, input_size, num_classes):\n",
    "        super(LogisticRegression, self).__init__()\n",
    "        self.linear = nn.Linear(input_size, num_classes)\n",
    "\n",
    "    def forward(self,x):\n",
    "        out = self.linear(x)\n",
    "\n",
    "        return out"
   ]
  },
  {
   "attachments": {},
   "cell_type": "markdown",
   "metadata": {},
   "source": [
    "## Set Hyperparameter"
   ]
  },
  {
   "cell_type": "code",
   "execution_count": 4,
   "metadata": {},
   "outputs": [],
   "source": [
    "input_size = 28*28\n",
    "num_classes = 10\n",
    "num_epoches = 19\n",
    "lr = 0.001\n",
    "num_models = 5  #앙상블에 사용할 모델 개수"
   ]
  },
  {
   "attachments": {},
   "cell_type": "markdown",
   "metadata": {},
   "source": [
    "## Set model"
   ]
  },
  {
   "cell_type": "code",
   "execution_count": 5,
   "metadata": {},
   "outputs": [
    {
     "name": "stdout",
     "output_type": "stream",
     "text": [
      "[LogisticRegression(\n",
      "  (linear): Linear(in_features=784, out_features=10, bias=True)\n",
      "), LogisticRegression(\n",
      "  (linear): Linear(in_features=784, out_features=10, bias=True)\n",
      "), LogisticRegression(\n",
      "  (linear): Linear(in_features=784, out_features=10, bias=True)\n",
      "), LogisticRegression(\n",
      "  (linear): Linear(in_features=784, out_features=10, bias=True)\n",
      "), LogisticRegression(\n",
      "  (linear): Linear(in_features=784, out_features=10, bias=True)\n",
      ")]\n"
     ]
    }
   ],
   "source": [
    "models = [LogisticRegression(input_size, num_classes) for _ in range(num_models)]\n",
    "print(models)\n",
    "\n",
    "#loss, opt\n",
    "criterion = nn.CrossEntropyLoss()\n",
    "optimizers = [optim.SGD(model.parameters(), lr=lr) for model in models]"
   ]
  },
  {
   "attachments": {},
   "cell_type": "markdown",
   "metadata": {},
   "source": [
    "## Train"
   ]
  },
  {
   "cell_type": "code",
   "execution_count": 7,
   "metadata": {},
   "outputs": [
    {
     "name": "stdout",
     "output_type": "stream",
     "text": [
      "Epoch [1/19], Val acc: 11.7750\n",
      "Epoch [2/19], Val acc: 12.2250\n",
      "Epoch [3/19], Val acc: 12.3333\n",
      "Epoch [4/19], Val acc: 12.8833\n",
      "Epoch [5/19], Val acc: 12.7083\n",
      "Epoch [6/19], Val acc: 13.5000\n",
      "Epoch [7/19], Val acc: 12.8500\n",
      "Epoch [8/19], Val acc: 13.3667\n",
      "Epoch [9/19], Val acc: 13.4250\n",
      "Epoch [10/19], Val acc: 13.4000\n",
      "Epoch [11/19], Val acc: 13.2250\n",
      "Epoch [12/19], Val acc: 13.3667\n",
      "Epoch [13/19], Val acc: 13.2917\n",
      "Epoch [14/19], Val acc: 13.2333\n",
      "Epoch [15/19], Val acc: 13.2917\n",
      "Epoch [16/19], Val acc: 13.4083\n",
      "Epoch [17/19], Val acc: 13.4250\n",
      "Epoch [18/19], Val acc: 13.3250\n",
      "Epoch [19/19], Val acc: 13.2667\n"
     ]
    }
   ],
   "source": [
    "for epoch in range(num_epoches):\n",
    "    for i, (images, labels) in enumerate(train_loader):\n",
    "        # load data\n",
    "        # cuda를 사용할거면 .to(device)\n",
    "        images = images.reshape(-1, 28*28)\n",
    "        labels = labels\n",
    "\n",
    "        # forward,  loss\n",
    "        for j in range(num_models):\n",
    "            outputs = models[j](images)\n",
    "            loss = criterion(outputs, labels)\n",
    "\n",
    "            #backward, optim\n",
    "            optimizers[j].zero_grad()\n",
    "            loss.backward()\n",
    "            optimizers[j].step()\n",
    "    \n",
    "    #검증코드\n",
    "    with torch.no_grad():\n",
    "        total, correct = 0,0\n",
    "        for images, labels in test_loader:\n",
    "            images = images.reshape(-1, input_size)\n",
    "            labels = labels\n",
    "            \n",
    "            #앙상블 모델의 예측갑 더하기\n",
    "            for j in range(num_models):\n",
    "                outputs +=models[j](images)\n",
    "\n",
    "            _, predicted = torch.max(outputs.data, 1)\n",
    "            total += labels.size(0)\n",
    "            correct += (predicted == labels ).sum().item()\n",
    "\n",
    "        val_acc = 100*correct/total\n",
    "        print(f\"Epoch [{epoch+1}/{num_epoches}], Val acc: {val_acc:.4f}\")\n",
    "            \n"
   ]
  },
  {
   "cell_type": "code",
   "execution_count": null,
   "metadata": {},
   "outputs": [],
   "source": []
  },
  {
   "cell_type": "code",
   "execution_count": null,
   "metadata": {},
   "outputs": [],
   "source": []
  }
 ],
 "metadata": {
  "kernelspec": {
   "display_name": "mspytorch",
   "language": "python",
   "name": "python3"
  },
  "language_info": {
   "codemirror_mode": {
    "name": "ipython",
    "version": 3
   },
   "file_extension": ".py",
   "mimetype": "text/x-python",
   "name": "python",
   "nbconvert_exporter": "python",
   "pygments_lexer": "ipython3",
   "version": "3.8.16"
  },
  "orig_nbformat": 4
 },
 "nbformat": 4,
 "nbformat_minor": 2
}
