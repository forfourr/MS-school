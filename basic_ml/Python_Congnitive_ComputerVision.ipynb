{
  "nbformat": 4,
  "nbformat_minor": 0,
  "metadata": {
    "colab": {
      "private_outputs": true,
      "provenance": [],
      "authorship_tag": "ABX9TyMBe5paOxcv1L0VpNSIkYla"
    },
    "kernelspec": {
      "name": "python3",
      "display_name": "Python 3"
    },
    "language_info": {
      "name": "python"
    }
  },
  "cells": [
    {
      "cell_type": "markdown",
      "source": [
        "# Computer Vision Image analysis"
      ],
      "metadata": {
        "id": "efkBiLgclktx"
      }
    },
    {
      "cell_type": "code",
      "source": [
        "import requests\n",
        "from io import BytesIO\n",
        "from PIL import Image"
      ],
      "metadata": {
        "id": "jHci2tmSl9y6"
      },
      "execution_count": null,
      "outputs": []
    },
    {
      "cell_type": "code",
      "source": [
        "#이미지 불러오기\n",
        "img_url = 'https://menu.mt.co.kr/moneyweek/thumb/2017/05/17/06/2017051709058028746_1.jpg'\n",
        "img = Image.open(BytesIO(requests.get(img_url).content))\n",
        "\n",
        "# response = requests.get(img_url)\n",
        "# img = BytesIO(response.content)\n",
        "# Image.open(img)\n",
        "\n"
      ],
      "metadata": {
        "id": "w6Q0AbfZqlWJ"
      },
      "execution_count": null,
      "outputs": []
    },
    {
      "cell_type": "code",
      "source": [
        "#Azure이랑 연결\n",
        "key ='5c64858664704625b8fe5c9cfcb4670e'\n",
        "endpoint ='https://labuser62computervision.cognitiveservices.azure.com/' + 'vision/v2.0/'"
      ],
      "metadata": {
        "id": "I5njyQg6rPos"
      },
      "execution_count": null,
      "outputs": []
    },
    {
      "cell_type": "code",
      "source": [
        "#Image analyze API\n",
        "analyze_endpoint =  endpoint + 'analyze'\n",
        "\n",
        "#Oject detection API\n",
        "detect_endpoint = endpoint + 'detect'"
      ],
      "metadata": {
        "id": "TnerKF6SuHVP"
      },
      "execution_count": null,
      "outputs": []
    },
    {
      "cell_type": "code",
      "source": [
        "#웹통신할 때 header + params + data 가 필요 요소\n",
        "header = {'Ocp-Apim-Subscription-Key': key}  #key 값\n",
        "params = {'visualFeatures':'Categories,Description,Color'}\n",
        "data = {'url': img_url}"
      ],
      "metadata": {
        "id": "YJdZBWYLvnDp"
      },
      "execution_count": null,
      "outputs": []
    },
    {
      "cell_type": "markdown",
      "source": [
        "- Image analyze"
      ],
      "metadata": {
        "id": "QESQWFwAa9P9"
      }
    },
    {
      "cell_type": "code",
      "source": [
        "#호출\n",
        "response = requests.post(analyze_endpoint,\n",
        "                         headers =header,\n",
        "                         params = params,\n",
        "                         json = data)"
      ],
      "metadata": {
        "id": "rzXVss6zvxAR"
      },
      "execution_count": null,
      "outputs": []
    },
    {
      "cell_type": "code",
      "source": [
        "result = response.json()\n",
        "result"
      ],
      "metadata": {
        "id": "UfJ4__zYvxGW"
      },
      "execution_count": null,
      "outputs": []
    },
    {
      "cell_type": "code",
      "source": [
        "result['description']"
      ],
      "metadata": {
        "id": "ePeLm9dGv7V-"
      },
      "execution_count": null,
      "outputs": []
    },
    {
      "cell_type": "code",
      "source": [
        "result['description']['captions'][0]['text']"
      ],
      "metadata": {
        "id": "jyLj2fhqWoK6"
      },
      "execution_count": null,
      "outputs": []
    },
    {
      "cell_type": "markdown",
      "source": [
        "- Oject detection"
      ],
      "metadata": {
        "id": "R6O_v_hubEYb"
      }
    },
    {
      "cell_type": "code",
      "source": [
        "# Object Detection\n",
        "\n",
        "headers = {'Ocp-Apim-Subscription-Key': key}\n",
        "params = {}     #object detection에는 parameter없음\n",
        "data = {'url': img_url}\n"
      ],
      "metadata": {
        "id": "UbL_gHjtXQzi"
      },
      "execution_count": null,
      "outputs": []
    },
    {
      "cell_type": "code",
      "source": [
        "response = requests.post(detect_endpoint,\n",
        "                         headers = headers,\n",
        "                         params = params,\n",
        "                         json = data)"
      ],
      "metadata": {
        "id": "eZNO2GTVaTyz"
      },
      "execution_count": null,
      "outputs": []
    },
    {
      "cell_type": "code",
      "source": [
        "result = response.json()\n",
        "result"
      ],
      "metadata": {
        "id": "zbqr5hTuaiNi"
      },
      "execution_count": null,
      "outputs": []
    },
    {
      "cell_type": "markdown",
      "source": [
        "\n",
        "- 이미지 불러오기\n",
        "\n"
      ],
      "metadata": {
        "id": "Vgd3g7ePh2As"
      }
    },
    {
      "cell_type": "code",
      "source": [
        "from PIL import Image, ImageDraw, ImageFont\n",
        "\n",
        "draw = ImageDraw.Draw(img)"
      ],
      "metadata": {
        "id": "8lts8L_Bhz8l"
      },
      "execution_count": null,
      "outputs": []
    },
    {
      "cell_type": "code",
      "source": [
        "#위에 objects,rectangle로 사물인식 나타냄\n",
        "def MakeBox (res):\n",
        "    objects = res['objects']\n",
        "    for i in objects:       ###rectangle의 수 만큼 for문\n",
        "        rect = i['rectangle']\n",
        "        print(rect)\n",
        "        x = rect['x']\n",
        "        y = rect['y']\n",
        "        w = rect['w']\n",
        "        h = rect['h']\n",
        "\n",
        "        draw.rectangle(((x,y),(x+w,y+h)),outline='red')    #(좌표,선색깔)\n",
        "\n",
        "        objectName = i['object']\n",
        "        draw.text((x,y), objectName, fill='red')"
      ],
      "metadata": {
        "id": "JFxTRczpa1gq"
      },
      "execution_count": null,
      "outputs": []
    },
    {
      "cell_type": "code",
      "source": [
        "MakeBox(result)"
      ],
      "metadata": {
        "id": "cX9qtdiCb2xF"
      },
      "execution_count": null,
      "outputs": []
    },
    {
      "cell_type": "code",
      "source": [
        "img"
      ],
      "metadata": {
        "id": "q_oAjTS8cyBz"
      },
      "execution_count": null,
      "outputs": []
    },
    {
      "cell_type": "markdown",
      "source": [
        "- OCR : 이미지 안에서 글씨 뽑기"
      ],
      "metadata": {
        "id": "dizkqv_Pngfs"
      }
    },
    {
      "cell_type": "code",
      "source": [
        "ocr_endpoint = endpoint +'ocr'"
      ],
      "metadata": {
        "id": "w6EG77C2n9DK"
      },
      "execution_count": null,
      "outputs": []
    },
    {
      "cell_type": "code",
      "source": [
        "image_url =\"https://www.unikorea.go.kr/unikorea/common/images/content/peace.png\"\n",
        "image = Image.open(BytesIO(requests.get(image_url).content))\n",
        "image"
      ],
      "metadata": {
        "id": "ct0wVQ6DpiQP"
      },
      "execution_count": null,
      "outputs": []
    },
    {
      "cell_type": "code",
      "source": [
        "headers = {'Ocp-Apim-Subscription-Key': key}\n",
        "params = {'language': 'ko','detectOrientation':'true'}     #'unk' = auto detect, 문서방향 자동인식 true\n",
        "data = {'url': image_url}"
      ],
      "metadata": {
        "id": "5AmEz8XxpjJg"
      },
      "execution_count": null,
      "outputs": []
    },
    {
      "cell_type": "code",
      "source": [
        "response = requests.post(ocr_endpoint,\n",
        "                         headers = headers,\n",
        "                         params = params,\n",
        "                         json = data)\n",
        "\n",
        "result = response.json()\n",
        "result\n"
      ],
      "metadata": {
        "id": "5TC2XVCTqssj"
      },
      "execution_count": null,
      "outputs": []
    },
    {
      "cell_type": "code",
      "source": [
        "result['regions']"
      ],
      "metadata": {
        "id": "w0n4PVtWq-J_"
      },
      "execution_count": null,
      "outputs": []
    },
    {
      "cell_type": "code",
      "source": [
        "[{'boundingBox': '45,125,95,36',\n",
        "  'lines': [{'boundingBox': '45,125,95,17',\n",
        "             'words': [{'boundingBox': '45,125,46,17', 'text': '평화와'},\n",
        "                        {'boundingBox': '95,125,45,17', 'text': '번영의'}]},\n",
        "            \n",
        "            {'boundingBox': '70,144,46,17',\n",
        "            'words': [{'boundingBox': '70,144,46,17', 'text': '한반도'}]}]}]"
      ],
      "metadata": {
        "id": "CE4S4S3S541w"
      },
      "execution_count": null,
      "outputs": []
    },
    {
      "cell_type": "code",
      "source": [
        "result['regions'][0]['lines'][0]['words'][0]['text']"
      ],
      "metadata": {
        "id": "PhkTuH2CrtTS"
      },
      "execution_count": null,
      "outputs": []
    },
    {
      "cell_type": "code",
      "source": [
        "result['regions'][0]"
      ],
      "metadata": {
        "id": "JtWwArzM7V-x"
      },
      "execution_count": null,
      "outputs": []
    },
    {
      "cell_type": "code",
      "source": [
        "obj = result['regions'][0]['lines'][0]\n",
        "\n",
        "obj[0]"
      ],
      "metadata": {
        "id": "HZB_Htad7Wnr"
      },
      "execution_count": null,
      "outputs": []
    },
    {
      "cell_type": "code",
      "source": [
        "#내가 한 것것\n",
        "obj = result['regions'][0]['lines']\n",
        "\n",
        "words=''\n",
        "for i in range(len(obj)):\n",
        "    obj_i = result['regions'][0]['lines'][i]['words']\n",
        "    for j in obj_i:\n",
        "        words += j['text']\n",
        "\n",
        "print(words)\n",
        "    "
      ],
      "metadata": {
        "id": "yvv4KySS6Pmk"
      },
      "execution_count": null,
      "outputs": []
    },
    {
      "cell_type": "code",
      "source": [
        "#좀 더 편한 방법\n",
        "for reg in result['regions']:\n",
        "    for line in reg['lines']:\n",
        "        for word in line['words']:\n",
        "            print(word['text'])"
      ],
      "metadata": {
        "id": "iD2-Y_Es755J"
      },
      "execution_count": null,
      "outputs": []
    },
    {
      "cell_type": "code",
      "source": [],
      "metadata": {
        "id": "022TD5158jlN"
      },
      "execution_count": null,
      "outputs": []
    }
  ]
}
