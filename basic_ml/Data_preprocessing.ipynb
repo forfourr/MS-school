{
  "nbformat": 4,
  "nbformat_minor": 0,
  "metadata": {
    "colab": {
      "private_outputs": true,
      "provenance": [],
      "collapsed_sections": [
        "1wxuscRNG7jb",
        "GsHaqd41HqZI",
        "emjG12Mchgmp",
        "Q_SjqVfy4gQY"
      ],
      "authorship_tag": "ABX9TyNeraN4qZirP1lsJUjI5rZl",
      "include_colab_link": true
    },
    "kernelspec": {
      "name": "python3",
      "display_name": "Python 3"
    },
    "language_info": {
      "name": "python"
    }
  },
  "cells": [
    {
      "cell_type": "markdown",
      "metadata": {
        "id": "view-in-github",
        "colab_type": "text"
      },
      "source": [
        "<a href=\"https://colab.research.google.com/github/forfourr/test-repo/blob/main/Data_preprocessing.ipynb\" target=\"_parent\"><img src=\"https://colab.research.google.com/assets/colab-badge.svg\" alt=\"Open In Colab\"/></a>"
      ]
    },
    {
      "cell_type": "markdown",
      "source": [
        "# Data Preprossecing\n",
        "\n",
        "- Scaling\n",
        "- Sampling\n",
        "    - min-max\n",
        "    - standard\n",
        "- Dimensionality Reduction\n",
        "- Categorial Variable to Numeric Variable"
      ],
      "metadata": {
        "id": "m-0a1lLP7tWI"
      }
    },
    {
      "cell_type": "markdown",
      "source": [
        "머신러닝의 대표적 데이터 셋(범주형)인 abalone.txt을 불러온다.\n",
        "\n",
        "1. Sex(범주- 암컷,수컷,유아기)\n",
        "2. Length\n",
        "3. Diameter\n",
        "4. Height\n",
        "5. Whole weight\n",
        "6. Shucked weight\n",
        "7. Viscera weight\n",
        "8. Shell weight\n",
        "9. Rings\n",
        "\n"
      ],
      "metadata": {
        "id": "WXTLoquT798-"
      }
    },
    {
      "cell_type": "code",
      "source": [
        "import numpy as np\n",
        "import pandas as pd\n",
        "import sklearn\n",
        "import matplotlib.pyplot as plt     #데이터 시각화\n",
        "\n",
        "#파일 다루기위해\n",
        "import os\n",
        "from os.path import join\n",
        "\n",
        "#가벼운 경고 무시\n",
        "import warnings\n",
        "warnings.filterwarnings('ignore')"
      ],
      "metadata": {
        "id": "IFIkR9zjB8wa"
      },
      "execution_count": null,
      "outputs": []
    },
    {
      "cell_type": "code",
      "source": [
        "abalone_path = join('.','abalone.txt')                  #첫번째:현재 direct, 두번째: file name\n",
        "column_path = join('.','abalone_attributes.txt')        #속성값\n",
        "\n",
        "#column -> list\n",
        "abalone_col = list()            #list 객체 만들어줌\n",
        "for i in open(column_path):     #파일 경로를 가지고 와서 파일을 열어줌줌\n",
        "    abalone_col.append(i.strip())       #.strip()을 써줘서 \\n,공백 등을 제거하고 문자열만 가져옴\n",
        "    #abalone_col+=i.strip() 와 같다\n",
        "print(abalone_col)"
      ],
      "metadata": {
        "id": "nvQk0q16C8iq"
      },
      "execution_count": null,
      "outputs": []
    },
    {
      "cell_type": "markdown",
      "source": [
        "#### pandas를 이용해 abalone data 읽어오기"
      ],
      "metadata": {
        "id": "Xa_hopGSEuVs"
      }
    },
    {
      "cell_type": "code",
      "source": [
        "data = pd.read_csv(abalone_path,            #경로\n",
        "                   header=None,             # 데이터를 column head로 인식X\n",
        "                   names= abalone_col)      #column header를 아까 가져온 list column으로 지정하기\n",
        "data"
      ],
      "metadata": {
        "id": "lqhoozo4FkEg"
      },
      "execution_count": null,
      "outputs": []
    },
    {
      "cell_type": "code",
      "source": [
        "#head(), shape 함수를 사용해 데이터를 살펴보기\n",
        "\n",
        "data.head(20)   #상위 20개 보여줘줘"
      ],
      "metadata": {
        "id": "x9NyKAAJF22g"
      },
      "execution_count": null,
      "outputs": []
    },
    {
      "cell_type": "code",
      "source": [
        "data.shape      #데이터 수(열), 행"
      ],
      "metadata": {
        "id": "CPAyeBmfGxY1"
      },
      "execution_count": null,
      "outputs": []
    },
    {
      "cell_type": "markdown",
      "source": [
        "#### label과 데이터 나누기"
      ],
      "metadata": {
        "id": "1wxuscRNG7jb"
      }
    },
    {
      "cell_type": "code",
      "source": [
        "#label \n",
        "label = data['Sex']\n",
        "#성별 데이터 삭제\n",
        "del data['Sex']\n",
        "data.head(15)"
      ],
      "metadata": {
        "id": "jd_GjwouHTl4"
      },
      "execution_count": null,
      "outputs": []
    },
    {
      "cell_type": "markdown",
      "source": [
        "## Scaling"
      ],
      "metadata": {
        "id": "GsHaqd41HqZI"
      }
    },
    {
      "cell_type": "markdown",
      "source": [
        "- min-max Scaling\n",
        "\n",
        "    ✅ 값의 범위가 다양해 비교하게 쉽게 만든다"
      ],
      "metadata": {
        "id": "41pvfdbfIFvL"
      }
    },
    {
      "cell_type": "code",
      "source": [
        "# 1. 데이터 전처리 모듈 불러오기'\n",
        "from sklearn.preprocessing import MinMaxScaler\n",
        "\n",
        "mMscaler = MinMaxScaler()\n",
        "\n",
        "# mMscaler.fit(data)\n",
        "# data3 = mMscaler.transform(data)\n",
        "data3 = mMscaler.fit_transform(data)    #fit, transform 합쳐서 사용용\n",
        "\n",
        "data3"
      ],
      "metadata": {
        "id": "Lym4cNLMKZEk"
      },
      "execution_count": null,
      "outputs": []
    },
    {
      "cell_type": "code",
      "source": [
        "#data3은 지금 numpy\n",
        "#pandas가 더 편하기 때문에 변환\n",
        "mMscaled_data = pd.DataFrame(data3, columns=data.columns)\n",
        "mMscaled_data.head(10)"
      ],
      "metadata": {
        "id": "tYxnMBXTdV3z"
      },
      "execution_count": null,
      "outputs": []
    },
    {
      "cell_type": "markdown",
      "source": [
        "- Standard Scaling"
      ],
      "metadata": {
        "id": "0zYSbzGBeQtr"
      }
    },
    {
      "cell_type": "code",
      "source": [
        "from sklearn.preprocessing import StandardScaler\n",
        "\n",
        "stscaler = StandardScaler()\n",
        "stscaled_data = stscaler.fit_transform(data)\n",
        "stscaled_data"
      ],
      "metadata": {
        "id": "CU0mgAeYfC6B"
      },
      "execution_count": null,
      "outputs": []
    },
    {
      "cell_type": "code",
      "source": [
        "stscaled_data = pd.DataFrame(stscaled_data,columns=data.columns)\n",
        "stscaled_data.head(10)"
      ],
      "metadata": {
        "id": "Dmae2iNHg_lO"
      },
      "execution_count": null,
      "outputs": []
    },
    {
      "cell_type": "markdown",
      "source": [
        "## Sampling"
      ],
      "metadata": {
        "id": "emjG12Mchgmp"
      }
    },
    {
      "cell_type": "markdown",
      "source": [
        "- oversampling : 데이터 수 증가시킴\n",
        "- undersampling : 데이터 수 감소시킴\n",
        "\n",
        "✅ wny?\n",
        "\n",
        "클래스 불균형이 생겼을 때 균형을 맞추는 작업이 필요하다. 데이터 셋의 수가 극단적으로 차이가 나는 경우에 sampling을 사용한다"
      ],
      "metadata": {
        "id": "zXL2UgSDiReN"
      }
    },
    {
      "cell_type": "markdown",
      "source": [
        "- Random Sampling"
      ],
      "metadata": {
        "id": "JPXFz1GSirjX"
      }
    },
    {
      "cell_type": "code",
      "source": [
        "from imblearn.over_sampling import RandomOverSampler\n",
        "from imblearn.under_sampling import RandomUnderSampler\n",
        "\n",
        "ros = RandomOverSampler()\n",
        "rus = RandomUnderSampler()"
      ],
      "metadata": {
        "id": "knWIz-t2jtu9"
      },
      "execution_count": null,
      "outputs": []
    },
    {
      "cell_type": "code",
      "source": [
        "rosampled_data , rosampled_label = ros.fit_resample(data, label)\n",
        "rusampled_data , rusampled_label = rus.fit_resample(data, label)\n",
        "\n",
        "#pandas 변환\n",
        "rosampled_data = pd.DataFrame(rosampled_data, columns=data.columns)\n",
        "rusampled_data = pd.DataFrame(rusampled_data, columns=data.columns)"
      ],
      "metadata": {
        "id": "hXFoE9GYkUNr"
      },
      "execution_count": null,
      "outputs": []
    },
    {
      "cell_type": "code",
      "source": [
        "rosampled_data.head(10)\n"
      ],
      "metadata": {
        "id": "hPuDSVYQo8TC"
      },
      "execution_count": null,
      "outputs": []
    },
    {
      "cell_type": "code",
      "source": [
        "rusampled_data.head(10)"
      ],
      "metadata": {
        "id": "nq--xuhHpBvC"
      },
      "execution_count": null,
      "outputs": []
    },
    {
      "cell_type": "code",
      "source": [
        "print(rosampled_data.shape)\n",
        "print(rusampled_data.shape)"
      ],
      "metadata": {
        "id": "enGLwjdIpDtZ"
      },
      "execution_count": null,
      "outputs": []
    },
    {
      "cell_type": "code",
      "source": [
        "#원본 데이터와 클래스 비율\n",
        "print('원본 데이터와 클래스 비율\\n{0}'.format(pd.get_dummies(label).sum()))\n",
        "print('\\n Random Oversampling result: \\n{0}'.format(pd.get_dummies(rosampled_label).sum()))\n",
        "print('\\n Random Unersampling result: \\n{0}'.format(pd.get_dummies(rusampled_label).sum()))"
      ],
      "metadata": {
        "id": "8IOA7TMrpRCc"
      },
      "execution_count": null,
      "outputs": []
    },
    {
      "cell_type": "code",
      "source": [
        "# Smote : sample data 만들기\n",
        "from imblearn.over_sampling import SMOTE\n",
        "smote = SMOTE(k_neighbors=5)"
      ],
      "metadata": {
        "id": "pDQtsTT5yrn6"
      },
      "execution_count": null,
      "outputs": []
    },
    {
      "cell_type": "code",
      "source": [
        "from sklearn.datasets import make_classification\n",
        "data, label = make_classification(n_samples=1000,    #create 1000 sample\n",
        "                                  n_features = 2,   #feature 2개(x,y)\n",
        "                                  n_informative=2,\n",
        "                                  n_redundant=0,\n",
        "                                  n_repeated=0,\n",
        "                                  n_classes=3,                  #label 개수\n",
        "                                  n_clusters_per_class=1,\n",
        "                                  weights = [0.05,0.15,0.8],    #클래스(label) 비율\n",
        "                                  class_sep= 0.8,\n",
        "                                  random_state=2019)    \n",
        "data"
      ],
      "metadata": {
        "id": "lKoM4QL1uXOM"
      },
      "execution_count": null,
      "outputs": []
    },
    {
      "cell_type": "code",
      "source": [
        "#눈으로 보자\n",
        "fig = plt.Figure(figsize=(12,6))\n",
        "\n",
        "plt.scatter(data[:,0],data[:,1],        #x좌표(첫번째 feature를 0번째로), y좌표\n",
        "            c=label)                    #label에 따라 색깔이 바뀜\n"
      ],
      "metadata": {
        "id": "ekATIAnVu4jw"
      },
      "execution_count": null,
      "outputs": []
    },
    {
      "cell_type": "code",
      "source": [
        "smoted_data, smoted_label = smote.fit_resample(data, label)"
      ],
      "metadata": {
        "id": "yIvn2otSxXgg"
      },
      "execution_count": null,
      "outputs": []
    },
    {
      "cell_type": "code",
      "source": [
        "#두 개 한꺼번에 비교하기\n",
        "plt.figure()\n",
        "\n",
        "plt.subplot(1,2,1)\n",
        "plt.scatter(data[:,0],data[:,1],        #x좌표(첫번째 feature를 0번째로), y좌표\n",
        "            c=label)      \n",
        "\n",
        "plt.subplot(1,2,2)\n",
        "plt.scatter(smoted_data[:,0],\n",
        "            smoted_data[:,1],\n",
        "            c=smoted_label)\n"
      ],
      "metadata": {
        "id": "syBWfo333rYc"
      },
      "execution_count": null,
      "outputs": []
    },
    {
      "cell_type": "markdown",
      "source": [
        "## Dimentionality Reduction"
      ],
      "metadata": {
        "id": "Q_SjqVfy4gQY"
      }
    },
    {
      "cell_type": "code",
      "source": [
        "from sklearn.datasets import load_digits\n",
        "digits = load_digits()  #불러오기"
      ],
      "metadata": {
        "id": "ClHXFqIS7ydJ"
      },
      "execution_count": null,
      "outputs": []
    },
    {
      "cell_type": "code",
      "source": [
        "#정보 확인\n",
        "print(digits.DESCR)"
      ],
      "metadata": {
        "id": "G45dLLiE7-Uu"
      },
      "execution_count": null,
      "outputs": []
    },
    {
      "cell_type": "code",
      "source": [
        "data = digits.data\n",
        "label = digits.target       #00?에서는 label을 target이라고 함"
      ],
      "metadata": {
        "id": "xgsPewpV8mZW"
      },
      "execution_count": null,
      "outputs": []
    },
    {
      "cell_type": "code",
      "source": [
        "data[0]     #data의 첫번 째 값"
      ],
      "metadata": {
        "id": "aB8DepdD848T"
      },
      "execution_count": null,
      "outputs": []
    },
    {
      "cell_type": "markdown",
      "source": [
        "^ 8X8이니까 data를 8개씩 나눠서 봐야함\n",
        "(64차원)"
      ],
      "metadata": {
        "id": "_eX2_vmb9EI5"
      }
    },
    {
      "cell_type": "code",
      "source": [
        "label[0]"
      ],
      "metadata": {
        "id": "2jRuz9Vh86aq"
      },
      "execution_count": null,
      "outputs": []
    },
    {
      "cell_type": "code",
      "source": [
        "print(data[0].shape)"
      ],
      "metadata": {
        "id": "f2ZzEh359a8y"
      },
      "execution_count": null,
      "outputs": []
    },
    {
      "cell_type": "code",
      "source": [
        "#data의 모양 바꾸기\n",
        "data[0].reshape((8,8))      #여전히 64차원\n",
        "#자세히 보면 숫자 0"
      ],
      "metadata": {
        "id": "_T8qqxwr-IgO"
      },
      "execution_count": null,
      "outputs": []
    },
    {
      "cell_type": "code",
      "source": [
        "plt.imshow(data[0].reshape((8,8)))  #tuple타입이라서 괄호두개"
      ],
      "metadata": {
        "id": "iV_get6c-czU"
      },
      "execution_count": null,
      "outputs": []
    },
    {
      "cell_type": "markdown",
      "source": [
        "- 2차원으로 줄이기"
      ],
      "metadata": {
        "id": "jAV1pvN4_G3y"
      }
    },
    {
      "cell_type": "code",
      "source": [
        "from sklearn.decomposition import PCA\n",
        "pca = PCA(n_components = 2)    #2 dimension"
      ],
      "metadata": {
        "id": "VpmX6w8J_70c"
      },
      "execution_count": null,
      "outputs": []
    },
    {
      "cell_type": "code",
      "source": [
        "#주성분 찾기\n",
        "new_data = pca.fit_transform(data)\n",
        "\n",
        "#결과\n",
        "print('원본 데이터 차원\\n{}'.format(data.shape))\n",
        "print('pca 데이터 차원\\n{}'.format(new_data.shape))"
      ],
      "metadata": {
        "id": "WBN-1EZ1BWfS"
      },
      "execution_count": null,
      "outputs": []
    },
    {
      "cell_type": "code",
      "source": [
        "#시각화\n",
        "print(new_data[0])\n",
        "\n",
        "plt.scatter(new_data[:,0], new_data[:,1],c=label)\n"
      ],
      "metadata": {
        "id": "0BakDaodBoUy"
      },
      "execution_count": null,
      "outputs": []
    },
    {
      "cell_type": "markdown",
      "source": [
        "## Categorical Variable to Numerical Variable"
      ],
      "metadata": {
        "id": "p4WHcZyOB26F"
      }
    },
    {
      "cell_type": "markdown",
      "source": [
        "- Label Encoding\n",
        "\n",
        "    ✅ n개의 범주형 데이터를 연속적 수치 데이터로 표현\n",
        "\n",
        "    ex) 소형:0, 중형:1, 대형:2"
      ],
      "metadata": {
        "id": "ZsbWsemtImtS"
      }
    },
    {
      "cell_type": "code",
      "source": [
        "# Label Encoding\n",
        "\n",
        "data = pd.read_csv(abalone_path, header=None, names=abalone_col)\n",
        "label = data['Sex']\n",
        "label"
      ],
      "metadata": {
        "id": "BxAtTyJrG8tn"
      },
      "execution_count": null,
      "outputs": []
    },
    {
      "cell_type": "code",
      "source": [
        "from sklearn.preprocessing import LabelEncoder\n",
        "labelencoder = LabelEncoder()\n",
        "\n",
        "encoded_label = labelencoder.fit_transform(label)\n",
        "encoded_label"
      ],
      "metadata": {
        "id": "kTPUNMxJHiWR"
      },
      "execution_count": null,
      "outputs": []
    },
    {
      "cell_type": "markdown",
      "source": [
        "- One-hot Encoding\n",
        "\n",
        "    ✅n개의 데이터를 벡터로 표현\n",
        "\n",
        "    Ex) 소형[1,0,0]\n",
        "    중형[0,1,0]\n",
        "    대형[0,0,1]"
      ],
      "metadata": {
        "id": "rwSBrBJ-IcbF"
      }
    },
    {
      "cell_type": "code",
      "source": [
        "from sklearn.preprocessing import OneHotEncoder\n",
        "\n",
        "ohe=OneHotEncoder(sparse=False)"
      ],
      "metadata": {
        "id": "pxlG2ivlIsJE"
      },
      "execution_count": null,
      "outputs": []
    },
    {
      "cell_type": "code",
      "source": [
        "label.values.reshape((-1,1))    #세로로 한 줄 - 열 고정 \n",
        "                                #((1,-1))이면 가로로 한 줄 - 행 고정"
      ],
      "metadata": {
        "id": "jJItRVfpLuuD"
      },
      "execution_count": null,
      "outputs": []
    },
    {
      "cell_type": "code",
      "source": [
        "ohe.fit(label.values.reshape((-1,1)))\n",
        "one_hot_encoded = ohe.transform(label.values.reshape((-1,1)))"
      ],
      "metadata": {
        "id": "njutMbcUL708"
      },
      "execution_count": null,
      "outputs": []
    },
    {
      "cell_type": "code",
      "source": [
        "#배열의 label과 one-hot-encoder 카테고리 합쳐서 출력\n",
        "columns = np.concatenate([np.array(['label']),ohe.categories_[0]])\n",
        "data = np.concatenate([label.values.reshape((-1,1)),\n",
        "                       one_hot_encoded.reshape((-1,3))],\n",
        "                      axis =1)\n",
        "\n",
        "result = pd.DataFrame(data, columns=columns)\n",
        "result"
      ],
      "metadata": {
        "id": "tLjbygjBMqOy"
      },
      "execution_count": null,
      "outputs": []
    },
    {
      "cell_type": "code",
      "source": [],
      "metadata": {
        "id": "oqZyLhwkO3Qr"
      },
      "execution_count": null,
      "outputs": []
    },
    {
      "cell_type": "code",
      "source": [
        "pd.DataFrame()"
      ],
      "metadata": {
        "id": "MAEGkM2mMqKq"
      },
      "execution_count": null,
      "outputs": []
    },
    {
      "cell_type": "code",
      "source": [],
      "metadata": {
        "id": "4CCD6iuMR-l2"
      },
      "execution_count": null,
      "outputs": []
    }
  ]
}
