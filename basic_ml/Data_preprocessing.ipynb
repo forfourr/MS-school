{
  "cells": [
    {
      "attachments": {},
      "cell_type": "markdown",
      "metadata": {
        "colab_type": "text",
        "id": "view-in-github"
      },
      "source": [
        "<a href=\"https://colab.research.google.com/github/forfourr/test-repo/blob/main/Data_preprocessing.ipynb\" target=\"_parent\"><img src=\"https://colab.research.google.com/assets/colab-badge.svg\" alt=\"Open In Colab\"/></a>"
      ]
    },
    {
      "attachments": {},
      "cell_type": "markdown",
      "metadata": {
        "id": "m-0a1lLP7tWI"
      },
      "source": [
        "# Data Preprossecing\n",
        "\n",
        "- Scaling\n",
        "- Sampling\n",
        "    - min-max\n",
        "    - standard\n",
        "- Dimensionality Reduction\n",
        "- Categorial Variable to Numeric Variable"
      ]
    },
    {
      "attachments": {},
      "cell_type": "markdown",
      "metadata": {
        "id": "WXTLoquT798-"
      },
      "source": [
        "머신러닝의 대표적 데이터 셋(범주형)인 abalone.txt을 불러온다.\n",
        "\n",
        "1. Sex(범주- 암컷,수컷,유아기)\n",
        "2. Length\n",
        "3. Diameter\n",
        "4. Height\n",
        "5. Whole weight\n",
        "6. Shucked weight\n",
        "7. Viscera weight\n",
        "8. Shell weight\n",
        "9. Rings\n",
        "\n"
      ]
    },
    {
      "cell_type": "code",
      "execution_count": null,
      "metadata": {
        "id": "IFIkR9zjB8wa"
      },
      "outputs": [],
      "source": [
        "import numpy as np\n",
        "import pandas as pd\n",
        "import sklearn\n",
        "import matplotlib.pyplot as plt     #데이터 시각화\n",
        "\n",
        "#파일 다루기위해\n",
        "import os\n",
        "from os.path import join\n",
        "\n",
        "#가벼운 경고 무시\n",
        "import warnings\n",
        "warnings.filterwarnings('ignore')"
      ]
    },
    {
      "cell_type": "code",
      "execution_count": null,
      "metadata": {
        "id": "nvQk0q16C8iq"
      },
      "outputs": [],
      "source": [
        "abalone_path = join('.','abalone.txt')                  #첫번째:현재 direct, 두번째: file name\n",
        "column_path = join('.','abalone_attributes.txt')        #속성값\n",
        "\n",
        "#column -> list\n",
        "abalone_col = list()            #list 객체 만들어줌\n",
        "for i in open(column_path):     #파일 경로를 가지고 와서 파일을 열어줌줌\n",
        "    abalone_col.append(i.strip())       #.strip()을 써줘서 \\n,공백 등을 제거하고 문자열만 가져옴\n",
        "    #abalone_col+=i.strip() 와 같다\n",
        "print(abalone_col)"
      ]
    },
    {
      "attachments": {},
      "cell_type": "markdown",
      "metadata": {
        "id": "Xa_hopGSEuVs"
      },
      "source": [
        "#### pandas를 이용해 abalone data 읽어오기"
      ]
    },
    {
      "cell_type": "code",
      "execution_count": null,
      "metadata": {
        "id": "lqhoozo4FkEg"
      },
      "outputs": [],
      "source": [
        "data = pd.read_csv(abalone_path,            #경로\n",
        "                   header=None,             # 데이터를 column head로 인식X\n",
        "                   names= abalone_col)      #column header를 아까 가져온 list column으로 지정하기\n",
        "data"
      ]
    },
    {
      "cell_type": "code",
      "execution_count": null,
      "metadata": {
        "id": "x9NyKAAJF22g"
      },
      "outputs": [],
      "source": [
        "#head(), shape 함수를 사용해 데이터를 살펴보기\n",
        "\n",
        "data.head(20)   #상위 20개 보여줘줘"
      ]
    },
    {
      "cell_type": "code",
      "execution_count": null,
      "metadata": {
        "id": "CPAyeBmfGxY1"
      },
      "outputs": [],
      "source": [
        "data.shape      #데이터 수(열), 행"
      ]
    },
    {
      "attachments": {},
      "cell_type": "markdown",
      "metadata": {
        "id": "1wxuscRNG7jb"
      },
      "source": [
        "#### label과 데이터 나누기"
      ]
    },
    {
      "cell_type": "code",
      "execution_count": null,
      "metadata": {
        "id": "jd_GjwouHTl4"
      },
      "outputs": [],
      "source": [
        "#label \n",
        "label = data['Sex']\n",
        "#성별 데이터 삭제\n",
        "del data['Sex']\n",
        "data.head(15)"
      ]
    },
    {
      "attachments": {},
      "cell_type": "markdown",
      "metadata": {
        "id": "GsHaqd41HqZI"
      },
      "source": [
        "## Scaling"
      ]
    },
    {
      "attachments": {},
      "cell_type": "markdown",
      "metadata": {
        "id": "41pvfdbfIFvL"
      },
      "source": [
        "- min-max Scaling\n",
        "\n",
        "    ✅ 값의 범위가 다양해 비교하게 쉽게 만든다"
      ]
    },
    {
      "cell_type": "code",
      "execution_count": null,
      "metadata": {
        "id": "Lym4cNLMKZEk"
      },
      "outputs": [],
      "source": [
        "# 1. 데이터 전처리 모듈 불러오기'\n",
        "from sklearn.preprocessing import MinMaxScaler\n",
        "\n",
        "mMscaler = MinMaxScaler()\n",
        "\n",
        "# mMscaler.fit(data)\n",
        "# data3 = mMscaler.transform(data)\n",
        "data3 = mMscaler.fit_transform(data)    #fit, transform 합쳐서 사용용\n",
        "\n",
        "data3"
      ]
    },
    {
      "cell_type": "code",
      "execution_count": null,
      "metadata": {
        "id": "tYxnMBXTdV3z"
      },
      "outputs": [],
      "source": [
        "#data3은 지금 numpy\n",
        "#pandas가 더 편하기 때문에 변환\n",
        "mMscaled_data = pd.DataFrame(data3, columns=data.columns)\n",
        "mMscaled_data.head(10)"
      ]
    },
    {
      "attachments": {},
      "cell_type": "markdown",
      "metadata": {
        "id": "0zYSbzGBeQtr"
      },
      "source": [
        "- Standard Scaling"
      ]
    },
    {
      "cell_type": "code",
      "execution_count": null,
      "metadata": {
        "id": "CU0mgAeYfC6B"
      },
      "outputs": [],
      "source": [
        "from sklearn.preprocessing import StandardScaler\n",
        "\n",
        "stscaler = StandardScaler()\n",
        "stscaled_data = stscaler.fit_transform(data)\n",
        "stscaled_data"
      ]
    },
    {
      "cell_type": "code",
      "execution_count": null,
      "metadata": {
        "id": "Dmae2iNHg_lO"
      },
      "outputs": [],
      "source": [
        "stscaled_data = pd.DataFrame(stscaled_data,columns=data.columns)\n",
        "stscaled_data.head(10)"
      ]
    },
    {
      "attachments": {},
      "cell_type": "markdown",
      "metadata": {
        "id": "emjG12Mchgmp"
      },
      "source": [
        "## Sampling"
      ]
    },
    {
      "attachments": {},
      "cell_type": "markdown",
      "metadata": {
        "id": "zXL2UgSDiReN"
      },
      "source": [
        "- oversampling : 데이터 수 증가시킴\n",
        "- undersampling : 데이터 수 감소시킴\n",
        "\n",
        "✅ wny?\n",
        "\n",
        "클래스 불균형이 생겼을 때 균형을 맞추는 작업이 필요하다. 데이터 셋의 수가 극단적으로 차이가 나는 경우에 sampling을 사용한다"
      ]
    },
    {
      "attachments": {},
      "cell_type": "markdown",
      "metadata": {
        "id": "JPXFz1GSirjX"
      },
      "source": [
        "- Random Sampling"
      ]
    },
    {
      "cell_type": "code",
      "execution_count": null,
      "metadata": {
        "id": "knWIz-t2jtu9"
      },
      "outputs": [],
      "source": [
        "from imblearn.over_sampling import RandomOverSampler\n",
        "from imblearn.under_sampling import RandomUnderSampler\n",
        "\n",
        "ros = RandomOverSampler()\n",
        "rus = RandomUnderSampler()"
      ]
    },
    {
      "cell_type": "code",
      "execution_count": null,
      "metadata": {
        "id": "hXFoE9GYkUNr"
      },
      "outputs": [],
      "source": [
        "rosampled_data , rosampled_label = ros.fit_resample(data, label)\n",
        "rusampled_data , rusampled_label = rus.fit_resample(data, label)\n",
        "\n",
        "#pandas 변환\n",
        "rosampled_data = pd.DataFrame(rosampled_data, columns=data.columns)\n",
        "rusampled_data = pd.DataFrame(rusampled_data, columns=data.columns)"
      ]
    },
    {
      "cell_type": "code",
      "execution_count": null,
      "metadata": {
        "id": "hPuDSVYQo8TC"
      },
      "outputs": [],
      "source": [
        "rosampled_data.head(10)\n"
      ]
    },
    {
      "cell_type": "code",
      "execution_count": null,
      "metadata": {
        "id": "nq--xuhHpBvC"
      },
      "outputs": [],
      "source": [
        "rusampled_data.head(10)"
      ]
    },
    {
      "cell_type": "code",
      "execution_count": null,
      "metadata": {
        "id": "enGLwjdIpDtZ"
      },
      "outputs": [],
      "source": [
        "print(rosampled_data.shape)\n",
        "print(rusampled_data.shape)"
      ]
    },
    {
      "cell_type": "code",
      "execution_count": null,
      "metadata": {
        "id": "8IOA7TMrpRCc"
      },
      "outputs": [],
      "source": [
        "#원본 데이터와 클래스 비율\n",
        "print('원본 데이터와 클래스 비율\\n{0}'.format(pd.get_dummies(label).sum()))\n",
        "print('\\n Random Oversampling result: \\n{0}'.format(pd.get_dummies(rosampled_label).sum()))\n",
        "print('\\n Random Unersampling result: \\n{0}'.format(pd.get_dummies(rusampled_label).sum()))"
      ]
    },
    {
      "cell_type": "code",
      "execution_count": null,
      "metadata": {
        "id": "pDQtsTT5yrn6"
      },
      "outputs": [],
      "source": [
        "# Smote : sample data 만들기\n",
        "from imblearn.over_sampling import SMOTE\n",
        "smote = SMOTE(k_neighbors=5)"
      ]
    },
    {
      "cell_type": "code",
      "execution_count": null,
      "metadata": {
        "id": "lKoM4QL1uXOM"
      },
      "outputs": [],
      "source": [
        "from sklearn.datasets import make_classification\n",
        "data, label = make_classification(n_samples=1000,    #create 1000 sample\n",
        "                                  n_features = 2,   #feature 2개(x,y)\n",
        "                                  n_informative=2,\n",
        "                                  n_redundant=0,\n",
        "                                  n_repeated=0,\n",
        "                                  n_classes=3,                  #label 개수\n",
        "                                  n_clusters_per_class=1,\n",
        "                                  weights = [0.05,0.15,0.8],    #클래스(label) 비율\n",
        "                                  class_sep= 0.8,\n",
        "                                  random_state=2019)    \n",
        "data"
      ]
    },
    {
      "cell_type": "code",
      "execution_count": null,
      "metadata": {
        "id": "ekATIAnVu4jw"
      },
      "outputs": [],
      "source": [
        "#눈으로 보자\n",
        "fig = plt.Figure(figsize=(12,6))\n",
        "\n",
        "plt.scatter(data[:,0],data[:,1],        #x좌표(첫번째 feature를 0번째로), y좌표\n",
        "            c=label)                    #label에 따라 색깔이 바뀜\n"
      ]
    },
    {
      "cell_type": "code",
      "execution_count": null,
      "metadata": {
        "id": "yIvn2otSxXgg"
      },
      "outputs": [],
      "source": [
        "smoted_data, smoted_label = smote.fit_resample(data, label)"
      ]
    },
    {
      "cell_type": "code",
      "execution_count": null,
      "metadata": {
        "id": "syBWfo333rYc"
      },
      "outputs": [],
      "source": [
        "#두 개 한꺼번에 비교하기\n",
        "plt.figure()\n",
        "\n",
        "plt.subplot(1,2,1)\n",
        "plt.scatter(data[:,0],data[:,1],        #x좌표(첫번째 feature를 0번째로), y좌표\n",
        "            c=label)      \n",
        "\n",
        "plt.subplot(1,2,2)\n",
        "plt.scatter(smoted_data[:,0],\n",
        "            smoted_data[:,1],\n",
        "            c=smoted_label)\n"
      ]
    },
    {
      "attachments": {},
      "cell_type": "markdown",
      "metadata": {
        "id": "Q_SjqVfy4gQY"
      },
      "source": [
        "## Dimentionality Reduction"
      ]
    },
    {
      "cell_type": "code",
      "execution_count": null,
      "metadata": {
        "id": "ClHXFqIS7ydJ"
      },
      "outputs": [],
      "source": [
        "from sklearn.datasets import load_digits\n",
        "digits = load_digits()  #불러오기"
      ]
    },
    {
      "cell_type": "code",
      "execution_count": null,
      "metadata": {
        "id": "G45dLLiE7-Uu"
      },
      "outputs": [],
      "source": [
        "#정보 확인\n",
        "print(digits.DESCR)"
      ]
    },
    {
      "cell_type": "code",
      "execution_count": null,
      "metadata": {
        "id": "xgsPewpV8mZW"
      },
      "outputs": [],
      "source": [
        "data = digits.data\n",
        "label = digits.target       #00?에서는 label을 target이라고 함"
      ]
    },
    {
      "cell_type": "code",
      "execution_count": null,
      "metadata": {
        "id": "aB8DepdD848T"
      },
      "outputs": [],
      "source": [
        "data[0]     #data의 첫번 째 값"
      ]
    },
    {
      "attachments": {},
      "cell_type": "markdown",
      "metadata": {
        "id": "_eX2_vmb9EI5"
      },
      "source": [
        "^ 8X8이니까 data를 8개씩 나눠서 봐야함\n",
        "(64차원)"
      ]
    },
    {
      "cell_type": "code",
      "execution_count": null,
      "metadata": {
        "id": "2jRuz9Vh86aq"
      },
      "outputs": [],
      "source": [
        "label[0]"
      ]
    },
    {
      "cell_type": "code",
      "execution_count": null,
      "metadata": {
        "id": "f2ZzEh359a8y"
      },
      "outputs": [],
      "source": [
        "print(data[0].shape)"
      ]
    },
    {
      "cell_type": "code",
      "execution_count": null,
      "metadata": {
        "id": "_T8qqxwr-IgO"
      },
      "outputs": [],
      "source": [
        "#data의 모양 바꾸기\n",
        "data[0].reshape((8,8))      #여전히 64차원\n",
        "#자세히 보면 숫자 0"
      ]
    },
    {
      "cell_type": "code",
      "execution_count": null,
      "metadata": {
        "id": "iV_get6c-czU"
      },
      "outputs": [],
      "source": [
        "plt.imshow(data[0].reshape((8,8)))  #tuple타입이라서 괄호두개"
      ]
    },
    {
      "attachments": {},
      "cell_type": "markdown",
      "metadata": {
        "id": "jAV1pvN4_G3y"
      },
      "source": [
        "- 2차원으로 줄이기"
      ]
    },
    {
      "cell_type": "code",
      "execution_count": null,
      "metadata": {
        "id": "VpmX6w8J_70c"
      },
      "outputs": [],
      "source": [
        "from sklearn.decomposition import PCA\n",
        "pca = PCA(n_components = 2)    #2 dimension"
      ]
    },
    {
      "cell_type": "code",
      "execution_count": null,
      "metadata": {
        "id": "WBN-1EZ1BWfS"
      },
      "outputs": [],
      "source": [
        "#주성분 찾기\n",
        "new_data = pca.fit_transform(data)\n",
        "\n",
        "#결과\n",
        "print('원본 데이터 차원\\n{}'.format(data.shape))\n",
        "print('pca 데이터 차원\\n{}'.format(new_data.shape))"
      ]
    },
    {
      "cell_type": "code",
      "execution_count": null,
      "metadata": {
        "id": "0BakDaodBoUy"
      },
      "outputs": [],
      "source": [
        "#시각화\n",
        "print(new_data[0])\n",
        "\n",
        "plt.scatter(new_data[:,0], new_data[:,1],c=label)\n"
      ]
    },
    {
      "attachments": {},
      "cell_type": "markdown",
      "metadata": {
        "id": "p4WHcZyOB26F"
      },
      "source": [
        "## Categorical Variable to Numerical Variable"
      ]
    },
    {
      "attachments": {},
      "cell_type": "markdown",
      "metadata": {
        "id": "ZsbWsemtImtS"
      },
      "source": [
        "- Label Encoding\n",
        "\n",
        "    ✅ n개의 범주형 데이터를 연속적 수치 데이터로 표현\n",
        "\n",
        "    ex) 소형:0, 중형:1, 대형:2"
      ]
    },
    {
      "cell_type": "code",
      "execution_count": null,
      "metadata": {
        "id": "BxAtTyJrG8tn"
      },
      "outputs": [],
      "source": [
        "# Label Encoding\n",
        "\n",
        "data = pd.read_csv(abalone_path, header=None, names=abalone_col)\n",
        "label = data['Sex']\n",
        "label"
      ]
    },
    {
      "cell_type": "code",
      "execution_count": null,
      "metadata": {
        "id": "kTPUNMxJHiWR"
      },
      "outputs": [],
      "source": [
        "from sklearn.preprocessing import LabelEncoder\n",
        "labelencoder = LabelEncoder()\n",
        "\n",
        "encoded_label = labelencoder.fit_transform(label)\n",
        "encoded_label"
      ]
    },
    {
      "attachments": {},
      "cell_type": "markdown",
      "metadata": {
        "id": "rwSBrBJ-IcbF"
      },
      "source": [
        "- One-hot Encoding\n",
        "\n",
        "    ✅n개의 데이터를 벡터로 표현\n",
        "\n",
        "    Ex) 소형[1,0,0]\n",
        "    중형[0,1,0]\n",
        "    대형[0,0,1]"
      ]
    },
    {
      "cell_type": "code",
      "execution_count": null,
      "metadata": {
        "id": "pxlG2ivlIsJE"
      },
      "outputs": [],
      "source": [
        "from sklearn.preprocessing import OneHotEncoder\n",
        "\n",
        "ohe=OneHotEncoder(sparse=False)"
      ]
    },
    {
      "cell_type": "code",
      "execution_count": null,
      "metadata": {
        "id": "jJItRVfpLuuD"
      },
      "outputs": [],
      "source": [
        "label.values.reshape((-1,1))    #세로로 한 줄 - 열 고정 \n",
        "                                #((1,-1))이면 가로로 한 줄 - 행 고정"
      ]
    },
    {
      "cell_type": "code",
      "execution_count": null,
      "metadata": {
        "id": "njutMbcUL708"
      },
      "outputs": [],
      "source": [
        "ohe.fit(label.values.reshape((-1,1)))\n",
        "one_hot_encoded = ohe.transform(label.values.reshape((-1,1)))"
      ]
    },
    {
      "cell_type": "code",
      "execution_count": null,
      "metadata": {
        "id": "tLjbygjBMqOy"
      },
      "outputs": [],
      "source": [
        "#배열의 label과 one-hot-encoder 카테고리 합쳐서 출력\n",
        "columns = np.concatenate([np.array(['label']),ohe.categories_[0]])\n",
        "data = np.concatenate([label.values.reshape((-1,1)),\n",
        "                       one_hot_encoded.reshape((-1,3))],\n",
        "                      axis =1)\n",
        "\n",
        "result = pd.DataFrame(data, columns=columns)\n",
        "result"
      ]
    },
    {
      "cell_type": "code",
      "execution_count": null,
      "metadata": {
        "id": "oqZyLhwkO3Qr"
      },
      "outputs": [],
      "source": []
    },
    {
      "cell_type": "code",
      "execution_count": null,
      "metadata": {
        "id": "MAEGkM2mMqKq"
      },
      "outputs": [],
      "source": [
        "pd.DataFrame()"
      ]
    },
    {
      "cell_type": "code",
      "execution_count": null,
      "metadata": {
        "id": "4CCD6iuMR-l2"
      },
      "outputs": [],
      "source": []
    }
  ],
  "metadata": {
    "colab": {
      "authorship_tag": "ABX9TyNeraN4qZirP1lsJUjI5rZl",
      "collapsed_sections": [
        "1wxuscRNG7jb",
        "GsHaqd41HqZI",
        "emjG12Mchgmp",
        "Q_SjqVfy4gQY"
      ],
      "include_colab_link": true,
      "private_outputs": true,
      "provenance": []
    },
    "kernelspec": {
      "display_name": "Python 3",
      "name": "python3"
    },
    "language_info": {
      "name": "python"
    }
  },
  "nbformat": 4,
  "nbformat_minor": 0
}
