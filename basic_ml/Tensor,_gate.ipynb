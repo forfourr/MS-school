{
  "nbformat": 4,
  "nbformat_minor": 0,
  "metadata": {
    "colab": {
      "private_outputs": true,
      "provenance": [],
      "collapsed_sections": [
        "CX_cwYJNEQZs",
        "YvDa0mOtEe_H",
        "hBKrAiAnTMnl",
        "Bh8fDuxjY5Ll",
        "eB_-xd7Ec_lq",
        "5klxkA7tanf1"
      ],
      "authorship_tag": "ABX9TyPodqVT74gDGoJsnkKUobV1",
      "include_colab_link": true
    },
    "kernelspec": {
      "name": "python3",
      "display_name": "Python 3"
    },
    "language_info": {
      "name": "python"
    }
  },
  "cells": [
    {
      "cell_type": "markdown",
      "metadata": {
        "id": "view-in-github",
        "colab_type": "text"
      },
      "source": [
        "<a href=\"https://colab.research.google.com/github/forfourr/test-repo/blob/main/Tensor%2C_gate.ipynb\" target=\"_parent\"><img src=\"https://colab.research.google.com/assets/colab-badge.svg\" alt=\"Open In Colab\"/></a>"
      ]
    },
    {
      "cell_type": "code",
      "execution_count": null,
      "metadata": {
        "id": "3KzouTEi0Jzt"
      },
      "outputs": [],
      "source": [
        "#신경망의기초\n",
        "\n",
        "import math\n",
        "import numpy as np\n",
        "import matplotlib.pyplot as plt"
      ]
    },
    {
      "cell_type": "markdown",
      "source": [
        "## n차 함수 그려보기"
      ],
      "metadata": {
        "id": "CX_cwYJNEQZs"
      }
    },
    {
      "cell_type": "markdown",
      "source": [
        "### 일차함수"
      ],
      "metadata": {
        "id": "R2v4RV474oyQ"
      }
    },
    {
      "cell_type": "code",
      "source": [
        "#일차함수\n",
        "def linear_fun(x):\n",
        "    a=0.5\n",
        "    b=2\n",
        "\n",
        "    return a*x+b\n"
      ],
      "metadata": {
        "id": "SrZuLFfG1s5V"
      },
      "execution_count": null,
      "outputs": []
    },
    {
      "cell_type": "code",
      "source": [
        "from matplotlib import markers\n",
        "x = np.arange(-5, 5, 0.1)\n",
        "y= linear_fun(x)\n",
        "\n",
        "plt.plot(x,y, marker='.')\n",
        "plt.xlabel('x')\n",
        "plt.ylabel('y')\n",
        "plt.title('linear fun')"
      ],
      "metadata": {
        "id": "IvgQjUoh4Xf_"
      },
      "execution_count": null,
      "outputs": []
    },
    {
      "cell_type": "markdown",
      "source": [
        "### 이차함수"
      ],
      "metadata": {
        "id": "tR3QJV_34XX4"
      }
    },
    {
      "cell_type": "code",
      "source": [
        "#이차함수\n",
        "def quadratic_fun(x):\n",
        "    a=1\n",
        "    b=-1\n",
        "    c=-2\n",
        "    return a*x**2 + b*x + c"
      ],
      "metadata": {
        "id": "kb4hbNp-46GK"
      },
      "execution_count": null,
      "outputs": []
    },
    {
      "cell_type": "code",
      "source": [
        "x = np.arange(-5,5,0.1)\n",
        "y = quadratic_fun(x)\n",
        "\n",
        "plt.plot(x,y,marker='.')\n",
        "plt.xlabel('x')\n",
        "plt.ylabel('y')\n",
        "plt.title('quadratic fun')"
      ],
      "metadata": {
        "id": "XtR_Uqo14548"
      },
      "execution_count": null,
      "outputs": []
    },
    {
      "cell_type": "markdown",
      "source": [
        "### 삼차함수"
      ],
      "metadata": {
        "id": "NZ1sscAQ45KW"
      }
    },
    {
      "cell_type": "code",
      "source": [
        "def cubic_fun(x):\n",
        "    a=4\n",
        "    b=0\n",
        "    c=-1\n",
        "    d=-8\n",
        "    return a*x**3 + b*x**2 + c*x + d"
      ],
      "metadata": {
        "id": "MYkHRMKA44mr"
      },
      "execution_count": null,
      "outputs": []
    },
    {
      "cell_type": "code",
      "source": [
        "x = np.arange(-5,5,0.1)\n",
        "y = cubic_fun(x)\n",
        "\n",
        "plt.plot(x,y,marker='.')\n",
        "plt.xlabel('x')\n",
        "plt.title('cubic fun')"
      ],
      "metadata": {
        "id": "qlFHP1V09OrH"
      },
      "execution_count": null,
      "outputs": []
    },
    {
      "cell_type": "markdown",
      "source": [
        "## Tensor표현"
      ],
      "metadata": {
        "id": "9WoAVGVN9a3t"
      }
    },
    {
      "cell_type": "markdown",
      "source": [
        "### 0차원 tensor"
      ],
      "metadata": {
        "id": "YvDa0mOtEe_H"
      }
    },
    {
      "cell_type": "code",
      "source": [
        "x = np.array(3) #스칼라\n",
        "print(x.ndim)"
      ],
      "metadata": {
        "id": "98wiho10AISX"
      },
      "execution_count": null,
      "outputs": []
    },
    {
      "cell_type": "markdown",
      "source": [
        "### 1차원 tensor"
      ],
      "metadata": {
        "id": "GiVxjcCYEg-L"
      }
    },
    {
      "cell_type": "code",
      "source": [
        "#1차원 tensor\n",
        "a = np.array([1,2,3,4])\n",
        "b = np.array([5,6,7,8])\n",
        "print(\"A dimention: {} \\nA shape: {}\".format(a.ndim, a.shape))\n",
        "\n",
        "#같은 차원끼리의 결과\n",
        "c = a+b\n",
        "print('\\n',a ,'+',b ,'=',c)\n",
        "print(\"C dimention: {} \\nC shape: {}\".format(c.ndim, c.shape))\n",
        "\n",
        "#다른 차원끼리의 결과\n",
        "d = a+x #1차원 + 0차원\n",
        "print('\\n',a ,'+',x ,'=',d)\n",
        "print(\"D dimention: {} \\nD shape: {}\".format(d.ndim, d.shape))"
      ],
      "metadata": {
        "id": "0MzTb0mAAKcq"
      },
      "execution_count": null,
      "outputs": []
    },
    {
      "cell_type": "markdown",
      "source": [
        "0차원인 x를 [3,0,0,0]으로 생각해서 1차원인 a [1,2,3,4]와 연산됨 -> load casting : 차원이 달라도 연산 가능"
      ],
      "metadata": {
        "id": "Fbx7k1n5CUTf"
      }
    },
    {
      "cell_type": "code",
      "source": [
        "# dot 연산 : 벡터의 곱\n",
        "x = np.array([1,2,0])\n",
        "y = np.array([0,2,1])\n",
        "z = np.dot(x,y)\n",
        "\n",
        "print(\"XoY: {} \\nZ dimention: {}\".format(z,z.ndim))\n"
      ],
      "metadata": {
        "id": "uWrQ69K0BETJ"
      },
      "execution_count": null,
      "outputs": []
    },
    {
      "cell_type": "markdown",
      "source": [
        "### 2차원 tensor만들기"
      ],
      "metadata": {
        "id": "_Bs6B9IZC4MX"
      }
    },
    {
      "cell_type": "code",
      "source": [
        "matrix = np.array([[1,2,3],[4,5,6]])\n",
        "\n",
        "print(matrix)\n",
        "print(\"shape: {} \\nDemention: {}\".format(matrix.shape, matrix.ndim))"
      ],
      "metadata": {
        "id": "gkagvQIcEbzw"
      },
      "execution_count": null,
      "outputs": []
    },
    {
      "cell_type": "code",
      "source": [
        "a = np.array([[1,2],[3,4]])\n",
        "b = np.array([[10,10],[10,10]])\n",
        "\n",
        "c = np.dot(a,b)\n",
        "\n",
        "print(c)\n",
        "print(\"C shape: {} \\nC dimention: {}\".format(c.shape,c.ndim))\n"
      ],
      "metadata": {
        "id": "KVF8LYuQE2Dc"
      },
      "execution_count": null,
      "outputs": []
    },
    {
      "cell_type": "code",
      "source": [
        "# 전치행렬"
      ],
      "metadata": {
        "id": "JguXnrTJGbt4"
      },
      "execution_count": null,
      "outputs": []
    },
    {
      "cell_type": "markdown",
      "source": [
        "## 논리게이트 만들기"
      ],
      "metadata": {
        "id": "l0DPMPbMTNYu"
      }
    },
    {
      "cell_type": "markdown",
      "source": [
        "### AND"
      ],
      "metadata": {
        "id": "hBKrAiAnTMnl"
      }
    },
    {
      "cell_type": "code",
      "source": [
        "def AND(a,b):\n",
        "    input = np.array([a,b])\n",
        "    weights = np.array([0.4, 0.4])\n",
        "    bias = -0.6\n",
        "    val = np.sum(input * weights) + bias\n",
        "\n",
        "    if val <=0:\n",
        "        return 0\n",
        "    else:\n",
        "        return 1\n"
      ],
      "metadata": {
        "id": "mlDwJNA4TQJ4"
      },
      "execution_count": null,
      "outputs": []
    },
    {
      "cell_type": "code",
      "source": [
        "AND(1,1)"
      ],
      "metadata": {
        "id": "FVFNMbmvTk5K"
      },
      "execution_count": null,
      "outputs": []
    },
    {
      "cell_type": "code",
      "source": [
        "x1 = np.arange(-2,2,0.01)\n",
        "x2 = np.arange(-2,2,0.01)\n",
        "bias = -0.6\n",
        "\n",
        "y = (-0.4*x1 - bias) / 0.4\n",
        "\n",
        "plt.axvline(x=0)\n",
        "plt.axhline(y=0)\n",
        "plt.plot(x1, y, 'r--')\n",
        "plt.scatter(0,0,color='orange', marker='o',s =150)\n",
        "plt.scatter(0,1,color='orange', marker='o',s =150)\n",
        "plt.scatter(1,0,color='orange', marker='o',s =150)\n",
        "plt.scatter(1,1,color='black', marker='o',s =150)\n",
        "\n",
        "plt.xlim(-0.5,1.5)\n",
        "plt.ylim(-0.5,1.5)\n",
        "plt.grid()"
      ],
      "metadata": {
        "id": "SFWhgVVET7sa"
      },
      "execution_count": null,
      "outputs": []
    },
    {
      "cell_type": "markdown",
      "source": [
        "### OR"
      ],
      "metadata": {
        "id": "Bh8fDuxjY5Ll"
      }
    },
    {
      "cell_type": "code",
      "source": [
        "def OR(a,b):\n",
        "    input = np.array([a,b])\n",
        "    weights = np.array([0.4, 0.4])\n",
        "    bias = -0.3\n",
        "    val = np.sum(input * weights) + bias\n",
        "\n",
        "    if val <=0:\n",
        "        return 0\n",
        "    else:\n",
        "        return 1"
      ],
      "metadata": {
        "id": "zMFhSeYiaS2J"
      },
      "execution_count": null,
      "outputs": []
    },
    {
      "cell_type": "code",
      "source": [
        "OR(0,1)"
      ],
      "metadata": {
        "id": "9E-O1siyalQ5"
      },
      "execution_count": null,
      "outputs": []
    },
    {
      "cell_type": "markdown",
      "source": [
        "### NAND"
      ],
      "metadata": {
        "id": "eB_-xd7Ec_lq"
      }
    },
    {
      "cell_type": "code",
      "source": [
        "# NAND\n",
        "def NAND(a,b):\n",
        "  input = np.array([a,b])\n",
        "  weights = np.array([-0.5, -0.5])\n",
        "  bias = 0.7\n",
        "  value = np.sum(input * weights) + bias\n",
        "\n",
        "  if value <= 0:\n",
        "    return 0\n",
        "  else:\n",
        "    return 1"
      ],
      "metadata": {
        "id": "deNsu7iqc_57"
      },
      "execution_count": null,
      "outputs": []
    },
    {
      "cell_type": "code",
      "source": [
        "print(NAND(0,0))\n",
        "print(NAND(0,1))\n",
        "print(NAND(1,0))\n",
        "print(NAND(1,1))"
      ],
      "metadata": {
        "id": "TBQllC4SdEkT"
      },
      "execution_count": null,
      "outputs": []
    },
    {
      "cell_type": "markdown",
      "source": [
        "### XOR"
      ],
      "metadata": {
        "id": "5klxkA7tanf1"
      }
    },
    {
      "cell_type": "code",
      "source": [
        "#input의 1의 개수가 홀수면면\n",
        "def XOR(x1, x2):\n",
        "    s1 = NAND(x1, x2)\n",
        "    s2 = OR(x1, x2)\n",
        "    y = AND(s1, s1)\n",
        "    return y"
      ],
      "metadata": {
        "id": "5Sjynq-EcSf6"
      },
      "execution_count": null,
      "outputs": []
    },
    {
      "cell_type": "code",
      "source": [
        "print(XOR(0,0))\n",
        "print(XOR(0,1))\n",
        "print(XOR(1,0))\n",
        "print(XOR(1,1))"
      ],
      "metadata": {
        "id": "kykCWHlJczE9"
      },
      "execution_count": null,
      "outputs": []
    },
    {
      "cell_type": "code",
      "source": [],
      "metadata": {
        "id": "RN2iOTOCc2af"
      },
      "execution_count": null,
      "outputs": []
    }
  ]
}
