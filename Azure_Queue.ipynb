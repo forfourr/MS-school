{
  "nbformat": 4,
  "nbformat_minor": 0,
  "metadata": {
    "colab": {
      "private_outputs": true,
      "provenance": [],
      "authorship_tag": "ABX9TyND/eawlzh3xwCicWmZ2ftZ",
      "include_colab_link": true
    },
    "kernelspec": {
      "name": "python3",
      "display_name": "Python 3"
    },
    "language_info": {
      "name": "python"
    }
  },
  "cells": [
    {
      "cell_type": "markdown",
      "metadata": {
        "id": "view-in-github",
        "colab_type": "text"
      },
      "source": [
        "<a href=\"https://colab.research.google.com/github/forfourr/test-repo/blob/main/Azure_Queue.ipynb\" target=\"_parent\"><img src=\"https://colab.research.google.com/assets/colab-badge.svg\" alt=\"Open In Colab\"/></a>"
      ]
    },
    {
      "cell_type": "code",
      "execution_count": null,
      "metadata": {
        "id": "8YD_RH61W8s-"
      },
      "outputs": [],
      "source": [
        "!pip install azure-storage-queue==2.1.0"
      ]
    },
    {
      "cell_type": "code",
      "source": [
        "from azure.storage.queue import QueueService, QueueMessageFormat"
      ],
      "metadata": {
        "id": "Pd1guPz-Xe9A"
      },
      "execution_count": null,
      "outputs": []
    },
    {
      "cell_type": "code",
      "source": [
        "#blob 처럼 connect str으로 연결\n",
        "connect_str='DefaultEndpointsProtocol=https;AccountName=labuser62;AccountKey=K4l8YcEsV/tAAOCafYU3WrtNnWlBY9Wo7X5KpYR4ZOA07tB0ScyUJZ5s8XlZbbsrpPbCSoUBxuW4+ASthXXVUA==;EndpointSuffix=core.windows.net'"
      ],
      "metadata": {
        "id": "53YlpRtJXpcH"
      },
      "execution_count": null,
      "outputs": []
    },
    {
      "cell_type": "code",
      "source": [
        "#Naming Queue\n",
        "queue_name = 'myqueue'\n",
        "\n",
        "#Queue service direct connect-> 큐 서비스 만듬\n",
        "queue_service = QueueService(connection_string=connect_str)\n",
        "\n",
        "#Create Queue\n",
        "queue_service.create_queue(queue_name)"
      ],
      "metadata": {
        "id": "H8-pP1jmX5q6"
      },
      "execution_count": null,
      "outputs": []
    },
    {
      "cell_type": "code",
      "source": [
        "#디코딩 인고딩\n",
        "queue_service.encode_function = QueueMessageFormat.binary_base64encode\n",
        "queue_service.decode_function = QueueMessageFormat.binary_base64decode"
      ],
      "metadata": {
        "id": "inTiUMeScOnJ"
      },
      "execution_count": null,
      "outputs": []
    },
    {
      "cell_type": "code",
      "source": [
        "#queue에 메세지 넣기\n",
        "import base64\n",
        "message='fine thank u'\n",
        "print('Add :' + message)\n",
        "\n",
        "#64 encoding with unicode\n",
        "message = base64.b64encode(message.encode('utf-8'))     #encoding\n",
        "queue_service.put_message(queue_name, message)          #put message"
      ],
      "metadata": {
        "id": "H79B99vMX5oh"
      },
      "execution_count": null,
      "outputs": []
    },
    {
      "cell_type": "markdown",
      "source": [
        "peek은 맛보기\n",
        "get은 가져오기\n",
        "\n"
      ],
      "metadata": {
        "id": "_4TDdhIajQXZ"
      }
    },
    {
      "cell_type": "code",
      "source": [
        "#peek message\n",
        "message = queue_service.peek_messages(queue_name)\n",
        "\n",
        "for i in message:\n",
        "    message = base64.b64decode(i.content)   #decoding\n",
        "    print('Peek message: '+ message.decode('utf-8'))"
      ],
      "metadata": {
        "id": "ZLvaRTE0X5mZ"
      },
      "execution_count": null,
      "outputs": []
    },
    {
      "cell_type": "code",
      "source": [
        "#peek과 get의 차이\n",
        "message = queue_service.get_messages(queue_name)\n",
        "\n",
        "for i in message:\n",
        "    message = base64.b64decode(i.content)   #decoding\n",
        "    print('Get message: '+ message.decode('utf-8'))"
      ],
      "metadata": {
        "id": "k4fDJwkIiF5f"
      },
      "execution_count": null,
      "outputs": []
    },
    {
      "cell_type": "code",
      "source": [
        "#Delete Queue\n",
        "queue_service.delete_queue(queue_name)"
      ],
      "metadata": {
        "id": "9xWQT-KJjObT"
      },
      "execution_count": null,
      "outputs": []
    },
    {
      "cell_type": "code",
      "source": [],
      "metadata": {
        "id": "G4ebjM0ok-PQ"
      },
      "execution_count": null,
      "outputs": []
    }
  ]
}