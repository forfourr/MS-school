{
  "nbformat": 4,
  "nbformat_minor": 0,
  "metadata": {
    "colab": {
      "private_outputs": true,
      "provenance": [],
      "authorship_tag": "ABX9TyMTr8h/mXJN2VMXZE+Ks+gn",
      "include_colab_link": true
    },
    "kernelspec": {
      "name": "python3",
      "display_name": "Python 3"
    },
    "language_info": {
      "name": "python"
    }
  },
  "cells": [
    {
      "cell_type": "markdown",
      "metadata": {
        "id": "view-in-github",
        "colab_type": "text"
      },
      "source": [
        "<a href=\"https://colab.research.google.com/github/forfourr/test-repo/blob/main/Active%2Closs_function.ipynb\" target=\"_parent\"><img src=\"https://colab.research.google.com/assets/colab-badge.svg\" alt=\"Open In Colab\"/></a>"
      ]
    },
    {
      "cell_type": "markdown",
      "source": [
        "## Activation function "
      ],
      "metadata": {
        "id": "KqXClxi52BvQ"
      }
    },
    {
      "cell_type": "markdown",
      "source": [
        "### Step Function\n"
      ],
      "metadata": {
        "id": "ouVYqjOe2FnV"
      }
    },
    {
      "cell_type": "code",
      "source": [
        "import numpy as np\n",
        "import matplotlib.pyplot as plt\n"
      ],
      "metadata": {
        "id": "ALZ8u7s14HrS"
      },
      "execution_count": null,
      "outputs": []
    },
    {
      "cell_type": "code",
      "source": [
        "def step_fun(x):\n",
        "    if x>0:\n",
        "        return 1\n",
        "    else:\n",
        "        return 0"
      ],
      "metadata": {
        "id": "3xBaWJFl2Ic6"
      },
      "execution_count": null,
      "outputs": []
    },
    {
      "cell_type": "code",
      "source": [
        "def step_fun_np(x):\n",
        "    y = x>0\n",
        "    return y.astype(np.int) #int타입을 bool으로 바꿈    "
      ],
      "metadata": {
        "id": "RBtm-OTF2gmy"
      },
      "execution_count": null,
      "outputs": []
    },
    {
      "cell_type": "code",
      "source": [
        "a = np.array([5,3,-4,2,0])\n",
        "print(step_fun_np(a))"
      ],
      "metadata": {
        "id": "E84EJ42R3oM6"
      },
      "execution_count": null,
      "outputs": []
    },
    {
      "cell_type": "markdown",
      "source": [
        "### Sigmoid function\n",
        "    이진분류에 사용"
      ],
      "metadata": {
        "id": "D85f6nnT4nDL"
      }
    },
    {
      "cell_type": "code",
      "source": [
        "def sigmoid(x):\n",
        "    return 1/(1+np.exp(-x))"
      ],
      "metadata": {
        "id": "Stj5T7Ym5yDe"
      },
      "execution_count": null,
      "outputs": []
    },
    {
      "cell_type": "code",
      "source": [
        "x = np.arange(-5,5,0.01)\n",
        "y1 = sigmoid(x)\n",
        "y2 = step_fun_np(x)\n",
        "\n",
        "plt.plot(x,y1,'r--',\n",
        "         x,y2, 'b')\n",
        "#plt.plot(x,y2, 'b')"
      ],
      "metadata": {
        "id": "JTwTzuvq52pC"
      },
      "execution_count": null,
      "outputs": []
    },
    {
      "cell_type": "markdown",
      "source": [
        "### ReLU function"
      ],
      "metadata": {
        "id": "1fxz0Hqa59km"
      }
    },
    {
      "cell_type": "code",
      "source": [
        "def ReLU(x):\n",
        "    if x>0:\n",
        "        return x\n",
        "    else:\n",
        "        return 0\n",
        "\n",
        "def ReLU_np(x):\n",
        "    return np.maximum(x, 0)"
      ],
      "metadata": {
        "id": "Kf4xcD7Q9YQU"
      },
      "execution_count": null,
      "outputs": []
    },
    {
      "cell_type": "code",
      "source": [
        "x = np.arange(-5,5,0.01)\n",
        "y = ReLU_np(x)\n",
        "plt.plot(x,y)"
      ],
      "metadata": {
        "id": "tw0zUiD09gYD"
      },
      "execution_count": null,
      "outputs": []
    },
    {
      "cell_type": "markdown",
      "source": [
        "### Softmax function\n",
        "    다중분류에 사용"
      ],
      "metadata": {
        "id": "4SK1RhfG-Ugc"
      }
    },
    {
      "cell_type": "markdown",
      "source": [
        "![스크린샷 2023-05-09 100856.png](data:image/png;base64,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)"
      ],
      "metadata": {
        "id": "IjI9Nmv-DfXy"
      }
    },
    {
      "cell_type": "code",
      "source": [
        "def softmax(x):\n",
        "    exp_x = np.exp(x)\n",
        "    sum_exp_x = np.sum(exp_x)\n",
        "    y = exp_x/ sum_exp_x\n",
        "    return y"
      ],
      "metadata": {
        "id": "01_QTEDx9lRE"
      },
      "execution_count": null,
      "outputs": []
    },
    {
      "cell_type": "code",
      "source": [
        "x = np.arange(-5,5,0.01)\n",
        "y = softmax(x)\n",
        "plt.plot(x,y)\n",
        "print(\"Softmax의 총합은 항상 {}\".format(np.sum(softmax(x))))"
      ],
      "metadata": {
        "id": "ykJtmqCcDXuf"
      },
      "execution_count": null,
      "outputs": []
    },
    {
      "cell_type": "code",
      "source": [],
      "metadata": {
        "id": "2N9w2Uib0kIe"
      },
      "execution_count": null,
      "outputs": []
    }
  ]
}
