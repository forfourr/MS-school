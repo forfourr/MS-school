{
 "cells": [
  {
   "cell_type": "markdown",
   "id": "8753f9e1",
   "metadata": {},
   "source": [
    "# 검증"
   ]
  },
  {
   "cell_type": "markdown",
   "id": "a2771337",
   "metadata": {},
   "source": [
    "## t,z 검증"
   ]
  },
  {
   "cell_type": "code",
   "execution_count": 1,
   "id": "7c66f120",
   "metadata": {},
   "outputs": [],
   "source": [
    "import pandas as pd\n",
    "from scipy import stats\n",
    "\n",
    "#data\n",
    "data = pd.read_csv('./data/Titanic_data.csv')"
   ]
  },
  {
   "cell_type": "code",
   "execution_count": 2,
   "id": "1b75afc2",
   "metadata": {},
   "outputs": [
    {
     "name": "stdout",
     "output_type": "stream",
     "text": [
      "     PassengerId  Survived  Pclass  \\\n",
      "0              1         0       3   \n",
      "1              2         1       1   \n",
      "2              3         1       3   \n",
      "3              4         1       1   \n",
      "4              5         0       3   \n",
      "..           ...       ...     ...   \n",
      "886          887         0       2   \n",
      "887          888         1       1   \n",
      "888          889         0       3   \n",
      "889          890         1       1   \n",
      "890          891         0       3   \n",
      "\n",
      "                                                  Name     Sex   Age  SibSp  \\\n",
      "0                              Braund, Mr. Owen Harris    male  22.0      1   \n",
      "1    Cumings, Mrs. John Bradley (Florence Briggs Th...  female  38.0      1   \n",
      "2                               Heikkinen, Miss. Laina  female  26.0      0   \n",
      "3         Futrelle, Mrs. Jacques Heath (Lily May Peel)  female  35.0      1   \n",
      "4                             Allen, Mr. William Henry    male  35.0      0   \n",
      "..                                                 ...     ...   ...    ...   \n",
      "886                              Montvila, Rev. Juozas    male  27.0      0   \n",
      "887                       Graham, Miss. Margaret Edith  female  19.0      0   \n",
      "888           Johnston, Miss. Catherine Helen \"Carrie\"  female   NaN      1   \n",
      "889                              Behr, Mr. Karl Howell    male  26.0      0   \n",
      "890                                Dooley, Mr. Patrick    male  32.0      0   \n",
      "\n",
      "     Parch            Ticket     Fare Cabin Embarked  \n",
      "0        0         A/5 21171   7.2500   NaN        S  \n",
      "1        0          PC 17599  71.2833   C85        C  \n",
      "2        0  STON/O2. 3101282   7.9250   NaN        S  \n",
      "3        0            113803  53.1000  C123        S  \n",
      "4        0            373450   8.0500   NaN        S  \n",
      "..     ...               ...      ...   ...      ...  \n",
      "886      0            211536  13.0000   NaN        S  \n",
      "887      0            112053  30.0000   B42        S  \n",
      "888      2        W./C. 6607  23.4500   NaN        S  \n",
      "889      0            111369  30.0000  C148        C  \n",
      "890      0            370376   7.7500   NaN        Q  \n",
      "\n",
      "[891 rows x 12 columns]\n"
     ]
    }
   ],
   "source": [
    "print(data)"
   ]
  },
  {
   "cell_type": "code",
   "execution_count": 3,
   "id": "74b51cc4",
   "metadata": {
    "scrolled": true
   },
   "outputs": [
    {
     "name": "stdout",
     "output_type": "stream",
     "text": [
      "     PassengerId  Survived  Pclass                            Name   Sex  \\\n",
      "0              1         0       3         Braund, Mr. Owen Harris  male   \n",
      "4              5         0       3        Allen, Mr. William Henry  male   \n",
      "5              6         0       3                Moran, Mr. James  male   \n",
      "6              7         0       1         McCarthy, Mr. Timothy J  male   \n",
      "7              8         0       3  Palsson, Master. Gosta Leonard  male   \n",
      "..           ...       ...     ...                             ...   ...   \n",
      "883          884         0       2   Banfield, Mr. Frederick James  male   \n",
      "884          885         0       3          Sutehall, Mr. Henry Jr  male   \n",
      "886          887         0       2           Montvila, Rev. Juozas  male   \n",
      "889          890         1       1           Behr, Mr. Karl Howell  male   \n",
      "890          891         0       3             Dooley, Mr. Patrick  male   \n",
      "\n",
      "      Age  SibSp  Parch            Ticket     Fare Cabin Embarked  \n",
      "0    22.0      1      0         A/5 21171   7.2500   NaN        S  \n",
      "4    35.0      0      0            373450   8.0500   NaN        S  \n",
      "5     NaN      0      0            330877   8.4583   NaN        Q  \n",
      "6    54.0      0      0             17463  51.8625   E46        S  \n",
      "7     2.0      3      1            349909  21.0750   NaN        S  \n",
      "..    ...    ...    ...               ...      ...   ...      ...  \n",
      "883  28.0      0      0  C.A./SOTON 34068  10.5000   NaN        S  \n",
      "884  25.0      0      0   SOTON/OQ 392076   7.0500   NaN        S  \n",
      "886  27.0      0      0            211536  13.0000   NaN        S  \n",
      "889  26.0      0      0            111369  30.0000  C148        C  \n",
      "890  32.0      0      0            370376   7.7500   NaN        Q  \n",
      "\n",
      "[577 rows x 12 columns]\n"
     ]
    }
   ],
   "source": [
    "#남성승객, 여성승객 생존여부 dataframe\n",
    "male = data[data['Sex']=='male']\n",
    "female = data[data['Sex']=='female']\n",
    "print(male)"
   ]
  },
  {
   "cell_type": "code",
   "execution_count": 4,
   "id": "66b82941",
   "metadata": {},
   "outputs": [
    {
     "name": "stdout",
     "output_type": "stream",
     "text": [
      "male 생존확률: 0.18890814558058924 \n",
      "female 생존확률: 0.7420382165605095\n"
     ]
    }
   ],
   "source": [
    "#각 데이터프레임 새존여부 평균\n",
    "male_sur_rate = male['Survived'].mean()\n",
    "female_sur_rate = female['Survived'].mean()\n",
    "print(\"male 생존확률: {} \\nfemale 생존확률: {}\".format(male_sur_rate, female_sur_rate))"
   ]
  },
  {
   "cell_type": "code",
   "execution_count": 5,
   "id": "786e015c",
   "metadata": {},
   "outputs": [
    {
     "name": "stdout",
     "output_type": "stream",
     "text": [
      "p-value: 0.0000, 귀무 가설 기각\n"
     ]
    }
   ],
   "source": [
    "# t-검정\n",
    "\n",
    "t,p = stats.ttest_ind(male['Survived'], female['Survived'])\n",
    "\n",
    "#유의수준 alpha와 비교해서 기각 여부 결정\n",
    "alpha = 0.5\n",
    "if p< alpha:\n",
    "    print(f\"p-value: {p:.4f}, 귀무 가설 기각\")\n",
    "else:\n",
    "    print(f\"p-value: {p:.4f}, 귀무 가설 채택\")\n",
    "\n"
   ]
  },
  {
   "cell_type": "markdown",
   "id": "f930b688",
   "metadata": {},
   "source": [
    "## 카이제곱 검증"
   ]
  },
  {
   "cell_type": "code",
   "execution_count": 6,
   "id": "73b63594",
   "metadata": {},
   "outputs": [
    {
     "name": "stdout",
     "output_type": "stream",
     "text": [
      "  Gender Smoker  Count\n",
      "0      M      Y     20\n",
      "1      M      N     80\n",
      "2      M      N     40\n",
      "3      M      N     60\n",
      "4      F      Y     20\n",
      "5      F      Y    160\n",
      "6      F      N     80\n",
      "7      F      N    120\n"
     ]
    }
   ],
   "source": [
    "import pandas as pd\n",
    "import numpy as np\n",
    "from scipy.stats import chi2_contingency\n",
    "\n",
    "# Create data\n",
    "data = {\n",
    "    'Gender': [\"M\", \"M\",\"M\",\"M\",\"F\",\"F\",\"F\",\"F\"],\n",
    "    'Smoker': [\"Y\",\"N\",\"N\",\"N\",\"Y\",\"Y\",\"N\",\"N\"],\n",
    "    'Count' : [20,80,40,60,20,160,80,120]\n",
    "}\n",
    "\n",
    "df = pd.DataFrame(data)\n",
    "print(df)"
   ]
  },
  {
   "cell_type": "code",
   "execution_count": 7,
   "id": "82510239",
   "metadata": {},
   "outputs": [
    {
     "name": "stdout",
     "output_type": "stream",
     "text": [
      "Smoker    N   Y\n",
      "Gender         \n",
      "F       100  90\n",
      "M        60  20\n"
     ]
    }
   ],
   "source": [
    "#df로 분할표 생성\n",
    "table = pd.pivot_table(df, values='Count',index='Gender', columns='Smoker')\n",
    "print(table)"
   ]
  },
  {
   "cell_type": "code",
   "execution_count": 8,
   "id": "48638ce8",
   "metadata": {},
   "outputs": [
    {
     "name": "stdout",
     "output_type": "stream",
     "text": [
      "0.0010377069926168323\n",
      "귀무 가설 기각\n"
     ]
    }
   ],
   "source": [
    "#chi2_contingency\n",
    "stat, p, dof, expected =chi2_contingency(table)\n",
    "alpha=0.04\n",
    "\n",
    "print(p)\n",
    "if p< alpha:\n",
    "    print(\"귀무 가설 기각\")\n",
    "else:\n",
    "    print(\"귀무 가설 채택\")\n"
   ]
  },
  {
   "cell_type": "markdown",
   "id": "0a10faab",
   "metadata": {},
   "source": [
    "## 일월분석 one-wayb ANOVA\n",
    "\n",
    "한개의 독립변수를 가짐"
   ]
  },
  {
   "cell_type": "code",
   "execution_count": 9,
   "id": "3dcea644",
   "metadata": {},
   "outputs": [
    {
     "name": "stdout",
     "output_type": "stream",
     "text": [
      "   A  B  C\n",
      "0  4  2  5\n",
      "1  5  3  2\n",
      "2  1  5  2\n",
      "3  2  3  1\n",
      "4  4  5  2\n",
      "5  1  4  2\n",
      "6  1  5  2\n",
      "7  2  3  2\n",
      "8  5  5  1\n",
      "9  5  3  5\n"
     ]
    }
   ],
   "source": [
    "#Create data\n",
    "import numpy as np\n",
    "np.random.seed(1)   #random수가 고정되게\n",
    "\n",
    "data= {\n",
    "    \"A\": np.random.randint(1,6,10),\n",
    "    \"B\": np.random.randint(1,6,10),\n",
    "    \"C\": np.random.randint(1,6,10)\n",
    "}\n",
    "df = pd.DataFrame(data)\n",
    "print(df)"
   ]
  },
  {
   "cell_type": "code",
   "execution_count": 10,
   "id": "dafbe793",
   "metadata": {},
   "outputs": [],
   "source": [
    "from scipy.stats import f_oneway"
   ]
  },
  {
   "cell_type": "code",
   "execution_count": 11,
   "id": "5ade3d61",
   "metadata": {},
   "outputs": [
    {
     "name": "stdout",
     "output_type": "stream",
     "text": [
      "F-statistic:  2.296551724137931\n",
      "p-val:  0.11992643045704418\n"
     ]
    }
   ],
   "source": [
    "f_stat, p_val = f_oneway(df['A'], df['B'], df['C'])\n",
    "print(\"F-statistic: \", f_stat)\n",
    "print(\"p-val: \",p_val)"
   ]
  },
  {
   "cell_type": "markdown",
   "id": "cf4998d8",
   "metadata": {},
   "source": [
    "## 이원분석 Two-way ANOVA\n",
    "독립변수 두개이상"
   ]
  },
  {
   "cell_type": "code",
   "execution_count": 12,
   "id": "33f2f366",
   "metadata": {
    "scrolled": true
   },
   "outputs": [
    {
     "name": "stdout",
     "output_type": "stream",
     "text": [
      "     survived  pclass     sex   age  sibsp  parch     fare embarked   class  \\\n",
      "0           0       3    male  22.0      1      0   7.2500        S   Third   \n",
      "1           1       1  female  38.0      1      0  71.2833        C   First   \n",
      "2           1       3  female  26.0      0      0   7.9250        S   Third   \n",
      "3           1       1  female  35.0      1      0  53.1000        S   First   \n",
      "4           0       3    male  35.0      0      0   8.0500        S   Third   \n",
      "..        ...     ...     ...   ...    ...    ...      ...      ...     ...   \n",
      "886         0       2    male  27.0      0      0  13.0000        S  Second   \n",
      "887         1       1  female  19.0      0      0  30.0000        S   First   \n",
      "888         0       3  female   NaN      1      2  23.4500        S   Third   \n",
      "889         1       1    male  26.0      0      0  30.0000        C   First   \n",
      "890         0       3    male  32.0      0      0   7.7500        Q   Third   \n",
      "\n",
      "       who  adult_male deck  embark_town alive  alone  \n",
      "0      man        True  NaN  Southampton    no  False  \n",
      "1    woman       False    C    Cherbourg   yes  False  \n",
      "2    woman       False  NaN  Southampton   yes   True  \n",
      "3    woman       False    C  Southampton   yes  False  \n",
      "4      man        True  NaN  Southampton    no   True  \n",
      "..     ...         ...  ...          ...   ...    ...  \n",
      "886    man        True  NaN  Southampton    no   True  \n",
      "887  woman       False    B  Southampton   yes   True  \n",
      "888  woman       False  NaN  Southampton    no  False  \n",
      "889    man        True    C    Cherbourg   yes   True  \n",
      "890    man        True  NaN   Queenstown    no   True  \n",
      "\n",
      "[891 rows x 15 columns]\n"
     ]
    }
   ],
   "source": [
    "import seaborn as sns\n",
    "import matplotlib.pyplot as plt\n",
    "\n",
    "titanic = sns.load_dataset('titanic')\n",
    "print(titanic)"
   ]
  },
  {
   "cell_type": "code",
   "execution_count": 13,
   "id": "74d6803e",
   "metadata": {},
   "outputs": [
    {
     "data": {
      "text/plain": [
       "<seaborn.axisgrid.FacetGrid at 0x2a6e83a6f48>"
      ]
     },
     "execution_count": 13,
     "metadata": {},
     "output_type": "execute_result"
    },
    {
     "data": {
      "image/png": "[encoded data removed]",
      "text/plain": [
       "<Figure size 558.875x500 with 1 Axes>"
      ]
     },
     "metadata": {},
     "output_type": "display_data"
    }
   ],
   "source": [
    "from statsmodels.formula.api import ols\n",
    "from statsmodels.stats.anova import anova_lm\n",
    "# create two-way ANOVA model\n",
    "model = ols('survived ~ C(sex) + C(pclass) + C(sex):C(pclass)', titanic).fit()\n",
    "\n",
    "# 분석실행\n",
    "anova_results = anova_lm(model, type=2)\n",
    "\n",
    "# Visualize\n",
    "sns.catplot(x='sex', y='survived', hue='pclass', data=titanic, kind='bar')"
   ]
  },
  {
   "cell_type": "markdown",
   "id": "99226b77",
   "metadata": {},
   "source": [
    "### 교호작용"
   ]
  },
  {
   "cell_type": "code",
   "execution_count": 14,
   "id": "0d652b34",
   "metadata": {},
   "outputs": [
    {
     "data": {
      "text/plain": [
       "Text(0.5, 1.0, 'Survival rate by sex and pclass')"
      ]
     },
     "execution_count": 14,
     "metadata": {},
     "output_type": "execute_result"
    },
    {
     "data": {
      "image/png": "[encoded data removed]",
      "text/plain": [
       "<Figure size 640x480 with 1 Axes>"
      ]
     },
     "metadata": {},
     "output_type": "display_data"
    }
   ],
   "source": [
    "# Create a pointplot with Sex,Pclass, survived varialbes\n",
    "sns.pointplot(x='sex', y='survived', hue='pclass', data=titanic)\n",
    "plt.legend(title='plcass',loc='best')\n",
    "plt.title('Survival rate by sex and pclass')"
   ]
  },
  {
   "cell_type": "markdown",
   "id": "95f37f41",
   "metadata": {},
   "source": [
    "# 상관분석"
   ]
  },
  {
   "cell_type": "code",
   "execution_count": 15,
   "id": "bf1fa555",
   "metadata": {},
   "outputs": [
    {
     "name": "stdout",
     "output_type": "stream",
     "text": [
      "     total_bill   tip     sex smoker   day    time  size\n",
      "0         16.99  1.01  Female     No   Sun  Dinner     2\n",
      "1         10.34  1.66    Male     No   Sun  Dinner     3\n",
      "2         21.01  3.50    Male     No   Sun  Dinner     3\n",
      "3         23.68  3.31    Male     No   Sun  Dinner     2\n",
      "4         24.59  3.61  Female     No   Sun  Dinner     4\n",
      "..          ...   ...     ...    ...   ...     ...   ...\n",
      "239       29.03  5.92    Male     No   Sat  Dinner     3\n",
      "240       27.18  2.00  Female    Yes   Sat  Dinner     2\n",
      "241       22.67  2.00    Male    Yes   Sat  Dinner     2\n",
      "242       17.82  1.75    Male     No   Sat  Dinner     2\n",
      "243       18.78  3.00  Female     No  Thur  Dinner     2\n",
      "\n",
      "[244 rows x 7 columns]\n"
     ]
    }
   ],
   "source": [
    "tips_data = sns.load_dataset('tips')\n",
    "print(tips_data)"
   ]
  },
  {
   "cell_type": "code",
   "execution_count": 16,
   "id": "0abf0464",
   "metadata": {},
   "outputs": [
    {
     "name": "stdout",
     "output_type": "stream",
     "text": [
      "            total_bill       tip\n",
      "total_bill    1.000000  0.675734\n",
      "tip           0.675734  1.000000\n"
     ]
    }
   ],
   "source": [
    "corr = tips_data[['total_bill','tip']].corr()\n",
    "print(corr)"
   ]
  },
  {
   "cell_type": "code",
   "execution_count": 17,
   "id": "db927620",
   "metadata": {},
   "outputs": [
    {
     "data": {
      "text/plain": [
       "<AxesSubplot:xlabel='total_bill', ylabel='tip'>"
      ]
     },
     "execution_count": 17,
     "metadata": {},
     "output_type": "execute_result"
    },
    {
     "data": {
      "image/png": "[encoded data removed]",
      "text/plain": [
       "<Figure size 640x480 with 1 Axes>"
      ]
     },
     "metadata": {},
     "output_type": "display_data"
    }
   ],
   "source": [
    "sns.regplot(x='total_bill', y='tip', data=tips_data)"
   ]
  },
  {
   "cell_type": "code",
   "execution_count": 18,
   "id": "b96e092e",
   "metadata": {},
   "outputs": [
    {
     "name": "stdout",
     "output_type": "stream",
     "text": [
      "Pearson corr\n",
      "             total_bill       tip\n",
      "total_bill    1.000000  0.675734\n",
      "tip           0.675734  1.000000\n"
     ]
    }
   ],
   "source": [
    "corr_pearson = tips_data['total_bill'].corr(tips_data['tip'],method='pearson')\n",
    "print('Pearson corr\\n',corr)"
   ]
  },
  {
   "cell_type": "markdown",
   "id": "0fc5ea40",
   "metadata": {},
   "source": [
    "## 공분산"
   ]
  },
  {
   "cell_type": "code",
   "execution_count": 19,
   "id": "d356e91a",
   "metadata": {},
   "outputs": [
    {
     "name": "stdout",
     "output_type": "stream",
     "text": [
      "Covariance corr 8.323501629224854\n"
     ]
    }
   ],
   "source": [
    "covariance = tips_data['total_bill'].cov(tips_data['tip'])\n",
    "print('Covariance corr', covariance)"
   ]
  },
  {
   "cell_type": "markdown",
   "id": "d4b00545",
   "metadata": {},
   "source": [
    "## 산점도 scatter plot\n",
    "x축 독립변수, y종속변수"
   ]
  },
  {
   "cell_type": "code",
   "execution_count": 20,
   "id": "c52590e6",
   "metadata": {},
   "outputs": [
    {
     "data": {
      "text/plain": [
       "<AxesSubplot:xlabel='total_bill', ylabel='tip'>"
      ]
     },
     "execution_count": 20,
     "metadata": {},
     "output_type": "execute_result"
    },
    {
     "data": {
      "image/png": "[encoded data removed]",
      "text/plain": [
       "<Figure size 640x480 with 1 Axes>"
      ]
     },
     "metadata": {},
     "output_type": "display_data"
    }
   ],
   "source": [
    "sns.scatterplot(x='total_bill', y='tip', data=tips_data)"
   ]
  },
  {
   "cell_type": "markdown",
   "id": "524fb98d",
   "metadata": {},
   "source": [
    "## 상관분석 해석\n",
    "- heatmap"
   ]
  },
  {
   "cell_type": "code",
   "execution_count": 23,
   "id": "97e56556",
   "metadata": {},
   "outputs": [
    {
     "name": "stdout",
     "output_type": "stream",
     "text": [
      "            total_bill       tip      size\n",
      "total_bill    1.000000  0.675734  0.598315\n",
      "tip           0.675734  1.000000  0.489299\n",
      "size          0.598315  0.489299  1.000000\n"
     ]
    },
    {
     "data": {
      "text/plain": [
       "<AxesSubplot:>"
      ]
     },
     "execution_count": 23,
     "metadata": {},
     "output_type": "execute_result"
    },
    {
     "data": {
      "image/png": "[encoded data removed]",
      "text/plain": [
       "<Figure size 640x480 with 2 Axes>"
      ]
     },
     "metadata": {},
     "output_type": "display_data"
    }
   ],
   "source": [
    "#tips\n",
    "\n",
    "corr = tips_data.corr()\n",
    "print(corr)\n",
    "\n",
    "sns.heatmap(corr, annot=True, cmap='coolwarm')"
   ]
  },
  {
   "cell_type": "markdown",
   "id": "bf7fc608",
   "metadata": {},
   "source": [
    "# 선형/비선형"
   ]
  },
  {
   "cell_type": "code",
   "execution_count": 21,
   "id": "9d78c536",
   "metadata": {},
   "outputs": [],
   "source": [
    "#linear\n",
    "x_linear = np.linspace(0,10,100)\n",
    "y_linear = 2*x_linear +1\n",
    "\n",
    "#non linear\n",
    "x_nonlinear = np.linspace(-10,10,100)\n",
    "y_nonlinear = x_nonlinear**2"
   ]
  },
  {
   "cell_type": "code",
   "execution_count": 22,
   "id": "5b6e0afe",
   "metadata": {},
   "outputs": [
    {
     "data": {
      "text/plain": [
       "<matplotlib.collections.PathCollection at 0x2a6eafc3f08>"
      ]
     },
     "execution_count": 22,
     "metadata": {},
     "output_type": "execute_result"
    },
    {
     "data": {
      "image/png": "[encoded data removed]",
      "text/plain": [
       "<Figure size 1000x600 with 2 Axes>"
      ]
     },
     "metadata": {},
     "output_type": "display_data"
    }
   ],
   "source": [
    "fig= plt.figure(figsize=(10,6))\n",
    "#linear\n",
    "ax1 = fig.add_subplot(211)\n",
    "ax1.scatter(x_linear, y_linear)\n",
    "\n",
    "#nonlinear\n",
    "ax2 = fig.add_subplot(212)\n",
    "ax2.scatter(x_nonlinear, y_nonlinear, color='r')"
   ]
  },
  {
   "cell_type": "markdown",
   "id": "09f58d4f",
   "metadata": {},
   "source": [
    "## 시리얼 상관분석\n",
    "- 시간축으로 된 상관관계를 분석하는 것이므로 시간축의 정보 필수"
   ]
  },
  {
   "cell_type": "code",
   "execution_count": 32,
   "id": "86c03a9b",
   "metadata": {},
   "outputs": [
    {
     "name": "stdout",
     "output_type": "stream",
     "text": [
      "         Date  005930.KS\n",
      "0  2021-01-04      81840\n",
      "1  2021-01-05      86126\n",
      "2  2021-01-06      89921\n",
      "3  2021-01-07      85330\n",
      "4  2021-01-08      81704\n",
      "..        ...        ...\n",
      "95 2021-04-09      81051\n",
      "96 2021-04-10      85409\n",
      "97 2021-04-11      81635\n",
      "98 2021-04-12      88097\n",
      "99 2021-04-13      86415\n",
      "\n",
      "[100 rows x 2 columns]\n"
     ]
    }
   ],
   "source": [
    "import pandas as pd\n",
    "import random\n",
    "\n",
    "# Create Samgsung data\n",
    "dates = pd.date_range(start ='2021-01-04', periods=100, freq='D')\n",
    "samsung_prices = [random.randint(80000,90000) for _ in range(100)]\n",
    "samsung_data = {'Date': dates, '005930.KS':samsung_prices}\n",
    "samsung_df = pd.DataFrame(samsung_data)\n",
    "print(samsung_df)"
   ]
  },
  {
   "cell_type": "code",
   "execution_count": 33,
   "id": "716d70e0",
   "metadata": {},
   "outputs": [],
   "source": [
    "# Date -> index\n",
    "samsung_df.set_index('Date', inplace=True)"
   ]
  },
  {
   "cell_type": "code",
   "execution_count": 34,
   "id": "6f35966c",
   "metadata": {
    "scrolled": false
   },
   "outputs": [
    {
     "name": "stdout",
     "output_type": "stream",
     "text": [
      "            005930.KS\n",
      "Date                 \n",
      "2021-01-04      81840\n",
      "2021-01-05      86126\n",
      "2021-01-06      89921\n",
      "2021-01-07      85330\n",
      "2021-01-08      81704\n",
      "...               ...\n",
      "2021-04-09      81051\n",
      "2021-04-10      85409\n",
      "2021-04-11      81635\n",
      "2021-04-12      88097\n",
      "2021-04-13      86415\n",
      "\n",
      "[100 rows x 1 columns]\n"
     ]
    }
   ],
   "source": [
    "print(samsung_df)"
   ]
  },
  {
   "cell_type": "code",
   "execution_count": 35,
   "id": "b8656c39",
   "metadata": {},
   "outputs": [],
   "source": [
    "# Create LG data\n",
    "lg_prices = [random.randint(80000,90000) for _ in range(100)]\n",
    "lg_data = {'Date': dates, '066570.KS':lg_prices}\n",
    "lg_df = pd.DataFrame(lg_data)\n",
    "# date->index\n",
    "lg_df.set_index('Date',inplace=True)"
   ]
  },
  {
   "cell_type": "code",
   "execution_count": 36,
   "id": "46919bf2",
   "metadata": {},
   "outputs": [
    {
     "name": "stdout",
     "output_type": "stream",
     "text": [
      "            066570.KS\n",
      "Date                 \n",
      "2021-01-04      86502\n",
      "2021-01-05      87286\n",
      "2021-01-06      85308\n",
      "2021-01-07      85648\n",
      "2021-01-08      85133\n",
      "...               ...\n",
      "2021-04-09      89120\n",
      "2021-04-10      88549\n",
      "2021-04-11      82985\n",
      "2021-04-12      87436\n",
      "2021-04-13      87360\n",
      "\n",
      "[100 rows x 1 columns]\n"
     ]
    }
   ],
   "source": [
    "print(lg_df)"
   ]
  },
  {
   "cell_type": "code",
   "execution_count": 45,
   "id": "6a97149c",
   "metadata": {},
   "outputs": [],
   "source": [
    "#samsung + lg\n",
    "df = pd.concat([samsung_df, lg_df],axis=1)\n",
    "df = df.loc[:, ['005930.KS','066570.KS']]\n",
    "df.columns= ['Samsung','LG']"
   ]
  },
  {
   "cell_type": "code",
   "execution_count": 46,
   "id": "aadd78e5",
   "metadata": {
    "scrolled": true
   },
   "outputs": [
    {
     "name": "stdout",
     "output_type": "stream",
     "text": [
      "            Samsung     LG\n",
      "Date                      \n",
      "2021-01-04    81840  86502\n",
      "2021-01-05    86126  87286\n",
      "2021-01-06    89921  85308\n",
      "2021-01-07    85330  85648\n",
      "2021-01-08    81704  85133\n",
      "...             ...    ...\n",
      "2021-04-09    81051  89120\n",
      "2021-04-10    85409  88549\n",
      "2021-04-11    81635  82985\n",
      "2021-04-12    88097  87436\n",
      "2021-04-13    86415  87360\n",
      "\n",
      "[100 rows x 2 columns]\n"
     ]
    }
   ],
   "source": [
    "print(df)"
   ]
  },
  {
   "cell_type": "code",
   "execution_count": 47,
   "id": "06303672",
   "metadata": {},
   "outputs": [],
   "source": [
    "#폴더만들기\n",
    "#os.makedirs('./data', exist_ok=True)\n",
    "\n",
    "#CSV로 저장\n",
    "df.to_csv('./data/stock_price.csv')"
   ]
  },
  {
   "cell_type": "code",
   "execution_count": 49,
   "id": "a2f9d0cf",
   "metadata": {},
   "outputs": [
    {
     "name": "stdout",
     "output_type": "stream",
     "text": [
      "            Samsung     LG\n",
      "Date                      \n",
      "2021-01-04    81840  86502\n",
      "2021-01-05    86126  87286\n",
      "2021-01-06    89921  85308\n",
      "2021-01-07    85330  85648\n",
      "2021-01-08    81704  85133\n",
      "...             ...    ...\n",
      "2021-04-09    81051  89120\n",
      "2021-04-10    85409  88549\n",
      "2021-04-11    81635  82985\n",
      "2021-04-12    88097  87436\n",
      "2021-04-13    86415  87360\n",
      "\n",
      "[100 rows x 2 columns]\n"
     ]
    }
   ],
   "source": [
    "import pandas as pd\n",
    "import numpy as np\n",
    "import matplotlib.pyplot as plt\n",
    "import seaborn as sns\n",
    "# import CSV\n",
    "df = pd.read_csv('./data/stock_price.csv')\n",
    "df['Date'] = pd.to_datetime(df['Date'])\n",
    "\n",
    "df.set_index('Date', inplace=True)\n",
    "print(df)"
   ]
  },
  {
   "cell_type": "code",
   "execution_count": 50,
   "id": "6a2903e4",
   "metadata": {},
   "outputs": [
    {
     "name": "stdout",
     "output_type": "stream",
     "text": [
      "             Samsung        LG\n",
      "Date                          \n",
      "2021-01-04       NaN       NaN\n",
      "2021-01-05  0.052370  0.009063\n",
      "2021-01-06  0.044063 -0.022661\n",
      "2021-01-07 -0.051056  0.003986\n",
      "2021-01-08 -0.042494 -0.006013\n",
      "...              ...       ...\n",
      "2021-04-09 -0.002707  0.058106\n",
      "2021-04-10  0.053769 -0.006407\n",
      "2021-04-11 -0.044187 -0.062835\n",
      "2021-04-12  0.079157  0.053636\n",
      "2021-04-13 -0.019093 -0.000869\n",
      "\n",
      "[100 rows x 2 columns]\n"
     ]
    }
   ],
   "source": [
    "#수익률 계산\n",
    "returns = df.pct_change()\n",
    "print(returns)\n",
    "\n",
    "#맨 처음 NaN인 이유는 이전의 행의 값이 없기 때문이다"
   ]
  },
  {
   "cell_type": "code",
   "execution_count": 61,
   "id": "5bfd4c51",
   "metadata": {},
   "outputs": [
    {
     "name": "stdout",
     "output_type": "stream",
     "text": [
      "          Samsung        LG\n",
      "Samsung  1.000000 -0.055955\n",
      "LG      -0.055955  1.000000\n"
     ]
    }
   ],
   "source": [
    "corr_matrix = returns.corr()\n",
    "print(corr_matrix)"
   ]
  },
  {
   "cell_type": "code",
   "execution_count": 64,
   "id": "2a166802",
   "metadata": {},
   "outputs": [
    {
     "data": {
      "image/png": "[encoded data removed]",
      "text/plain": [
       "<Figure size 640x480 with 2 Axes>"
      ]
     },
     "metadata": {},
     "output_type": "display_data"
    }
   ],
   "source": [
    "# heatmap\n",
    "sns.heatmap(corr_matrix, annot=True, cmap='summer')\n",
    "plt.show()"
   ]
  },
  {
   "cell_type": "code",
   "execution_count": null,
   "id": "5b111398",
   "metadata": {},
   "outputs": [],
   "source": []
  }
 ],
 "metadata": {
  "kernelspec": {
   "display_name": "summer",
   "language": "python",
   "name": "summer"
  },
  "language_info": {
   "codemirror_mode": {
    "name": "ipython",
    "version": 3
   },
   "file_extension": ".py",
   "mimetype": "text/x-python",
   "name": "python",
   "nbconvert_exporter": "python",
   "pygments_lexer": "ipython3",
   "version": "3.7.16"
  }
 },
 "nbformat": 4,
 "nbformat_minor": 5
}
