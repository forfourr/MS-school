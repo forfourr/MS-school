{
 "cells": [
  {
   "cell_type": "code",
   "execution_count": 1,
   "id": "c6b56cbf",
   "metadata": {},
   "outputs": [],
   "source": [
    "import nltk\n",
    "from nltk.corpus import stopwords\n",
    "from nltk.tokenize import word_tokenize\n",
    "from nltk.stem import PorterStemmer"
   ]
  },
  {
   "cell_type": "markdown",
   "id": "fe40008f",
   "metadata": {},
   "source": [
    "- Tokenize"
   ]
  },
  {
   "cell_type": "code",
   "execution_count": 4,
   "id": "5ff7833f",
   "metadata": {},
   "outputs": [
    {
     "name": "stdout",
     "output_type": "stream",
     "text": [
      "tokenize -> ['I', 'am', 'a', 'student', '.', 'I', \"'m\", 'studying', 'computer', 'vision', '.']\n"
     ]
    }
   ],
   "source": [
    "text_data = \"I am a student. I'm studying computer vision.\"\n",
    "tokens= word_tokenize(text_data)\n",
    "print(\"tokenize ->\", tokens)"
   ]
  },
  {
   "cell_type": "markdown",
   "id": "3ccbe59e",
   "metadata": {},
   "source": [
    "- 불용어 처리\n"
   ]
  },
  {
   "cell_type": "code",
   "execution_count": 11,
   "id": "c8252a45",
   "metadata": {},
   "outputs": [
    {
     "name": "stdout",
     "output_type": "stream",
     "text": [
      "['student', '.', \"'m\", 'studying', 'computer', 'vision', '.']\n"
     ]
    }
   ],
   "source": [
    "stop_word = set(stopwords.words('english'))\n",
    "filtered_tokens = [token for token in tokens if token.lower() not in stop_word]\n",
    "print(filtered_tokens)"
   ]
  },
  {
   "cell_type": "markdown",
   "id": "e322a692",
   "metadata": {},
   "source": [
    "- 정규화"
   ]
  },
  {
   "cell_type": "code",
   "execution_count": 12,
   "id": "4984d652",
   "metadata": {},
   "outputs": [
    {
     "name": "stdout",
     "output_type": "stream",
     "text": [
      "normalize -> ['student', '.', \"'m\", 'studi', 'comput', 'vision', '.']\n"
     ]
    }
   ],
   "source": [
    "stemmer = PorterStemmer()\n",
    "normalized_tokens = [stemmer.stem(tokens) for tokens in filtered_tokens]\n",
    "print(\"normalize ->\", normalized_tokens)"
   ]
  },
  {
   "cell_type": "code",
   "execution_count": null,
   "id": "a2ff01cf",
   "metadata": {},
   "outputs": [],
   "source": []
  }
 ],
 "metadata": {
  "kernelspec": {
   "display_name": "summer",
   "language": "python",
   "name": "summer"
  },
  "language_info": {
   "codemirror_mode": {
    "name": "ipython",
    "version": 3
   },
   "file_extension": ".py",
   "mimetype": "text/x-python",
   "name": "python",
   "nbconvert_exporter": "python",
   "pygments_lexer": "ipython3",
   "version": "3.7.16"
  }
 },
 "nbformat": 4,
 "nbformat_minor": 5
}
