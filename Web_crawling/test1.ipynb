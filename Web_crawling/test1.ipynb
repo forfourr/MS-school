{
 "cells": [
  {
   "attachments": {},
   "cell_type": "markdown",
   "metadata": {},
   "source": [
    "# Requests, BeatifulSoup을 이용해 크롤링"
   ]
  },
  {
   "cell_type": "code",
   "execution_count": 2,
   "metadata": {},
   "outputs": [],
   "source": [
    "import requests\n",
    "from bs4 import BeautifulSoup\n",
    "import os"
   ]
  },
  {
   "cell_type": "code",
   "execution_count": 3,
   "metadata": {},
   "outputs": [],
   "source": [
    "#Key word\n",
    "query = '사과'\n",
    "\n",
    "url = f'https://www.google.com/search?q={query}&source=lnms&tbm=isch'\n",
    "\n",
    "headers = {\n",
    "    'User-Agent': 'Mozilla/5.0 (Windows NT 10.0; Win64; x64) AppleWebKit/537.36 (KHTML, like Gecko) Chrome/87.0.4280.88 Safari/537.36'\n",
    "}\n",
    "\n",
    "response = requests.get(url, headers=headers)\n",
    "\n",
    "soup = BeautifulSoup(response.text, 'html.parser')\n",
    "img_tags = soup.find_all('img')\n",
    "\n",
    "urls = []\n",
    "for img in img_tags:\n",
    "    try:\n",
    "        urls.append(img['data-src'])\n",
    "    except KeyError:\n",
    "        # try:\n",
    "        #     urls.append(img['data-irul'])\n",
    "        # except KeyError:\n",
    "             try:\n",
    "                urls.append(img['src'])\n",
    "             except KeyError:\n",
    "                   pass"
   ]
  },
  {
   "cell_type": "code",
   "execution_count": 8,
   "metadata": {},
   "outputs": [],
   "source": [
    "#이미지 저장을 위한 폴더\n",
    "if not os.path.exists(query):\n",
    "    os.makedirs(query)\n",
    "#os.makedirs(query, exist_ok=True)\n",
    "\n",
    "for i, url in enumerate(urls):\n",
    "    try:\n",
    "        img_data = requests.get(url, headers=headers).content\n",
    "        #with open(os.path.join(query, f\"{query}_{i}.jpg\"), 'wb') as f:\n",
    "        #    f.write(img_data)\n",
    "        ##이미지 파일로 저장\n",
    "        file_data = os.path.join(query, f\"{query}_{i}.jpg\")\n",
    "        with open(file_path, 'wb') as f:\n",
    "            f.write(img_data)\n",
    "        if os.path.getsize(file_path) ==0:\n",
    "            os.remove(file_path)\n",
    "    except:\n",
    "        pass\n"
   ]
  },
  {
   "cell_type": "code",
   "execution_count": null,
   "metadata": {},
   "outputs": [],
   "source": []
  }
 ],
 "metadata": {
  "kernelspec": {
   "display_name": "summer",
   "language": "python",
   "name": "summer"
  },
  "language_info": {
   "codemirror_mode": {
    "name": "ipython",
    "version": 3
   },
   "file_extension": ".py",
   "mimetype": "text/x-python",
   "name": "python",
   "nbconvert_exporter": "python",
   "pygments_lexer": "ipython3",
   "version": "3.7.0"
  },
  "orig_nbformat": 4
 },
 "nbformat": 4,
 "nbformat_minor": 2
}
