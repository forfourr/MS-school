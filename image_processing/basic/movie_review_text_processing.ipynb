{
 "cells": [
  {
   "attachments": {},
   "cell_type": "markdown",
   "metadata": {},
   "source": [
    "# Movie Review Text processing"
   ]
  },
  {
   "attachments": {},
   "cell_type": "markdown",
   "metadata": {},
   "source": [
    "This dataset is binary sentiment classification.\n",
    "Text preocessing and predict the number of positive and neagtive review"
   ]
  },
  {
   "attachments": {},
   "cell_type": "markdown",
   "metadata": {},
   "source": [
    "## Import data"
   ]
  },
  {
   "cell_type": "code",
   "execution_count": 1,
   "metadata": {},
   "outputs": [],
   "source": [
    "import pandas as pd"
   ]
  },
  {
   "cell_type": "code",
   "execution_count": 2,
   "metadata": {},
   "outputs": [
    {
     "name": "stdout",
     "output_type": "stream",
     "text": [
      "                                                  review sentiment\n",
      "0      One of the other reviewers has mentioned that ...  positive\n",
      "1      A wonderful little production. <br /><br />The...  positive\n",
      "2      I thought this was a wonderful way to spend ti...  positive\n",
      "3      Basically there's a family where a little boy ...  negative\n",
      "4      Petter Mattei's \"Love in the Time of Money\" is...  positive\n",
      "...                                                  ...       ...\n",
      "49995  I thought this movie did a down right good job...  positive\n",
      "49996  Bad plot, bad dialogue, bad acting, idiotic di...  negative\n",
      "49997  I am a Catholic taught in parochial elementary...  negative\n",
      "49998  I'm going to have to disagree with the previou...  negative\n",
      "49999  No one expects the Star Trek movies to be high...  negative\n",
      "\n",
      "[50000 rows x 2 columns]\n"
     ]
    }
   ],
   "source": [
    "data = pd.read_csv('../data/IMDB Dataset.csv')\n",
    "data = pd.DataFrame(data)\n",
    "print(data)"
   ]
  },
  {
   "cell_type": "code",
   "execution_count": 3,
   "metadata": {},
   "outputs": [
    {
     "data": {
      "text/plain": [
       "<AxesSubplot:ylabel='sentiment'>"
      ]
     },
     "execution_count": 3,
     "metadata": {},
     "output_type": "execute_result"
    },
    {
     "data": {
      "image/png": "[encoded data removed]",
      "text/plain": [
       "<Figure size 640x480 with 1 Axes>"
      ]
     },
     "metadata": {},
     "output_type": "display_data"
    }
   ],
   "source": [
    "# positive/negative rate\n",
    "data['sentiment'].value_counts().plot(kind='pie', autopct ='%1.1f%%')"
   ]
  },
  {
   "attachments": {},
   "cell_type": "markdown",
   "metadata": {},
   "source": [
    "## Text Processing"
   ]
  },
  {
   "cell_type": "code",
   "execution_count": 4,
   "metadata": {},
   "outputs": [
    {
     "data": {
      "text/plain": [
       "review       0\n",
       "sentiment    0\n",
       "dtype: int64"
      ]
     },
     "execution_count": 4,
     "metadata": {},
     "output_type": "execute_result"
    }
   ],
   "source": [
    "# check NaN\n",
    "data.isna().sum()"
   ]
  },
  {
   "cell_type": "code",
   "execution_count": 5,
   "metadata": {},
   "outputs": [
    {
     "name": "stderr",
     "output_type": "stream",
     "text": [
      "[nltk_data] Downloading package stopwords to\n",
      "[nltk_data]     C:\\Users\\iiile\\AppData\\Roaming\\nltk_data...\n",
      "[nltk_data]   Package stopwords is already up-to-date!\n"
     ]
    },
    {
     "data": {
      "text/plain": [
       "True"
      ]
     },
     "execution_count": 5,
     "metadata": {},
     "output_type": "execute_result"
    }
   ],
   "source": [
    "import nltk\n",
    "import re\n",
    "from nltk.tokenize import word_tokenize\n",
    "from nltk.corpus import stopwords\n",
    "from nltk.stem.porter import PorterStemmer\n",
    "\n",
    "#nltk.download('punkt')         #구두점\n",
    "nltk.download('stopwords')     #불용어"
   ]
  },
  {
   "cell_type": "code",
   "execution_count": 6,
   "metadata": {},
   "outputs": [],
   "source": [
    "def clean_text(text):\n",
    "    text = text.lower()   #소문자\n",
    "    text = re.sub(\"[^a-zA-Z]\",\" \",text)  #single character 제거\n",
    "\n",
    "    #불용어 제거\n",
    "    stop = stopwords.words('english')\n",
    "    #text =  text.apply(lambda x:' '.join([word for word in x.split() if word not in (stop)]))\n",
    "    #df에서만 적용, input string 이므로 적용 X\n",
    "    text = ' '.join(word for word in text.split() if word not in stop)\n",
    "    \n",
    "    #어간추출\n",
    "    porter = PorterStemmer()\n",
    "    text =' '.join(porter.stem(word) for word in text.split())\n",
    "\n",
    "    \n",
    "    return text\n",
    "\n",
    "#함수안에 불용어 처리 apply dataframe 0에서가능\n",
    "#lower은 series에서 불가능, str에서만 가능\n",
    "#입력에서 df으로 주어서 충돌\n",
    "#lower를 만족하려면 -> X_trian[].apply(함수이름)\n",
    "#df에 적용하려면 -> 함수(df)"
   ]
  },
  {
   "cell_type": "code",
   "execution_count": 7,
   "metadata": {},
   "outputs": [],
   "source": [
    "data['review_clean'] = data['review'].apply(clean_text)"
   ]
  },
  {
   "cell_type": "code",
   "execution_count": 8,
   "metadata": {},
   "outputs": [
    {
     "data": {
      "text/html": [
       "<div>\n",
       "<style scoped>\n",
       "    .dataframe tbody tr th:only-of-type {\n",
       "        vertical-align: middle;\n",
       "    }\n",
       "\n",
       "    .dataframe tbody tr th {\n",
       "        vertical-align: top;\n",
       "    }\n",
       "\n",
       "    .dataframe thead th {\n",
       "        text-align: right;\n",
       "    }\n",
       "</style>\n",
       "<table border=\"1\" class=\"dataframe\">\n",
       "  <thead>\n",
       "    <tr style=\"text-align: right;\">\n",
       "      <th></th>\n",
       "      <th>review</th>\n",
       "      <th>sentiment</th>\n",
       "      <th>review_clean</th>\n",
       "    </tr>\n",
       "  </thead>\n",
       "  <tbody>\n",
       "    <tr>\n",
       "      <th>0</th>\n",
       "      <td>One of the other reviewers has mentioned that ...</td>\n",
       "      <td>positive</td>\n",
       "      <td>one review mention watch oz episod hook right ...</td>\n",
       "    </tr>\n",
       "    <tr>\n",
       "      <th>1</th>\n",
       "      <td>A wonderful little production. &lt;br /&gt;&lt;br /&gt;The...</td>\n",
       "      <td>positive</td>\n",
       "      <td>wonder littl product br br film techniqu unass...</td>\n",
       "    </tr>\n",
       "    <tr>\n",
       "      <th>2</th>\n",
       "      <td>I thought this was a wonderful way to spend ti...</td>\n",
       "      <td>positive</td>\n",
       "      <td>thought wonder way spend time hot summer weeke...</td>\n",
       "    </tr>\n",
       "    <tr>\n",
       "      <th>3</th>\n",
       "      <td>Basically there's a family where a little boy ...</td>\n",
       "      <td>negative</td>\n",
       "      <td>basic famili littl boy jake think zombi closet...</td>\n",
       "    </tr>\n",
       "    <tr>\n",
       "      <th>4</th>\n",
       "      <td>Petter Mattei's \"Love in the Time of Money\" is...</td>\n",
       "      <td>positive</td>\n",
       "      <td>petter mattei love time money visual stun film...</td>\n",
       "    </tr>\n",
       "    <tr>\n",
       "      <th>...</th>\n",
       "      <td>...</td>\n",
       "      <td>...</td>\n",
       "      <td>...</td>\n",
       "    </tr>\n",
       "    <tr>\n",
       "      <th>49995</th>\n",
       "      <td>I thought this movie did a down right good job...</td>\n",
       "      <td>positive</td>\n",
       "      <td>thought movi right good job creativ origin fir...</td>\n",
       "    </tr>\n",
       "    <tr>\n",
       "      <th>49996</th>\n",
       "      <td>Bad plot, bad dialogue, bad acting, idiotic di...</td>\n",
       "      <td>negative</td>\n",
       "      <td>bad plot bad dialogu bad act idiot direct anno...</td>\n",
       "    </tr>\n",
       "    <tr>\n",
       "      <th>49997</th>\n",
       "      <td>I am a Catholic taught in parochial elementary...</td>\n",
       "      <td>negative</td>\n",
       "      <td>cathol taught parochi elementari school nun ta...</td>\n",
       "    </tr>\n",
       "    <tr>\n",
       "      <th>49998</th>\n",
       "      <td>I'm going to have to disagree with the previou...</td>\n",
       "      <td>negative</td>\n",
       "      <td>go disagre previou comment side maltin one sec...</td>\n",
       "    </tr>\n",
       "    <tr>\n",
       "      <th>49999</th>\n",
       "      <td>No one expects the Star Trek movies to be high...</td>\n",
       "      <td>negative</td>\n",
       "      <td>one expect star trek movi high art fan expect ...</td>\n",
       "    </tr>\n",
       "  </tbody>\n",
       "</table>\n",
       "<p>50000 rows × 3 columns</p>\n",
       "</div>"
      ],
      "text/plain": [
       "                                                  review sentiment  \\\n",
       "0      One of the other reviewers has mentioned that ...  positive   \n",
       "1      A wonderful little production. <br /><br />The...  positive   \n",
       "2      I thought this was a wonderful way to spend ti...  positive   \n",
       "3      Basically there's a family where a little boy ...  negative   \n",
       "4      Petter Mattei's \"Love in the Time of Money\" is...  positive   \n",
       "...                                                  ...       ...   \n",
       "49995  I thought this movie did a down right good job...  positive   \n",
       "49996  Bad plot, bad dialogue, bad acting, idiotic di...  negative   \n",
       "49997  I am a Catholic taught in parochial elementary...  negative   \n",
       "49998  I'm going to have to disagree with the previou...  negative   \n",
       "49999  No one expects the Star Trek movies to be high...  negative   \n",
       "\n",
       "                                            review_clean  \n",
       "0      one review mention watch oz episod hook right ...  \n",
       "1      wonder littl product br br film techniqu unass...  \n",
       "2      thought wonder way spend time hot summer weeke...  \n",
       "3      basic famili littl boy jake think zombi closet...  \n",
       "4      petter mattei love time money visual stun film...  \n",
       "...                                                  ...  \n",
       "49995  thought movi right good job creativ origin fir...  \n",
       "49996  bad plot bad dialogu bad act idiot direct anno...  \n",
       "49997  cathol taught parochi elementari school nun ta...  \n",
       "49998  go disagre previou comment side maltin one sec...  \n",
       "49999  one expect star trek movi high art fan expect ...  \n",
       "\n",
       "[50000 rows x 3 columns]"
      ]
     },
     "execution_count": 8,
     "metadata": {},
     "output_type": "execute_result"
    }
   ],
   "source": [
    "data"
   ]
  },
  {
   "attachments": {},
   "cell_type": "markdown",
   "metadata": {},
   "source": [
    "## Tokenize"
   ]
  },
  {
   "cell_type": "code",
   "execution_count": 9,
   "metadata": {},
   "outputs": [],
   "source": [
    "data['review_tokenized'] = data['review_clean'].apply(word_tokenize)"
   ]
  },
  {
   "cell_type": "code",
   "execution_count": 10,
   "metadata": {},
   "outputs": [
    {
     "data": {
      "text/html": [
       "<div>\n",
       "<style scoped>\n",
       "    .dataframe tbody tr th:only-of-type {\n",
       "        vertical-align: middle;\n",
       "    }\n",
       "\n",
       "    .dataframe tbody tr th {\n",
       "        vertical-align: top;\n",
       "    }\n",
       "\n",
       "    .dataframe thead th {\n",
       "        text-align: right;\n",
       "    }\n",
       "</style>\n",
       "<table border=\"1\" class=\"dataframe\">\n",
       "  <thead>\n",
       "    <tr style=\"text-align: right;\">\n",
       "      <th></th>\n",
       "      <th>review</th>\n",
       "      <th>sentiment</th>\n",
       "      <th>review_clean</th>\n",
       "      <th>review_tokenized</th>\n",
       "    </tr>\n",
       "  </thead>\n",
       "  <tbody>\n",
       "    <tr>\n",
       "      <th>0</th>\n",
       "      <td>One of the other reviewers has mentioned that ...</td>\n",
       "      <td>positive</td>\n",
       "      <td>one review mention watch oz episod hook right ...</td>\n",
       "      <td>[one, review, mention, watch, oz, episod, hook...</td>\n",
       "    </tr>\n",
       "    <tr>\n",
       "      <th>1</th>\n",
       "      <td>A wonderful little production. &lt;br /&gt;&lt;br /&gt;The...</td>\n",
       "      <td>positive</td>\n",
       "      <td>wonder littl product br br film techniqu unass...</td>\n",
       "      <td>[wonder, littl, product, br, br, film, techniq...</td>\n",
       "    </tr>\n",
       "    <tr>\n",
       "      <th>2</th>\n",
       "      <td>I thought this was a wonderful way to spend ti...</td>\n",
       "      <td>positive</td>\n",
       "      <td>thought wonder way spend time hot summer weeke...</td>\n",
       "      <td>[thought, wonder, way, spend, time, hot, summe...</td>\n",
       "    </tr>\n",
       "    <tr>\n",
       "      <th>3</th>\n",
       "      <td>Basically there's a family where a little boy ...</td>\n",
       "      <td>negative</td>\n",
       "      <td>basic famili littl boy jake think zombi closet...</td>\n",
       "      <td>[basic, famili, littl, boy, jake, think, zombi...</td>\n",
       "    </tr>\n",
       "    <tr>\n",
       "      <th>4</th>\n",
       "      <td>Petter Mattei's \"Love in the Time of Money\" is...</td>\n",
       "      <td>positive</td>\n",
       "      <td>petter mattei love time money visual stun film...</td>\n",
       "      <td>[petter, mattei, love, time, money, visual, st...</td>\n",
       "    </tr>\n",
       "    <tr>\n",
       "      <th>...</th>\n",
       "      <td>...</td>\n",
       "      <td>...</td>\n",
       "      <td>...</td>\n",
       "      <td>...</td>\n",
       "    </tr>\n",
       "    <tr>\n",
       "      <th>49995</th>\n",
       "      <td>I thought this movie did a down right good job...</td>\n",
       "      <td>positive</td>\n",
       "      <td>thought movi right good job creativ origin fir...</td>\n",
       "      <td>[thought, movi, right, good, job, creativ, ori...</td>\n",
       "    </tr>\n",
       "    <tr>\n",
       "      <th>49996</th>\n",
       "      <td>Bad plot, bad dialogue, bad acting, idiotic di...</td>\n",
       "      <td>negative</td>\n",
       "      <td>bad plot bad dialogu bad act idiot direct anno...</td>\n",
       "      <td>[bad, plot, bad, dialogu, bad, act, idiot, dir...</td>\n",
       "    </tr>\n",
       "    <tr>\n",
       "      <th>49997</th>\n",
       "      <td>I am a Catholic taught in parochial elementary...</td>\n",
       "      <td>negative</td>\n",
       "      <td>cathol taught parochi elementari school nun ta...</td>\n",
       "      <td>[cathol, taught, parochi, elementari, school, ...</td>\n",
       "    </tr>\n",
       "    <tr>\n",
       "      <th>49998</th>\n",
       "      <td>I'm going to have to disagree with the previou...</td>\n",
       "      <td>negative</td>\n",
       "      <td>go disagre previou comment side maltin one sec...</td>\n",
       "      <td>[go, disagre, previou, comment, side, maltin, ...</td>\n",
       "    </tr>\n",
       "    <tr>\n",
       "      <th>49999</th>\n",
       "      <td>No one expects the Star Trek movies to be high...</td>\n",
       "      <td>negative</td>\n",
       "      <td>one expect star trek movi high art fan expect ...</td>\n",
       "      <td>[one, expect, star, trek, movi, high, art, fan...</td>\n",
       "    </tr>\n",
       "  </tbody>\n",
       "</table>\n",
       "<p>50000 rows × 4 columns</p>\n",
       "</div>"
      ],
      "text/plain": [
       "                                                  review sentiment  \\\n",
       "0      One of the other reviewers has mentioned that ...  positive   \n",
       "1      A wonderful little production. <br /><br />The...  positive   \n",
       "2      I thought this was a wonderful way to spend ti...  positive   \n",
       "3      Basically there's a family where a little boy ...  negative   \n",
       "4      Petter Mattei's \"Love in the Time of Money\" is...  positive   \n",
       "...                                                  ...       ...   \n",
       "49995  I thought this movie did a down right good job...  positive   \n",
       "49996  Bad plot, bad dialogue, bad acting, idiotic di...  negative   \n",
       "49997  I am a Catholic taught in parochial elementary...  negative   \n",
       "49998  I'm going to have to disagree with the previou...  negative   \n",
       "49999  No one expects the Star Trek movies to be high...  negative   \n",
       "\n",
       "                                            review_clean  \\\n",
       "0      one review mention watch oz episod hook right ...   \n",
       "1      wonder littl product br br film techniqu unass...   \n",
       "2      thought wonder way spend time hot summer weeke...   \n",
       "3      basic famili littl boy jake think zombi closet...   \n",
       "4      petter mattei love time money visual stun film...   \n",
       "...                                                  ...   \n",
       "49995  thought movi right good job creativ origin fir...   \n",
       "49996  bad plot bad dialogu bad act idiot direct anno...   \n",
       "49997  cathol taught parochi elementari school nun ta...   \n",
       "49998  go disagre previou comment side maltin one sec...   \n",
       "49999  one expect star trek movi high art fan expect ...   \n",
       "\n",
       "                                        review_tokenized  \n",
       "0      [one, review, mention, watch, oz, episod, hook...  \n",
       "1      [wonder, littl, product, br, br, film, techniq...  \n",
       "2      [thought, wonder, way, spend, time, hot, summe...  \n",
       "3      [basic, famili, littl, boy, jake, think, zombi...  \n",
       "4      [petter, mattei, love, time, money, visual, st...  \n",
       "...                                                  ...  \n",
       "49995  [thought, movi, right, good, job, creativ, ori...  \n",
       "49996  [bad, plot, bad, dialogu, bad, act, idiot, dir...  \n",
       "49997  [cathol, taught, parochi, elementari, school, ...  \n",
       "49998  [go, disagre, previou, comment, side, maltin, ...  \n",
       "49999  [one, expect, star, trek, movi, high, art, fan...  \n",
       "\n",
       "[50000 rows x 4 columns]"
      ]
     },
     "execution_count": 10,
     "metadata": {},
     "output_type": "execute_result"
    }
   ],
   "source": [
    "data"
   ]
  },
  {
   "attachments": {},
   "cell_type": "markdown",
   "metadata": {},
   "source": [
    "## Split data"
   ]
  },
  {
   "cell_type": "code",
   "execution_count": 14,
   "metadata": {},
   "outputs": [
    {
     "name": "stdout",
     "output_type": "stream",
     "text": [
      "35000 35000\n"
     ]
    }
   ],
   "source": [
    "from sklearn.model_selection import train_test_split\n",
    "\n",
    "df_x = data['review_tokenized']\n",
    "df_y = data['sentiment']\n",
    "X_train, y_train,X_test,  y_test = train_test_split(df_x, df_y, test_size=0.3, random_state=777)\n",
    "\n",
    "print(len(X_train), len(X_test))"
   ]
  },
  {
   "cell_type": "code",
   "execution_count": 15,
   "metadata": {},
   "outputs": [
    {
     "name": "stdout",
     "output_type": "stream",
     "text": [
      "23509    [terribl, movi, hurt, watch, almost, everi, ac...\n",
      "47277    [movi, label, disney, pictur, probabl, would, ...\n",
      "42975    [okay, got, extrem, verhoeven, violenc, althou...\n",
      "25487    [well, film, start, good, half, hour, becom, b...\n",
      "8065     [saw, movi, night, honestli, say, one, worst, ...\n",
      "                               ...                        \n",
      "26695    [surpris, well, averag, comedi, score, imdb, v...\n",
      "36785    [realli, enjoy, movi, succeed, someth, movi, p...\n",
      "40535    [roy, andersson, manag, craft, someth, defi, n...\n",
      "15931    [spend, lot, time, energi, comment, want, add,...\n",
      "47919    [fan, hammer, type, horror, film, movi, treat,...\n",
      "Name: review_tokenized, Length: 35000, dtype: object 23509    negative\n",
      "47277    negative\n",
      "42975    positive\n",
      "25487    negative\n",
      "8065     negative\n",
      "           ...   \n",
      "26695    positive\n",
      "36785    positive\n",
      "40535    positive\n",
      "15931    negative\n",
      "47919    positive\n",
      "Name: sentiment, Length: 35000, dtype: object\n",
      "35000 35000\n"
     ]
    }
   ],
   "source": [
    "print(X_train, X_test)\n",
    "print(len(X_train), len(X_test))"
   ]
  },
  {
   "cell_type": "code",
   "execution_count": 16,
   "metadata": {},
   "outputs": [
    {
     "name": "stdout",
     "output_type": "stream",
     "text": [
      "17034    [go, berserk, actual, one, funniest, candi, fi...\n",
      "16126    [tarzan, mate, tarzan, movi, see, kid, sound, ...\n",
      "47636    [right, away, film, ridicul, redeem, aspect, e...\n",
      "29950    [david, webb, peopl, meet, paul, anderson, alr...\n",
      "33155    [film, utter, tripe, possibl, fact, pollut, su...\n",
      "                               ...                        \n",
      "24141    [resembl, much, movi, like, pulp, fiction, res...\n",
      "40676    [wide, unknown, strang, littl, western, mindbl...\n",
      "17300    [possibl, spoiler, ahead, br, br, say, alreadi...\n",
      "29511    [excel, thriller, turkey, make, sens, great, j...\n",
      "6661     [seen, evil, dead, trilog, bubba, ho, tep, kno...\n",
      "Name: review_tokenized, Length: 15000, dtype: object 17034    positive\n",
      "16126    positive\n",
      "47636    negative\n",
      "29950    positive\n",
      "33155    negative\n",
      "           ...   \n",
      "24141    positive\n",
      "40676    positive\n",
      "17300    negative\n",
      "29511    positive\n",
      "6661     positive\n",
      "Name: sentiment, Length: 15000, dtype: object\n",
      "15000 15000\n"
     ]
    }
   ],
   "source": [
    "\n",
    "print(y_train, y_test)\n",
    "print(len(y_train), len(y_test))"
   ]
  },
  {
   "cell_type": "code",
   "execution_count": null,
   "metadata": {},
   "outputs": [],
   "source": []
  }
 ],
 "metadata": {
  "kernelspec": {
   "display_name": "summer",
   "language": "python",
   "name": "summer"
  },
  "language_info": {
   "codemirror_mode": {
    "name": "ipython",
    "version": 3
   },
   "file_extension": ".py",
   "mimetype": "text/x-python",
   "name": "python",
   "nbconvert_exporter": "python",
   "pygments_lexer": "ipython3",
   "version": "3.7.16"
  },
  "orig_nbformat": 4
 },
 "nbformat": 4,
 "nbformat_minor": 2
}
